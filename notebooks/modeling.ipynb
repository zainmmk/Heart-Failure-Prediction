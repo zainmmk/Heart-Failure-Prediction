{
 "cells": [
  {
   "cell_type": "code",
   "execution_count": 285,
   "id": "e452b9ce-105e-4cbc-8080-07e8c541a32c",
   "metadata": {},
   "outputs": [],
   "source": [
    "import pandas as pd\n",
    "import numpy as np\n",
    "from sklearn.pipeline import Pipeline\n",
    "from sklearn.preprocessing import StandardScaler\n",
    "from sklearn.linear_model import LogisticRegression\n",
    "from sklearn.compose import ColumnTransformer\n",
    "from sklearn.preprocessing import OneHotEncoder\n",
    "from sklearn.impute import KNNImputer\n",
    "from sklearn import preprocessing\n",
    "import matplotlib.pyplot as plt\n",
    "from sklearn.metrics import r2_score\n",
    "from sklearn.metrics import accuracy_score\n",
    "from sklearn.metrics import recall_score\n",
    "from sklearn.metrics import precision_score\n",
    "from sklearn.impute import SimpleImputer\n",
    "import seaborn as sns\n",
    "from sklearn.metrics import confusion_matrix"
   ]
  },
  {
   "cell_type": "code",
   "execution_count": 248,
   "id": "5aa7a9d8-cd66-47d9-b0b3-710cc99e4817",
   "metadata": {},
   "outputs": [],
   "source": [
    "df = pd.read_csv('../data/cleaned_heart.csv')"
   ]
  },
  {
   "cell_type": "code",
   "execution_count": 249,
   "id": "e2ff3c68-e51e-4775-9560-688a1836236b",
   "metadata": {},
   "outputs": [
    {
     "data": {
      "text/html": [
       "<div>\n",
       "<style scoped>\n",
       "    .dataframe tbody tr th:only-of-type {\n",
       "        vertical-align: middle;\n",
       "    }\n",
       "\n",
       "    .dataframe tbody tr th {\n",
       "        vertical-align: top;\n",
       "    }\n",
       "\n",
       "    .dataframe thead th {\n",
       "        text-align: right;\n",
       "    }\n",
       "</style>\n",
       "<table border=\"1\" class=\"dataframe\">\n",
       "  <thead>\n",
       "    <tr style=\"text-align: right;\">\n",
       "      <th></th>\n",
       "      <th>Age</th>\n",
       "      <th>Sex</th>\n",
       "      <th>ChestPainType</th>\n",
       "      <th>RestingBP</th>\n",
       "      <th>Cholesterol</th>\n",
       "      <th>FastingBS</th>\n",
       "      <th>RestingECG</th>\n",
       "      <th>MaxHR</th>\n",
       "      <th>ExerciseAngina</th>\n",
       "      <th>Oldpeak</th>\n",
       "      <th>ST_Slope</th>\n",
       "      <th>HeartDisease</th>\n",
       "    </tr>\n",
       "  </thead>\n",
       "  <tbody>\n",
       "    <tr>\n",
       "      <th>0</th>\n",
       "      <td>40</td>\n",
       "      <td>M</td>\n",
       "      <td>ATA</td>\n",
       "      <td>140.0</td>\n",
       "      <td>289.0</td>\n",
       "      <td>0</td>\n",
       "      <td>Normal</td>\n",
       "      <td>172</td>\n",
       "      <td>N</td>\n",
       "      <td>0.0</td>\n",
       "      <td>Up</td>\n",
       "      <td>0</td>\n",
       "    </tr>\n",
       "    <tr>\n",
       "      <th>1</th>\n",
       "      <td>49</td>\n",
       "      <td>F</td>\n",
       "      <td>NAP</td>\n",
       "      <td>160.0</td>\n",
       "      <td>180.0</td>\n",
       "      <td>0</td>\n",
       "      <td>Normal</td>\n",
       "      <td>156</td>\n",
       "      <td>N</td>\n",
       "      <td>1.0</td>\n",
       "      <td>Flat</td>\n",
       "      <td>1</td>\n",
       "    </tr>\n",
       "    <tr>\n",
       "      <th>2</th>\n",
       "      <td>37</td>\n",
       "      <td>M</td>\n",
       "      <td>ATA</td>\n",
       "      <td>130.0</td>\n",
       "      <td>283.0</td>\n",
       "      <td>0</td>\n",
       "      <td>ST</td>\n",
       "      <td>98</td>\n",
       "      <td>N</td>\n",
       "      <td>0.0</td>\n",
       "      <td>Up</td>\n",
       "      <td>0</td>\n",
       "    </tr>\n",
       "    <tr>\n",
       "      <th>3</th>\n",
       "      <td>48</td>\n",
       "      <td>F</td>\n",
       "      <td>ASY</td>\n",
       "      <td>138.0</td>\n",
       "      <td>214.0</td>\n",
       "      <td>0</td>\n",
       "      <td>Normal</td>\n",
       "      <td>108</td>\n",
       "      <td>Y</td>\n",
       "      <td>1.5</td>\n",
       "      <td>Flat</td>\n",
       "      <td>1</td>\n",
       "    </tr>\n",
       "    <tr>\n",
       "      <th>4</th>\n",
       "      <td>54</td>\n",
       "      <td>M</td>\n",
       "      <td>NAP</td>\n",
       "      <td>150.0</td>\n",
       "      <td>195.0</td>\n",
       "      <td>0</td>\n",
       "      <td>Normal</td>\n",
       "      <td>122</td>\n",
       "      <td>N</td>\n",
       "      <td>0.0</td>\n",
       "      <td>Up</td>\n",
       "      <td>0</td>\n",
       "    </tr>\n",
       "  </tbody>\n",
       "</table>\n",
       "</div>"
      ],
      "text/plain": [
       "   Age Sex ChestPainType  RestingBP  Cholesterol  FastingBS RestingECG  MaxHR  \\\n",
       "0   40   M           ATA      140.0        289.0          0     Normal    172   \n",
       "1   49   F           NAP      160.0        180.0          0     Normal    156   \n",
       "2   37   M           ATA      130.0        283.0          0         ST     98   \n",
       "3   48   F           ASY      138.0        214.0          0     Normal    108   \n",
       "4   54   M           NAP      150.0        195.0          0     Normal    122   \n",
       "\n",
       "  ExerciseAngina  Oldpeak ST_Slope  HeartDisease  \n",
       "0              N      0.0       Up             0  \n",
       "1              N      1.0     Flat             1  \n",
       "2              N      0.0       Up             0  \n",
       "3              Y      1.5     Flat             1  \n",
       "4              N      0.0       Up             0  "
      ]
     },
     "execution_count": 249,
     "metadata": {},
     "output_type": "execute_result"
    }
   ],
   "source": [
    "df.head()"
   ]
  },
  {
   "cell_type": "markdown",
   "id": "90f4bb5f-2b44-434b-83d5-6564729c4f7e",
   "metadata": {},
   "source": [
    "### Aiming for high recall remember!!"
   ]
  },
  {
   "cell_type": "code",
   "execution_count": 60,
   "id": "99de3883-90bd-489c-91d8-e6cd608e5105",
   "metadata": {},
   "outputs": [],
   "source": [
    "from sklearn.model_selection import train_test_split\n",
    "X = df.iloc[:,:-1]\n",
    "y = df.iloc[:,-1]\n",
    "X_train, X_test, y_train, y_test = train_test_split(X, y, test_size=0.25)"
   ]
  },
  {
   "cell_type": "code",
   "execution_count": 61,
   "id": "3480ae2f-404f-464e-bbe9-e1ee946df9ce",
   "metadata": {},
   "outputs": [],
   "source": [
    "categorical_preprocessing = Pipeline([('ohe', OneHotEncoder())])\n",
    "numerical_preprocessing = Pipeline([('imputer', KNNImputer(n_neighbors=5))])\n",
    "preprocess = ColumnTransformer([\n",
    "    ('categorical_preprocessing', categorical_preprocessing, ['ChestPainType','RestingECG','ST_Slope','Sex','FastingBS','ExerciseAngina']),\n",
    "    ('numerical_preprocessing', numerical_preprocessing, ['Age','RestingBP','Cholesterol','MaxHR','Oldpeak']),\n",
    "    ('scaler', StandardScaler(), ['Age','RestingBP','Cholesterol','MaxHR','Oldpeak'])\n",
    "])"
   ]
  },
  {
   "cell_type": "code",
   "execution_count": 62,
   "id": "c5826ce3-b85f-488f-98b3-a54ea925c873",
   "metadata": {},
   "outputs": [],
   "source": [
    "pipeline_baseline = Pipeline([\n",
    "    ('preprocess', preprocess),\n",
    "    ('lr', LogisticRegression(max_iter=500))\n",
    "])"
   ]
  },
  {
   "cell_type": "code",
   "execution_count": 129,
   "id": "0cd08e44-e750-40bd-8898-7c3f151679cd",
   "metadata": {},
   "outputs": [
    {
     "data": {
      "text/html": [
       "<style>#sk-container-id-13 {color: black;background-color: white;}#sk-container-id-13 pre{padding: 0;}#sk-container-id-13 div.sk-toggleable {background-color: white;}#sk-container-id-13 label.sk-toggleable__label {cursor: pointer;display: block;width: 100%;margin-bottom: 0;padding: 0.3em;box-sizing: border-box;text-align: center;}#sk-container-id-13 label.sk-toggleable__label-arrow:before {content: \"▸\";float: left;margin-right: 0.25em;color: #696969;}#sk-container-id-13 label.sk-toggleable__label-arrow:hover:before {color: black;}#sk-container-id-13 div.sk-estimator:hover label.sk-toggleable__label-arrow:before {color: black;}#sk-container-id-13 div.sk-toggleable__content {max-height: 0;max-width: 0;overflow: hidden;text-align: left;background-color: #f0f8ff;}#sk-container-id-13 div.sk-toggleable__content pre {margin: 0.2em;color: black;border-radius: 0.25em;background-color: #f0f8ff;}#sk-container-id-13 input.sk-toggleable__control:checked~div.sk-toggleable__content {max-height: 200px;max-width: 100%;overflow: auto;}#sk-container-id-13 input.sk-toggleable__control:checked~label.sk-toggleable__label-arrow:before {content: \"▾\";}#sk-container-id-13 div.sk-estimator input.sk-toggleable__control:checked~label.sk-toggleable__label {background-color: #d4ebff;}#sk-container-id-13 div.sk-label input.sk-toggleable__control:checked~label.sk-toggleable__label {background-color: #d4ebff;}#sk-container-id-13 input.sk-hidden--visually {border: 0;clip: rect(1px 1px 1px 1px);clip: rect(1px, 1px, 1px, 1px);height: 1px;margin: -1px;overflow: hidden;padding: 0;position: absolute;width: 1px;}#sk-container-id-13 div.sk-estimator {font-family: monospace;background-color: #f0f8ff;border: 1px dotted black;border-radius: 0.25em;box-sizing: border-box;margin-bottom: 0.5em;}#sk-container-id-13 div.sk-estimator:hover {background-color: #d4ebff;}#sk-container-id-13 div.sk-parallel-item::after {content: \"\";width: 100%;border-bottom: 1px solid gray;flex-grow: 1;}#sk-container-id-13 div.sk-label:hover label.sk-toggleable__label {background-color: #d4ebff;}#sk-container-id-13 div.sk-serial::before {content: \"\";position: absolute;border-left: 1px solid gray;box-sizing: border-box;top: 0;bottom: 0;left: 50%;z-index: 0;}#sk-container-id-13 div.sk-serial {display: flex;flex-direction: column;align-items: center;background-color: white;padding-right: 0.2em;padding-left: 0.2em;position: relative;}#sk-container-id-13 div.sk-item {position: relative;z-index: 1;}#sk-container-id-13 div.sk-parallel {display: flex;align-items: stretch;justify-content: center;background-color: white;position: relative;}#sk-container-id-13 div.sk-item::before, #sk-container-id-13 div.sk-parallel-item::before {content: \"\";position: absolute;border-left: 1px solid gray;box-sizing: border-box;top: 0;bottom: 0;left: 50%;z-index: -1;}#sk-container-id-13 div.sk-parallel-item {display: flex;flex-direction: column;z-index: 1;position: relative;background-color: white;}#sk-container-id-13 div.sk-parallel-item:first-child::after {align-self: flex-end;width: 50%;}#sk-container-id-13 div.sk-parallel-item:last-child::after {align-self: flex-start;width: 50%;}#sk-container-id-13 div.sk-parallel-item:only-child::after {width: 0;}#sk-container-id-13 div.sk-dashed-wrapped {border: 1px dashed gray;margin: 0 0.4em 0.5em 0.4em;box-sizing: border-box;padding-bottom: 0.4em;background-color: white;}#sk-container-id-13 div.sk-label label {font-family: monospace;font-weight: bold;display: inline-block;line-height: 1.2em;}#sk-container-id-13 div.sk-label-container {text-align: center;}#sk-container-id-13 div.sk-container {/* jupyter's `normalize.less` sets `[hidden] { display: none; }` but bootstrap.min.css set `[hidden] { display: none !important; }` so we also need the `!important` here to be able to override the default hidden behavior on the sphinx rendered scikit-learn.org. See: https://github.com/scikit-learn/scikit-learn/issues/21755 */display: inline-block !important;position: relative;}#sk-container-id-13 div.sk-text-repr-fallback {display: none;}</style><div id=\"sk-container-id-13\" class=\"sk-top-container\"><div class=\"sk-text-repr-fallback\"><pre>Pipeline(steps=[(&#x27;preprocess&#x27;,\n",
       "                 ColumnTransformer(transformers=[(&#x27;categorical_preprocessing&#x27;,\n",
       "                                                  Pipeline(steps=[(&#x27;ohe&#x27;,\n",
       "                                                                   OneHotEncoder())]),\n",
       "                                                  [&#x27;ChestPainType&#x27;,\n",
       "                                                   &#x27;RestingECG&#x27;, &#x27;ST_Slope&#x27;,\n",
       "                                                   &#x27;Sex&#x27;, &#x27;FastingBS&#x27;,\n",
       "                                                   &#x27;ExerciseAngina&#x27;]),\n",
       "                                                 (&#x27;numerical_preprocessing&#x27;,\n",
       "                                                  Pipeline(steps=[(&#x27;imputer&#x27;,\n",
       "                                                                   KNNImputer())]),\n",
       "                                                  [&#x27;Age&#x27;, &#x27;RestingBP&#x27;,\n",
       "                                                   &#x27;Cholesterol&#x27;, &#x27;MaxHR&#x27;,\n",
       "                                                   &#x27;Oldpeak&#x27;]),\n",
       "                                                 (&#x27;scaler&#x27;, StandardScaler(),\n",
       "                                                  [&#x27;Age&#x27;, &#x27;RestingBP&#x27;,\n",
       "                                                   &#x27;Cholesterol&#x27;, &#x27;MaxHR&#x27;,\n",
       "                                                   &#x27;Oldpeak&#x27;])])),\n",
       "                (&#x27;lr&#x27;, LogisticRegression(max_iter=500))])</pre><b>In a Jupyter environment, please rerun this cell to show the HTML representation or trust the notebook. <br />On GitHub, the HTML representation is unable to render, please try loading this page with nbviewer.org.</b></div><div class=\"sk-container\" hidden><div class=\"sk-item sk-dashed-wrapped\"><div class=\"sk-label-container\"><div class=\"sk-label sk-toggleable\"><input class=\"sk-toggleable__control sk-hidden--visually\" id=\"sk-estimator-id-113\" type=\"checkbox\" ><label for=\"sk-estimator-id-113\" class=\"sk-toggleable__label sk-toggleable__label-arrow\">Pipeline</label><div class=\"sk-toggleable__content\"><pre>Pipeline(steps=[(&#x27;preprocess&#x27;,\n",
       "                 ColumnTransformer(transformers=[(&#x27;categorical_preprocessing&#x27;,\n",
       "                                                  Pipeline(steps=[(&#x27;ohe&#x27;,\n",
       "                                                                   OneHotEncoder())]),\n",
       "                                                  [&#x27;ChestPainType&#x27;,\n",
       "                                                   &#x27;RestingECG&#x27;, &#x27;ST_Slope&#x27;,\n",
       "                                                   &#x27;Sex&#x27;, &#x27;FastingBS&#x27;,\n",
       "                                                   &#x27;ExerciseAngina&#x27;]),\n",
       "                                                 (&#x27;numerical_preprocessing&#x27;,\n",
       "                                                  Pipeline(steps=[(&#x27;imputer&#x27;,\n",
       "                                                                   KNNImputer())]),\n",
       "                                                  [&#x27;Age&#x27;, &#x27;RestingBP&#x27;,\n",
       "                                                   &#x27;Cholesterol&#x27;, &#x27;MaxHR&#x27;,\n",
       "                                                   &#x27;Oldpeak&#x27;]),\n",
       "                                                 (&#x27;scaler&#x27;, StandardScaler(),\n",
       "                                                  [&#x27;Age&#x27;, &#x27;RestingBP&#x27;,\n",
       "                                                   &#x27;Cholesterol&#x27;, &#x27;MaxHR&#x27;,\n",
       "                                                   &#x27;Oldpeak&#x27;])])),\n",
       "                (&#x27;lr&#x27;, LogisticRegression(max_iter=500))])</pre></div></div></div><div class=\"sk-serial\"><div class=\"sk-item sk-dashed-wrapped\"><div class=\"sk-label-container\"><div class=\"sk-label sk-toggleable\"><input class=\"sk-toggleable__control sk-hidden--visually\" id=\"sk-estimator-id-114\" type=\"checkbox\" ><label for=\"sk-estimator-id-114\" class=\"sk-toggleable__label sk-toggleable__label-arrow\">preprocess: ColumnTransformer</label><div class=\"sk-toggleable__content\"><pre>ColumnTransformer(transformers=[(&#x27;categorical_preprocessing&#x27;,\n",
       "                                 Pipeline(steps=[(&#x27;ohe&#x27;, OneHotEncoder())]),\n",
       "                                 [&#x27;ChestPainType&#x27;, &#x27;RestingECG&#x27;, &#x27;ST_Slope&#x27;,\n",
       "                                  &#x27;Sex&#x27;, &#x27;FastingBS&#x27;, &#x27;ExerciseAngina&#x27;]),\n",
       "                                (&#x27;numerical_preprocessing&#x27;,\n",
       "                                 Pipeline(steps=[(&#x27;imputer&#x27;, KNNImputer())]),\n",
       "                                 [&#x27;Age&#x27;, &#x27;RestingBP&#x27;, &#x27;Cholesterol&#x27;, &#x27;MaxHR&#x27;,\n",
       "                                  &#x27;Oldpeak&#x27;]),\n",
       "                                (&#x27;scaler&#x27;, StandardScaler(),\n",
       "                                 [&#x27;Age&#x27;, &#x27;RestingBP&#x27;, &#x27;Cholesterol&#x27;, &#x27;MaxHR&#x27;,\n",
       "                                  &#x27;Oldpeak&#x27;])])</pre></div></div></div><div class=\"sk-parallel\"><div class=\"sk-parallel-item\"><div class=\"sk-item\"><div class=\"sk-label-container\"><div class=\"sk-label sk-toggleable\"><input class=\"sk-toggleable__control sk-hidden--visually\" id=\"sk-estimator-id-115\" type=\"checkbox\" ><label for=\"sk-estimator-id-115\" class=\"sk-toggleable__label sk-toggleable__label-arrow\">categorical_preprocessing</label><div class=\"sk-toggleable__content\"><pre>[&#x27;ChestPainType&#x27;, &#x27;RestingECG&#x27;, &#x27;ST_Slope&#x27;, &#x27;Sex&#x27;, &#x27;FastingBS&#x27;, &#x27;ExerciseAngina&#x27;]</pre></div></div></div><div class=\"sk-serial\"><div class=\"sk-item\"><div class=\"sk-serial\"><div class=\"sk-item\"><div class=\"sk-estimator sk-toggleable\"><input class=\"sk-toggleable__control sk-hidden--visually\" id=\"sk-estimator-id-116\" type=\"checkbox\" ><label for=\"sk-estimator-id-116\" class=\"sk-toggleable__label sk-toggleable__label-arrow\">OneHotEncoder</label><div class=\"sk-toggleable__content\"><pre>OneHotEncoder()</pre></div></div></div></div></div></div></div></div><div class=\"sk-parallel-item\"><div class=\"sk-item\"><div class=\"sk-label-container\"><div class=\"sk-label sk-toggleable\"><input class=\"sk-toggleable__control sk-hidden--visually\" id=\"sk-estimator-id-117\" type=\"checkbox\" ><label for=\"sk-estimator-id-117\" class=\"sk-toggleable__label sk-toggleable__label-arrow\">numerical_preprocessing</label><div class=\"sk-toggleable__content\"><pre>[&#x27;Age&#x27;, &#x27;RestingBP&#x27;, &#x27;Cholesterol&#x27;, &#x27;MaxHR&#x27;, &#x27;Oldpeak&#x27;]</pre></div></div></div><div class=\"sk-serial\"><div class=\"sk-item\"><div class=\"sk-serial\"><div class=\"sk-item\"><div class=\"sk-estimator sk-toggleable\"><input class=\"sk-toggleable__control sk-hidden--visually\" id=\"sk-estimator-id-118\" type=\"checkbox\" ><label for=\"sk-estimator-id-118\" class=\"sk-toggleable__label sk-toggleable__label-arrow\">KNNImputer</label><div class=\"sk-toggleable__content\"><pre>KNNImputer()</pre></div></div></div></div></div></div></div></div><div class=\"sk-parallel-item\"><div class=\"sk-item\"><div class=\"sk-label-container\"><div class=\"sk-label sk-toggleable\"><input class=\"sk-toggleable__control sk-hidden--visually\" id=\"sk-estimator-id-119\" type=\"checkbox\" ><label for=\"sk-estimator-id-119\" class=\"sk-toggleable__label sk-toggleable__label-arrow\">scaler</label><div class=\"sk-toggleable__content\"><pre>[&#x27;Age&#x27;, &#x27;RestingBP&#x27;, &#x27;Cholesterol&#x27;, &#x27;MaxHR&#x27;, &#x27;Oldpeak&#x27;]</pre></div></div></div><div class=\"sk-serial\"><div class=\"sk-item\"><div class=\"sk-estimator sk-toggleable\"><input class=\"sk-toggleable__control sk-hidden--visually\" id=\"sk-estimator-id-120\" type=\"checkbox\" ><label for=\"sk-estimator-id-120\" class=\"sk-toggleable__label sk-toggleable__label-arrow\">StandardScaler</label><div class=\"sk-toggleable__content\"><pre>StandardScaler()</pre></div></div></div></div></div></div></div></div><div class=\"sk-item\"><div class=\"sk-estimator sk-toggleable\"><input class=\"sk-toggleable__control sk-hidden--visually\" id=\"sk-estimator-id-121\" type=\"checkbox\" ><label for=\"sk-estimator-id-121\" class=\"sk-toggleable__label sk-toggleable__label-arrow\">LogisticRegression</label><div class=\"sk-toggleable__content\"><pre>LogisticRegression(max_iter=500)</pre></div></div></div></div></div></div></div>"
      ],
      "text/plain": [
       "Pipeline(steps=[('preprocess',\n",
       "                 ColumnTransformer(transformers=[('categorical_preprocessing',\n",
       "                                                  Pipeline(steps=[('ohe',\n",
       "                                                                   OneHotEncoder())]),\n",
       "                                                  ['ChestPainType',\n",
       "                                                   'RestingECG', 'ST_Slope',\n",
       "                                                   'Sex', 'FastingBS',\n",
       "                                                   'ExerciseAngina']),\n",
       "                                                 ('numerical_preprocessing',\n",
       "                                                  Pipeline(steps=[('imputer',\n",
       "                                                                   KNNImputer())]),\n",
       "                                                  ['Age', 'RestingBP',\n",
       "                                                   'Cholesterol', 'MaxHR',\n",
       "                                                   'Oldpeak']),\n",
       "                                                 ('scaler', StandardScaler(),\n",
       "                                                  ['Age', 'RestingBP',\n",
       "                                                   'Cholesterol', 'MaxHR',\n",
       "                                                   'Oldpeak'])])),\n",
       "                ('lr', LogisticRegression(max_iter=500))])"
      ]
     },
     "execution_count": 129,
     "metadata": {},
     "output_type": "execute_result"
    }
   ],
   "source": [
    "pipeline_baseline.fit(X_train, y_train)"
   ]
  },
  {
   "cell_type": "code",
   "execution_count": 130,
   "id": "a98b97cb-106c-4448-9acc-0b09c7bb36d5",
   "metadata": {},
   "outputs": [
    {
     "name": "stdout",
     "output_type": "stream",
     "text": [
      "r2 score: 0.321277239709443\n",
      "accuracy score: 0.8304347826086956\n",
      "recall score: 0.875\n",
      "precision score: 0.7967479674796748\n"
     ]
    }
   ],
   "source": [
    "y_predicted = pipeline_baseline.predict(X_test)\n",
    "r2 = r2_score(y_test, y_predicted)\n",
    "acc = accuracy_score(y_test, y_predicted)\n",
    "recal = recall_score(y_test, y_predicted)\n",
    "precision = precision_score(y_test, y_predicted)\n",
    "print('r2 score:', r2)\n",
    "print('accuracy score:', acc)\n",
    "print('recall score:', recal)\n",
    "print('precision score:', precision)"
   ]
  },
  {
   "cell_type": "code",
   "execution_count": 47,
   "id": "feb1b8e5-b143-442e-9f03-79bea61c0517",
   "metadata": {},
   "outputs": [],
   "source": [
    "import pickle\n",
    "pickle.dump(pipeline_baseline, open( \"../models/baseline_pipeline\", \"wb\" ) )"
   ]
  },
  {
   "cell_type": "code",
   "execution_count": 3,
   "id": "82c973e4-29f9-4940-94a4-24f362e11b92",
   "metadata": {},
   "outputs": [],
   "source": [
    "#baseline is done"
   ]
  },
  {
   "cell_type": "code",
   "execution_count": 24,
   "id": "d69724f2-a271-4082-b493-d2dbd5629f68",
   "metadata": {},
   "outputs": [],
   "source": [
    "from sklearn.model_selection import GridSearchCV\n",
    "from sklearn.ensemble import RandomForestClassifier\n",
    "from sklearn.svm import SVC"
   ]
  },
  {
   "cell_type": "code",
   "execution_count": 90,
   "id": "7451fb4a-56a1-46f1-a0a1-72bfe9b47dc9",
   "metadata": {},
   "outputs": [],
   "source": [
    "pipeline_rfc = Pipeline([\n",
    "    ('preprocess', preprocess),\n",
    "    ('rfc', RandomForestClassifier())\n",
    "])"
   ]
  },
  {
   "cell_type": "code",
   "execution_count": 91,
   "id": "9d8aa255-ff99-45b6-9650-43a47597e126",
   "metadata": {},
   "outputs": [],
   "source": [
    "params_rfc = {\"rfc__n_estimators\": [50, 100, 200],\n",
    "                  \"rfc__max_depth\": [5, 10, 20]\n",
    "                 }"
   ]
  },
  {
   "cell_type": "code",
   "execution_count": 92,
   "id": "fe9ba9ec-3f27-44f7-bcf6-995f62ffc89e",
   "metadata": {},
   "outputs": [],
   "source": [
    "gs_rfc = GridSearchCV(pipeline_rfc, params_rfc, cv=5)"
   ]
  },
  {
   "cell_type": "code",
   "execution_count": 124,
   "id": "8d574021-e23d-4b95-9631-4b28d86f6db6",
   "metadata": {},
   "outputs": [
    {
     "data": {
      "text/html": [
       "<style>#sk-container-id-12 {color: black;background-color: white;}#sk-container-id-12 pre{padding: 0;}#sk-container-id-12 div.sk-toggleable {background-color: white;}#sk-container-id-12 label.sk-toggleable__label {cursor: pointer;display: block;width: 100%;margin-bottom: 0;padding: 0.3em;box-sizing: border-box;text-align: center;}#sk-container-id-12 label.sk-toggleable__label-arrow:before {content: \"▸\";float: left;margin-right: 0.25em;color: #696969;}#sk-container-id-12 label.sk-toggleable__label-arrow:hover:before {color: black;}#sk-container-id-12 div.sk-estimator:hover label.sk-toggleable__label-arrow:before {color: black;}#sk-container-id-12 div.sk-toggleable__content {max-height: 0;max-width: 0;overflow: hidden;text-align: left;background-color: #f0f8ff;}#sk-container-id-12 div.sk-toggleable__content pre {margin: 0.2em;color: black;border-radius: 0.25em;background-color: #f0f8ff;}#sk-container-id-12 input.sk-toggleable__control:checked~div.sk-toggleable__content {max-height: 200px;max-width: 100%;overflow: auto;}#sk-container-id-12 input.sk-toggleable__control:checked~label.sk-toggleable__label-arrow:before {content: \"▾\";}#sk-container-id-12 div.sk-estimator input.sk-toggleable__control:checked~label.sk-toggleable__label {background-color: #d4ebff;}#sk-container-id-12 div.sk-label input.sk-toggleable__control:checked~label.sk-toggleable__label {background-color: #d4ebff;}#sk-container-id-12 input.sk-hidden--visually {border: 0;clip: rect(1px 1px 1px 1px);clip: rect(1px, 1px, 1px, 1px);height: 1px;margin: -1px;overflow: hidden;padding: 0;position: absolute;width: 1px;}#sk-container-id-12 div.sk-estimator {font-family: monospace;background-color: #f0f8ff;border: 1px dotted black;border-radius: 0.25em;box-sizing: border-box;margin-bottom: 0.5em;}#sk-container-id-12 div.sk-estimator:hover {background-color: #d4ebff;}#sk-container-id-12 div.sk-parallel-item::after {content: \"\";width: 100%;border-bottom: 1px solid gray;flex-grow: 1;}#sk-container-id-12 div.sk-label:hover label.sk-toggleable__label {background-color: #d4ebff;}#sk-container-id-12 div.sk-serial::before {content: \"\";position: absolute;border-left: 1px solid gray;box-sizing: border-box;top: 0;bottom: 0;left: 50%;z-index: 0;}#sk-container-id-12 div.sk-serial {display: flex;flex-direction: column;align-items: center;background-color: white;padding-right: 0.2em;padding-left: 0.2em;position: relative;}#sk-container-id-12 div.sk-item {position: relative;z-index: 1;}#sk-container-id-12 div.sk-parallel {display: flex;align-items: stretch;justify-content: center;background-color: white;position: relative;}#sk-container-id-12 div.sk-item::before, #sk-container-id-12 div.sk-parallel-item::before {content: \"\";position: absolute;border-left: 1px solid gray;box-sizing: border-box;top: 0;bottom: 0;left: 50%;z-index: -1;}#sk-container-id-12 div.sk-parallel-item {display: flex;flex-direction: column;z-index: 1;position: relative;background-color: white;}#sk-container-id-12 div.sk-parallel-item:first-child::after {align-self: flex-end;width: 50%;}#sk-container-id-12 div.sk-parallel-item:last-child::after {align-self: flex-start;width: 50%;}#sk-container-id-12 div.sk-parallel-item:only-child::after {width: 0;}#sk-container-id-12 div.sk-dashed-wrapped {border: 1px dashed gray;margin: 0 0.4em 0.5em 0.4em;box-sizing: border-box;padding-bottom: 0.4em;background-color: white;}#sk-container-id-12 div.sk-label label {font-family: monospace;font-weight: bold;display: inline-block;line-height: 1.2em;}#sk-container-id-12 div.sk-label-container {text-align: center;}#sk-container-id-12 div.sk-container {/* jupyter's `normalize.less` sets `[hidden] { display: none; }` but bootstrap.min.css set `[hidden] { display: none !important; }` so we also need the `!important` here to be able to override the default hidden behavior on the sphinx rendered scikit-learn.org. See: https://github.com/scikit-learn/scikit-learn/issues/21755 */display: inline-block !important;position: relative;}#sk-container-id-12 div.sk-text-repr-fallback {display: none;}</style><div id=\"sk-container-id-12\" class=\"sk-top-container\"><div class=\"sk-text-repr-fallback\"><pre>GridSearchCV(cv=5,\n",
       "             estimator=Pipeline(steps=[(&#x27;preprocess&#x27;,\n",
       "                                        ColumnTransformer(transformers=[(&#x27;categorical_preprocessing&#x27;,\n",
       "                                                                         Pipeline(steps=[(&#x27;ohe&#x27;,\n",
       "                                                                                          OneHotEncoder())]),\n",
       "                                                                         [&#x27;ChestPainType&#x27;,\n",
       "                                                                          &#x27;RestingECG&#x27;,\n",
       "                                                                          &#x27;ST_Slope&#x27;,\n",
       "                                                                          &#x27;Sex&#x27;,\n",
       "                                                                          &#x27;FastingBS&#x27;,\n",
       "                                                                          &#x27;ExerciseAngina&#x27;]),\n",
       "                                                                        (&#x27;numerical_preprocessing&#x27;,\n",
       "                                                                         Pipeline(steps=[(&#x27;imputer&#x27;,\n",
       "                                                                                          KNNImputer())]),\n",
       "                                                                         [&#x27;Age&#x27;,\n",
       "                                                                          &#x27;RestingBP&#x27;,\n",
       "                                                                          &#x27;Cholesterol&#x27;,\n",
       "                                                                          &#x27;MaxHR&#x27;,\n",
       "                                                                          &#x27;Oldpeak&#x27;]),\n",
       "                                                                        (&#x27;scaler&#x27;,\n",
       "                                                                         StandardScaler(),\n",
       "                                                                         [&#x27;Age&#x27;,\n",
       "                                                                          &#x27;RestingBP&#x27;,\n",
       "                                                                          &#x27;Cholesterol&#x27;,\n",
       "                                                                          &#x27;MaxHR&#x27;,\n",
       "                                                                          &#x27;Oldpeak&#x27;])])),\n",
       "                                       (&#x27;rfc&#x27;, RandomForestClassifier())]),\n",
       "             param_grid={&#x27;rfc__max_depth&#x27;: [5, 10, 20],\n",
       "                         &#x27;rfc__n_estimators&#x27;: [50, 100, 200]})</pre><b>In a Jupyter environment, please rerun this cell to show the HTML representation or trust the notebook. <br />On GitHub, the HTML representation is unable to render, please try loading this page with nbviewer.org.</b></div><div class=\"sk-container\" hidden><div class=\"sk-item sk-dashed-wrapped\"><div class=\"sk-label-container\"><div class=\"sk-label sk-toggleable\"><input class=\"sk-toggleable__control sk-hidden--visually\" id=\"sk-estimator-id-103\" type=\"checkbox\" ><label for=\"sk-estimator-id-103\" class=\"sk-toggleable__label sk-toggleable__label-arrow\">GridSearchCV</label><div class=\"sk-toggleable__content\"><pre>GridSearchCV(cv=5,\n",
       "             estimator=Pipeline(steps=[(&#x27;preprocess&#x27;,\n",
       "                                        ColumnTransformer(transformers=[(&#x27;categorical_preprocessing&#x27;,\n",
       "                                                                         Pipeline(steps=[(&#x27;ohe&#x27;,\n",
       "                                                                                          OneHotEncoder())]),\n",
       "                                                                         [&#x27;ChestPainType&#x27;,\n",
       "                                                                          &#x27;RestingECG&#x27;,\n",
       "                                                                          &#x27;ST_Slope&#x27;,\n",
       "                                                                          &#x27;Sex&#x27;,\n",
       "                                                                          &#x27;FastingBS&#x27;,\n",
       "                                                                          &#x27;ExerciseAngina&#x27;]),\n",
       "                                                                        (&#x27;numerical_preprocessing&#x27;,\n",
       "                                                                         Pipeline(steps=[(&#x27;imputer&#x27;,\n",
       "                                                                                          KNNImputer())]),\n",
       "                                                                         [&#x27;Age&#x27;,\n",
       "                                                                          &#x27;RestingBP&#x27;,\n",
       "                                                                          &#x27;Cholesterol&#x27;,\n",
       "                                                                          &#x27;MaxHR&#x27;,\n",
       "                                                                          &#x27;Oldpeak&#x27;]),\n",
       "                                                                        (&#x27;scaler&#x27;,\n",
       "                                                                         StandardScaler(),\n",
       "                                                                         [&#x27;Age&#x27;,\n",
       "                                                                          &#x27;RestingBP&#x27;,\n",
       "                                                                          &#x27;Cholesterol&#x27;,\n",
       "                                                                          &#x27;MaxHR&#x27;,\n",
       "                                                                          &#x27;Oldpeak&#x27;])])),\n",
       "                                       (&#x27;rfc&#x27;, RandomForestClassifier())]),\n",
       "             param_grid={&#x27;rfc__max_depth&#x27;: [5, 10, 20],\n",
       "                         &#x27;rfc__n_estimators&#x27;: [50, 100, 200]})</pre></div></div></div><div class=\"sk-parallel\"><div class=\"sk-parallel-item\"><div class=\"sk-item\"><div class=\"sk-label-container\"><div class=\"sk-label sk-toggleable\"><input class=\"sk-toggleable__control sk-hidden--visually\" id=\"sk-estimator-id-104\" type=\"checkbox\" ><label for=\"sk-estimator-id-104\" class=\"sk-toggleable__label sk-toggleable__label-arrow\">estimator: Pipeline</label><div class=\"sk-toggleable__content\"><pre>Pipeline(steps=[(&#x27;preprocess&#x27;,\n",
       "                 ColumnTransformer(transformers=[(&#x27;categorical_preprocessing&#x27;,\n",
       "                                                  Pipeline(steps=[(&#x27;ohe&#x27;,\n",
       "                                                                   OneHotEncoder())]),\n",
       "                                                  [&#x27;ChestPainType&#x27;,\n",
       "                                                   &#x27;RestingECG&#x27;, &#x27;ST_Slope&#x27;,\n",
       "                                                   &#x27;Sex&#x27;, &#x27;FastingBS&#x27;,\n",
       "                                                   &#x27;ExerciseAngina&#x27;]),\n",
       "                                                 (&#x27;numerical_preprocessing&#x27;,\n",
       "                                                  Pipeline(steps=[(&#x27;imputer&#x27;,\n",
       "                                                                   KNNImputer())]),\n",
       "                                                  [&#x27;Age&#x27;, &#x27;RestingBP&#x27;,\n",
       "                                                   &#x27;Cholesterol&#x27;, &#x27;MaxHR&#x27;,\n",
       "                                                   &#x27;Oldpeak&#x27;]),\n",
       "                                                 (&#x27;scaler&#x27;, StandardScaler(),\n",
       "                                                  [&#x27;Age&#x27;, &#x27;RestingBP&#x27;,\n",
       "                                                   &#x27;Cholesterol&#x27;, &#x27;MaxHR&#x27;,\n",
       "                                                   &#x27;Oldpeak&#x27;])])),\n",
       "                (&#x27;rfc&#x27;, RandomForestClassifier())])</pre></div></div></div><div class=\"sk-serial\"><div class=\"sk-item\"><div class=\"sk-serial\"><div class=\"sk-item sk-dashed-wrapped\"><div class=\"sk-label-container\"><div class=\"sk-label sk-toggleable\"><input class=\"sk-toggleable__control sk-hidden--visually\" id=\"sk-estimator-id-105\" type=\"checkbox\" ><label for=\"sk-estimator-id-105\" class=\"sk-toggleable__label sk-toggleable__label-arrow\">preprocess: ColumnTransformer</label><div class=\"sk-toggleable__content\"><pre>ColumnTransformer(transformers=[(&#x27;categorical_preprocessing&#x27;,\n",
       "                                 Pipeline(steps=[(&#x27;ohe&#x27;, OneHotEncoder())]),\n",
       "                                 [&#x27;ChestPainType&#x27;, &#x27;RestingECG&#x27;, &#x27;ST_Slope&#x27;,\n",
       "                                  &#x27;Sex&#x27;, &#x27;FastingBS&#x27;, &#x27;ExerciseAngina&#x27;]),\n",
       "                                (&#x27;numerical_preprocessing&#x27;,\n",
       "                                 Pipeline(steps=[(&#x27;imputer&#x27;, KNNImputer())]),\n",
       "                                 [&#x27;Age&#x27;, &#x27;RestingBP&#x27;, &#x27;Cholesterol&#x27;, &#x27;MaxHR&#x27;,\n",
       "                                  &#x27;Oldpeak&#x27;]),\n",
       "                                (&#x27;scaler&#x27;, StandardScaler(),\n",
       "                                 [&#x27;Age&#x27;, &#x27;RestingBP&#x27;, &#x27;Cholesterol&#x27;, &#x27;MaxHR&#x27;,\n",
       "                                  &#x27;Oldpeak&#x27;])])</pre></div></div></div><div class=\"sk-parallel\"><div class=\"sk-parallel-item\"><div class=\"sk-item\"><div class=\"sk-label-container\"><div class=\"sk-label sk-toggleable\"><input class=\"sk-toggleable__control sk-hidden--visually\" id=\"sk-estimator-id-106\" type=\"checkbox\" ><label for=\"sk-estimator-id-106\" class=\"sk-toggleable__label sk-toggleable__label-arrow\">categorical_preprocessing</label><div class=\"sk-toggleable__content\"><pre>[&#x27;ChestPainType&#x27;, &#x27;RestingECG&#x27;, &#x27;ST_Slope&#x27;, &#x27;Sex&#x27;, &#x27;FastingBS&#x27;, &#x27;ExerciseAngina&#x27;]</pre></div></div></div><div class=\"sk-serial\"><div class=\"sk-item\"><div class=\"sk-serial\"><div class=\"sk-item\"><div class=\"sk-estimator sk-toggleable\"><input class=\"sk-toggleable__control sk-hidden--visually\" id=\"sk-estimator-id-107\" type=\"checkbox\" ><label for=\"sk-estimator-id-107\" class=\"sk-toggleable__label sk-toggleable__label-arrow\">OneHotEncoder</label><div class=\"sk-toggleable__content\"><pre>OneHotEncoder()</pre></div></div></div></div></div></div></div></div><div class=\"sk-parallel-item\"><div class=\"sk-item\"><div class=\"sk-label-container\"><div class=\"sk-label sk-toggleable\"><input class=\"sk-toggleable__control sk-hidden--visually\" id=\"sk-estimator-id-108\" type=\"checkbox\" ><label for=\"sk-estimator-id-108\" class=\"sk-toggleable__label sk-toggleable__label-arrow\">numerical_preprocessing</label><div class=\"sk-toggleable__content\"><pre>[&#x27;Age&#x27;, &#x27;RestingBP&#x27;, &#x27;Cholesterol&#x27;, &#x27;MaxHR&#x27;, &#x27;Oldpeak&#x27;]</pre></div></div></div><div class=\"sk-serial\"><div class=\"sk-item\"><div class=\"sk-serial\"><div class=\"sk-item\"><div class=\"sk-estimator sk-toggleable\"><input class=\"sk-toggleable__control sk-hidden--visually\" id=\"sk-estimator-id-109\" type=\"checkbox\" ><label for=\"sk-estimator-id-109\" class=\"sk-toggleable__label sk-toggleable__label-arrow\">KNNImputer</label><div class=\"sk-toggleable__content\"><pre>KNNImputer()</pre></div></div></div></div></div></div></div></div><div class=\"sk-parallel-item\"><div class=\"sk-item\"><div class=\"sk-label-container\"><div class=\"sk-label sk-toggleable\"><input class=\"sk-toggleable__control sk-hidden--visually\" id=\"sk-estimator-id-110\" type=\"checkbox\" ><label for=\"sk-estimator-id-110\" class=\"sk-toggleable__label sk-toggleable__label-arrow\">scaler</label><div class=\"sk-toggleable__content\"><pre>[&#x27;Age&#x27;, &#x27;RestingBP&#x27;, &#x27;Cholesterol&#x27;, &#x27;MaxHR&#x27;, &#x27;Oldpeak&#x27;]</pre></div></div></div><div class=\"sk-serial\"><div class=\"sk-item\"><div class=\"sk-estimator sk-toggleable\"><input class=\"sk-toggleable__control sk-hidden--visually\" id=\"sk-estimator-id-111\" type=\"checkbox\" ><label for=\"sk-estimator-id-111\" class=\"sk-toggleable__label sk-toggleable__label-arrow\">StandardScaler</label><div class=\"sk-toggleable__content\"><pre>StandardScaler()</pre></div></div></div></div></div></div></div></div><div class=\"sk-item\"><div class=\"sk-estimator sk-toggleable\"><input class=\"sk-toggleable__control sk-hidden--visually\" id=\"sk-estimator-id-112\" type=\"checkbox\" ><label for=\"sk-estimator-id-112\" class=\"sk-toggleable__label sk-toggleable__label-arrow\">RandomForestClassifier</label><div class=\"sk-toggleable__content\"><pre>RandomForestClassifier()</pre></div></div></div></div></div></div></div></div></div></div></div></div>"
      ],
      "text/plain": [
       "GridSearchCV(cv=5,\n",
       "             estimator=Pipeline(steps=[('preprocess',\n",
       "                                        ColumnTransformer(transformers=[('categorical_preprocessing',\n",
       "                                                                         Pipeline(steps=[('ohe',\n",
       "                                                                                          OneHotEncoder())]),\n",
       "                                                                         ['ChestPainType',\n",
       "                                                                          'RestingECG',\n",
       "                                                                          'ST_Slope',\n",
       "                                                                          'Sex',\n",
       "                                                                          'FastingBS',\n",
       "                                                                          'ExerciseAngina']),\n",
       "                                                                        ('numerical_preprocessing',\n",
       "                                                                         Pipeline(steps=[('imputer',\n",
       "                                                                                          KNNImputer())]),\n",
       "                                                                         ['Age',\n",
       "                                                                          'RestingBP',\n",
       "                                                                          'Cholesterol',\n",
       "                                                                          'MaxHR',\n",
       "                                                                          'Oldpeak']),\n",
       "                                                                        ('scaler',\n",
       "                                                                         StandardScaler(),\n",
       "                                                                         ['Age',\n",
       "                                                                          'RestingBP',\n",
       "                                                                          'Cholesterol',\n",
       "                                                                          'MaxHR',\n",
       "                                                                          'Oldpeak'])])),\n",
       "                                       ('rfc', RandomForestClassifier())]),\n",
       "             param_grid={'rfc__max_depth': [5, 10, 20],\n",
       "                         'rfc__n_estimators': [50, 100, 200]})"
      ]
     },
     "execution_count": 124,
     "metadata": {},
     "output_type": "execute_result"
    }
   ],
   "source": [
    "gs_rfc.fit(X_train, y_train)"
   ]
  },
  {
   "cell_type": "code",
   "execution_count": 125,
   "id": "1cb6c176-a6d0-46af-bd0d-2493f7253362",
   "metadata": {},
   "outputs": [
    {
     "data": {
      "text/plain": [
       "{'rfc__max_depth': 10, 'rfc__n_estimators': 50}"
      ]
     },
     "execution_count": 125,
     "metadata": {},
     "output_type": "execute_result"
    }
   ],
   "source": [
    "gs_rfc.best_params_"
   ]
  },
  {
   "cell_type": "code",
   "execution_count": 126,
   "id": "afdf4e73-e497-4dd6-92e2-6100b5cd6fcc",
   "metadata": {},
   "outputs": [],
   "source": [
    "rfc_best = gs_rfc.best_estimator_"
   ]
  },
  {
   "cell_type": "code",
   "execution_count": 127,
   "id": "9915c53e-6282-40e2-ba89-2940685277c4",
   "metadata": {},
   "outputs": [],
   "source": [
    "y_predicted = rfc_best.predict(X_test)"
   ]
  },
  {
   "cell_type": "code",
   "execution_count": 128,
   "id": "0114c6fc-74c8-4dea-8e8c-95c6100c7faa",
   "metadata": {},
   "outputs": [
    {
     "name": "stdout",
     "output_type": "stream",
     "text": [
      "r2 score: 0.37348668280871655\n",
      "accuracy score: 0.8434782608695652\n",
      "recall score: 0.9107142857142857\n",
      "precision score: 0.796875\n"
     ]
    }
   ],
   "source": [
    "r2 = r2_score(y_test, y_predicted)\n",
    "acc = accuracy_score(y_test, y_predicted)\n",
    "recal = recall_score(y_test, y_predicted)\n",
    "precision = precision_score(y_test, y_predicted)\n",
    "print('r2 score:', r2)\n",
    "print('accuracy score:', acc)\n",
    "print('recall score:', recal)\n",
    "print('precision score:', precision)"
   ]
  },
  {
   "cell_type": "code",
   "execution_count": 165,
   "id": "2a36e5d7-a45e-4669-b3e9-187dd0b1877a",
   "metadata": {},
   "outputs": [],
   "source": [
    "#save this model to compare to one created after\n",
    "import pickle\n",
    "pickle.dump(rfc_best, open( \"../models/initial_rfc_pipeline\", \"wb\" ) )"
   ]
  },
  {
   "cell_type": "code",
   "execution_count": 23,
   "id": "933860df-2f7d-4c8d-b1a3-56f72fbe155a",
   "metadata": {},
   "outputs": [],
   "source": [
    "#This RFC model has a better recall than the baseline\n",
    "#find out best features from it and reduce (background stuff can just be noise)"
   ]
  },
  {
   "cell_type": "code",
   "execution_count": 131,
   "id": "eb7fa7c2-ef22-4fe0-ab8a-a93f708daae7",
   "metadata": {},
   "outputs": [],
   "source": [
    "pipeline_svc = Pipeline([\n",
    "    ('preprocess', preprocess),\n",
    "    ('svc', SVC())\n",
    "])"
   ]
  },
  {
   "cell_type": "code",
   "execution_count": 132,
   "id": "17521ff1-e236-44b2-99d8-bf7c185359cd",
   "metadata": {},
   "outputs": [],
   "source": [
    "params_svc = {\"svc__C\": [0.1, 1.0, 10],\n",
    "                \"svc__kernel\": ['linear'],\n",
    "              'svc__gamma': [1, 0.1, 0.01, 0.001]\n",
    "                 }"
   ]
  },
  {
   "cell_type": "code",
   "execution_count": 133,
   "id": "6884864e-d3ea-4148-a30c-9437f307c4ba",
   "metadata": {},
   "outputs": [],
   "source": [
    "gs_svc = GridSearchCV(pipeline_svc, params_svc, cv=5)"
   ]
  },
  {
   "cell_type": "code",
   "execution_count": 134,
   "id": "94d9e8dd-a432-4956-96c6-30500fb4304b",
   "metadata": {},
   "outputs": [
    {
     "data": {
      "text/html": [
       "<style>#sk-container-id-14 {color: black;background-color: white;}#sk-container-id-14 pre{padding: 0;}#sk-container-id-14 div.sk-toggleable {background-color: white;}#sk-container-id-14 label.sk-toggleable__label {cursor: pointer;display: block;width: 100%;margin-bottom: 0;padding: 0.3em;box-sizing: border-box;text-align: center;}#sk-container-id-14 label.sk-toggleable__label-arrow:before {content: \"▸\";float: left;margin-right: 0.25em;color: #696969;}#sk-container-id-14 label.sk-toggleable__label-arrow:hover:before {color: black;}#sk-container-id-14 div.sk-estimator:hover label.sk-toggleable__label-arrow:before {color: black;}#sk-container-id-14 div.sk-toggleable__content {max-height: 0;max-width: 0;overflow: hidden;text-align: left;background-color: #f0f8ff;}#sk-container-id-14 div.sk-toggleable__content pre {margin: 0.2em;color: black;border-radius: 0.25em;background-color: #f0f8ff;}#sk-container-id-14 input.sk-toggleable__control:checked~div.sk-toggleable__content {max-height: 200px;max-width: 100%;overflow: auto;}#sk-container-id-14 input.sk-toggleable__control:checked~label.sk-toggleable__label-arrow:before {content: \"▾\";}#sk-container-id-14 div.sk-estimator input.sk-toggleable__control:checked~label.sk-toggleable__label {background-color: #d4ebff;}#sk-container-id-14 div.sk-label input.sk-toggleable__control:checked~label.sk-toggleable__label {background-color: #d4ebff;}#sk-container-id-14 input.sk-hidden--visually {border: 0;clip: rect(1px 1px 1px 1px);clip: rect(1px, 1px, 1px, 1px);height: 1px;margin: -1px;overflow: hidden;padding: 0;position: absolute;width: 1px;}#sk-container-id-14 div.sk-estimator {font-family: monospace;background-color: #f0f8ff;border: 1px dotted black;border-radius: 0.25em;box-sizing: border-box;margin-bottom: 0.5em;}#sk-container-id-14 div.sk-estimator:hover {background-color: #d4ebff;}#sk-container-id-14 div.sk-parallel-item::after {content: \"\";width: 100%;border-bottom: 1px solid gray;flex-grow: 1;}#sk-container-id-14 div.sk-label:hover label.sk-toggleable__label {background-color: #d4ebff;}#sk-container-id-14 div.sk-serial::before {content: \"\";position: absolute;border-left: 1px solid gray;box-sizing: border-box;top: 0;bottom: 0;left: 50%;z-index: 0;}#sk-container-id-14 div.sk-serial {display: flex;flex-direction: column;align-items: center;background-color: white;padding-right: 0.2em;padding-left: 0.2em;position: relative;}#sk-container-id-14 div.sk-item {position: relative;z-index: 1;}#sk-container-id-14 div.sk-parallel {display: flex;align-items: stretch;justify-content: center;background-color: white;position: relative;}#sk-container-id-14 div.sk-item::before, #sk-container-id-14 div.sk-parallel-item::before {content: \"\";position: absolute;border-left: 1px solid gray;box-sizing: border-box;top: 0;bottom: 0;left: 50%;z-index: -1;}#sk-container-id-14 div.sk-parallel-item {display: flex;flex-direction: column;z-index: 1;position: relative;background-color: white;}#sk-container-id-14 div.sk-parallel-item:first-child::after {align-self: flex-end;width: 50%;}#sk-container-id-14 div.sk-parallel-item:last-child::after {align-self: flex-start;width: 50%;}#sk-container-id-14 div.sk-parallel-item:only-child::after {width: 0;}#sk-container-id-14 div.sk-dashed-wrapped {border: 1px dashed gray;margin: 0 0.4em 0.5em 0.4em;box-sizing: border-box;padding-bottom: 0.4em;background-color: white;}#sk-container-id-14 div.sk-label label {font-family: monospace;font-weight: bold;display: inline-block;line-height: 1.2em;}#sk-container-id-14 div.sk-label-container {text-align: center;}#sk-container-id-14 div.sk-container {/* jupyter's `normalize.less` sets `[hidden] { display: none; }` but bootstrap.min.css set `[hidden] { display: none !important; }` so we also need the `!important` here to be able to override the default hidden behavior on the sphinx rendered scikit-learn.org. See: https://github.com/scikit-learn/scikit-learn/issues/21755 */display: inline-block !important;position: relative;}#sk-container-id-14 div.sk-text-repr-fallback {display: none;}</style><div id=\"sk-container-id-14\" class=\"sk-top-container\"><div class=\"sk-text-repr-fallback\"><pre>GridSearchCV(cv=5,\n",
       "             estimator=Pipeline(steps=[(&#x27;preprocess&#x27;,\n",
       "                                        ColumnTransformer(transformers=[(&#x27;categorical_preprocessing&#x27;,\n",
       "                                                                         Pipeline(steps=[(&#x27;ohe&#x27;,\n",
       "                                                                                          OneHotEncoder())]),\n",
       "                                                                         [&#x27;ChestPainType&#x27;,\n",
       "                                                                          &#x27;RestingECG&#x27;,\n",
       "                                                                          &#x27;ST_Slope&#x27;,\n",
       "                                                                          &#x27;Sex&#x27;,\n",
       "                                                                          &#x27;FastingBS&#x27;,\n",
       "                                                                          &#x27;ExerciseAngina&#x27;]),\n",
       "                                                                        (&#x27;numerical_preprocessing&#x27;,\n",
       "                                                                         Pipeline(steps=[(&#x27;imputer&#x27;,\n",
       "                                                                                          KNNImputer())]),\n",
       "                                                                         [&#x27;Age&#x27;,\n",
       "                                                                          &#x27;RestingBP&#x27;,\n",
       "                                                                          &#x27;Cholesterol&#x27;,\n",
       "                                                                          &#x27;MaxHR&#x27;,\n",
       "                                                                          &#x27;Oldpeak&#x27;]),\n",
       "                                                                        (&#x27;scaler&#x27;,\n",
       "                                                                         StandardScaler(),\n",
       "                                                                         [&#x27;Age&#x27;,\n",
       "                                                                          &#x27;RestingBP&#x27;,\n",
       "                                                                          &#x27;Cholesterol&#x27;,\n",
       "                                                                          &#x27;MaxHR&#x27;,\n",
       "                                                                          &#x27;Oldpeak&#x27;])])),\n",
       "                                       (&#x27;svc&#x27;, SVC())]),\n",
       "             param_grid={&#x27;svc__C&#x27;: [0.1, 1.0, 10],\n",
       "                         &#x27;svc__gamma&#x27;: [1, 0.1, 0.01, 0.001],\n",
       "                         &#x27;svc__kernel&#x27;: [&#x27;linear&#x27;]})</pre><b>In a Jupyter environment, please rerun this cell to show the HTML representation or trust the notebook. <br />On GitHub, the HTML representation is unable to render, please try loading this page with nbviewer.org.</b></div><div class=\"sk-container\" hidden><div class=\"sk-item sk-dashed-wrapped\"><div class=\"sk-label-container\"><div class=\"sk-label sk-toggleable\"><input class=\"sk-toggleable__control sk-hidden--visually\" id=\"sk-estimator-id-122\" type=\"checkbox\" ><label for=\"sk-estimator-id-122\" class=\"sk-toggleable__label sk-toggleable__label-arrow\">GridSearchCV</label><div class=\"sk-toggleable__content\"><pre>GridSearchCV(cv=5,\n",
       "             estimator=Pipeline(steps=[(&#x27;preprocess&#x27;,\n",
       "                                        ColumnTransformer(transformers=[(&#x27;categorical_preprocessing&#x27;,\n",
       "                                                                         Pipeline(steps=[(&#x27;ohe&#x27;,\n",
       "                                                                                          OneHotEncoder())]),\n",
       "                                                                         [&#x27;ChestPainType&#x27;,\n",
       "                                                                          &#x27;RestingECG&#x27;,\n",
       "                                                                          &#x27;ST_Slope&#x27;,\n",
       "                                                                          &#x27;Sex&#x27;,\n",
       "                                                                          &#x27;FastingBS&#x27;,\n",
       "                                                                          &#x27;ExerciseAngina&#x27;]),\n",
       "                                                                        (&#x27;numerical_preprocessing&#x27;,\n",
       "                                                                         Pipeline(steps=[(&#x27;imputer&#x27;,\n",
       "                                                                                          KNNImputer())]),\n",
       "                                                                         [&#x27;Age&#x27;,\n",
       "                                                                          &#x27;RestingBP&#x27;,\n",
       "                                                                          &#x27;Cholesterol&#x27;,\n",
       "                                                                          &#x27;MaxHR&#x27;,\n",
       "                                                                          &#x27;Oldpeak&#x27;]),\n",
       "                                                                        (&#x27;scaler&#x27;,\n",
       "                                                                         StandardScaler(),\n",
       "                                                                         [&#x27;Age&#x27;,\n",
       "                                                                          &#x27;RestingBP&#x27;,\n",
       "                                                                          &#x27;Cholesterol&#x27;,\n",
       "                                                                          &#x27;MaxHR&#x27;,\n",
       "                                                                          &#x27;Oldpeak&#x27;])])),\n",
       "                                       (&#x27;svc&#x27;, SVC())]),\n",
       "             param_grid={&#x27;svc__C&#x27;: [0.1, 1.0, 10],\n",
       "                         &#x27;svc__gamma&#x27;: [1, 0.1, 0.01, 0.001],\n",
       "                         &#x27;svc__kernel&#x27;: [&#x27;linear&#x27;]})</pre></div></div></div><div class=\"sk-parallel\"><div class=\"sk-parallel-item\"><div class=\"sk-item\"><div class=\"sk-label-container\"><div class=\"sk-label sk-toggleable\"><input class=\"sk-toggleable__control sk-hidden--visually\" id=\"sk-estimator-id-123\" type=\"checkbox\" ><label for=\"sk-estimator-id-123\" class=\"sk-toggleable__label sk-toggleable__label-arrow\">estimator: Pipeline</label><div class=\"sk-toggleable__content\"><pre>Pipeline(steps=[(&#x27;preprocess&#x27;,\n",
       "                 ColumnTransformer(transformers=[(&#x27;categorical_preprocessing&#x27;,\n",
       "                                                  Pipeline(steps=[(&#x27;ohe&#x27;,\n",
       "                                                                   OneHotEncoder())]),\n",
       "                                                  [&#x27;ChestPainType&#x27;,\n",
       "                                                   &#x27;RestingECG&#x27;, &#x27;ST_Slope&#x27;,\n",
       "                                                   &#x27;Sex&#x27;, &#x27;FastingBS&#x27;,\n",
       "                                                   &#x27;ExerciseAngina&#x27;]),\n",
       "                                                 (&#x27;numerical_preprocessing&#x27;,\n",
       "                                                  Pipeline(steps=[(&#x27;imputer&#x27;,\n",
       "                                                                   KNNImputer())]),\n",
       "                                                  [&#x27;Age&#x27;, &#x27;RestingBP&#x27;,\n",
       "                                                   &#x27;Cholesterol&#x27;, &#x27;MaxHR&#x27;,\n",
       "                                                   &#x27;Oldpeak&#x27;]),\n",
       "                                                 (&#x27;scaler&#x27;, StandardScaler(),\n",
       "                                                  [&#x27;Age&#x27;, &#x27;RestingBP&#x27;,\n",
       "                                                   &#x27;Cholesterol&#x27;, &#x27;MaxHR&#x27;,\n",
       "                                                   &#x27;Oldpeak&#x27;])])),\n",
       "                (&#x27;svc&#x27;, SVC())])</pre></div></div></div><div class=\"sk-serial\"><div class=\"sk-item\"><div class=\"sk-serial\"><div class=\"sk-item sk-dashed-wrapped\"><div class=\"sk-label-container\"><div class=\"sk-label sk-toggleable\"><input class=\"sk-toggleable__control sk-hidden--visually\" id=\"sk-estimator-id-124\" type=\"checkbox\" ><label for=\"sk-estimator-id-124\" class=\"sk-toggleable__label sk-toggleable__label-arrow\">preprocess: ColumnTransformer</label><div class=\"sk-toggleable__content\"><pre>ColumnTransformer(transformers=[(&#x27;categorical_preprocessing&#x27;,\n",
       "                                 Pipeline(steps=[(&#x27;ohe&#x27;, OneHotEncoder())]),\n",
       "                                 [&#x27;ChestPainType&#x27;, &#x27;RestingECG&#x27;, &#x27;ST_Slope&#x27;,\n",
       "                                  &#x27;Sex&#x27;, &#x27;FastingBS&#x27;, &#x27;ExerciseAngina&#x27;]),\n",
       "                                (&#x27;numerical_preprocessing&#x27;,\n",
       "                                 Pipeline(steps=[(&#x27;imputer&#x27;, KNNImputer())]),\n",
       "                                 [&#x27;Age&#x27;, &#x27;RestingBP&#x27;, &#x27;Cholesterol&#x27;, &#x27;MaxHR&#x27;,\n",
       "                                  &#x27;Oldpeak&#x27;]),\n",
       "                                (&#x27;scaler&#x27;, StandardScaler(),\n",
       "                                 [&#x27;Age&#x27;, &#x27;RestingBP&#x27;, &#x27;Cholesterol&#x27;, &#x27;MaxHR&#x27;,\n",
       "                                  &#x27;Oldpeak&#x27;])])</pre></div></div></div><div class=\"sk-parallel\"><div class=\"sk-parallel-item\"><div class=\"sk-item\"><div class=\"sk-label-container\"><div class=\"sk-label sk-toggleable\"><input class=\"sk-toggleable__control sk-hidden--visually\" id=\"sk-estimator-id-125\" type=\"checkbox\" ><label for=\"sk-estimator-id-125\" class=\"sk-toggleable__label sk-toggleable__label-arrow\">categorical_preprocessing</label><div class=\"sk-toggleable__content\"><pre>[&#x27;ChestPainType&#x27;, &#x27;RestingECG&#x27;, &#x27;ST_Slope&#x27;, &#x27;Sex&#x27;, &#x27;FastingBS&#x27;, &#x27;ExerciseAngina&#x27;]</pre></div></div></div><div class=\"sk-serial\"><div class=\"sk-item\"><div class=\"sk-serial\"><div class=\"sk-item\"><div class=\"sk-estimator sk-toggleable\"><input class=\"sk-toggleable__control sk-hidden--visually\" id=\"sk-estimator-id-126\" type=\"checkbox\" ><label for=\"sk-estimator-id-126\" class=\"sk-toggleable__label sk-toggleable__label-arrow\">OneHotEncoder</label><div class=\"sk-toggleable__content\"><pre>OneHotEncoder()</pre></div></div></div></div></div></div></div></div><div class=\"sk-parallel-item\"><div class=\"sk-item\"><div class=\"sk-label-container\"><div class=\"sk-label sk-toggleable\"><input class=\"sk-toggleable__control sk-hidden--visually\" id=\"sk-estimator-id-127\" type=\"checkbox\" ><label for=\"sk-estimator-id-127\" class=\"sk-toggleable__label sk-toggleable__label-arrow\">numerical_preprocessing</label><div class=\"sk-toggleable__content\"><pre>[&#x27;Age&#x27;, &#x27;RestingBP&#x27;, &#x27;Cholesterol&#x27;, &#x27;MaxHR&#x27;, &#x27;Oldpeak&#x27;]</pre></div></div></div><div class=\"sk-serial\"><div class=\"sk-item\"><div class=\"sk-serial\"><div class=\"sk-item\"><div class=\"sk-estimator sk-toggleable\"><input class=\"sk-toggleable__control sk-hidden--visually\" id=\"sk-estimator-id-128\" type=\"checkbox\" ><label for=\"sk-estimator-id-128\" class=\"sk-toggleable__label sk-toggleable__label-arrow\">KNNImputer</label><div class=\"sk-toggleable__content\"><pre>KNNImputer()</pre></div></div></div></div></div></div></div></div><div class=\"sk-parallel-item\"><div class=\"sk-item\"><div class=\"sk-label-container\"><div class=\"sk-label sk-toggleable\"><input class=\"sk-toggleable__control sk-hidden--visually\" id=\"sk-estimator-id-129\" type=\"checkbox\" ><label for=\"sk-estimator-id-129\" class=\"sk-toggleable__label sk-toggleable__label-arrow\">scaler</label><div class=\"sk-toggleable__content\"><pre>[&#x27;Age&#x27;, &#x27;RestingBP&#x27;, &#x27;Cholesterol&#x27;, &#x27;MaxHR&#x27;, &#x27;Oldpeak&#x27;]</pre></div></div></div><div class=\"sk-serial\"><div class=\"sk-item\"><div class=\"sk-estimator sk-toggleable\"><input class=\"sk-toggleable__control sk-hidden--visually\" id=\"sk-estimator-id-130\" type=\"checkbox\" ><label for=\"sk-estimator-id-130\" class=\"sk-toggleable__label sk-toggleable__label-arrow\">StandardScaler</label><div class=\"sk-toggleable__content\"><pre>StandardScaler()</pre></div></div></div></div></div></div></div></div><div class=\"sk-item\"><div class=\"sk-estimator sk-toggleable\"><input class=\"sk-toggleable__control sk-hidden--visually\" id=\"sk-estimator-id-131\" type=\"checkbox\" ><label for=\"sk-estimator-id-131\" class=\"sk-toggleable__label sk-toggleable__label-arrow\">SVC</label><div class=\"sk-toggleable__content\"><pre>SVC()</pre></div></div></div></div></div></div></div></div></div></div></div></div>"
      ],
      "text/plain": [
       "GridSearchCV(cv=5,\n",
       "             estimator=Pipeline(steps=[('preprocess',\n",
       "                                        ColumnTransformer(transformers=[('categorical_preprocessing',\n",
       "                                                                         Pipeline(steps=[('ohe',\n",
       "                                                                                          OneHotEncoder())]),\n",
       "                                                                         ['ChestPainType',\n",
       "                                                                          'RestingECG',\n",
       "                                                                          'ST_Slope',\n",
       "                                                                          'Sex',\n",
       "                                                                          'FastingBS',\n",
       "                                                                          'ExerciseAngina']),\n",
       "                                                                        ('numerical_preprocessing',\n",
       "                                                                         Pipeline(steps=[('imputer',\n",
       "                                                                                          KNNImputer())]),\n",
       "                                                                         ['Age',\n",
       "                                                                          'RestingBP',\n",
       "                                                                          'Cholesterol',\n",
       "                                                                          'MaxHR',\n",
       "                                                                          'Oldpeak']),\n",
       "                                                                        ('scaler',\n",
       "                                                                         StandardScaler(),\n",
       "                                                                         ['Age',\n",
       "                                                                          'RestingBP',\n",
       "                                                                          'Cholesterol',\n",
       "                                                                          'MaxHR',\n",
       "                                                                          'Oldpeak'])])),\n",
       "                                       ('svc', SVC())]),\n",
       "             param_grid={'svc__C': [0.1, 1.0, 10],\n",
       "                         'svc__gamma': [1, 0.1, 0.01, 0.001],\n",
       "                         'svc__kernel': ['linear']})"
      ]
     },
     "execution_count": 134,
     "metadata": {},
     "output_type": "execute_result"
    }
   ],
   "source": [
    "gs_svc.fit(X_train, y_train)"
   ]
  },
  {
   "cell_type": "code",
   "execution_count": 135,
   "id": "ec3ae871-5bf7-47e6-8f57-383721500725",
   "metadata": {},
   "outputs": [],
   "source": [
    "svc_best = gs_svc.best_estimator_"
   ]
  },
  {
   "cell_type": "code",
   "execution_count": 136,
   "id": "0f511f52-10a4-4651-8b47-23ca78fb7b09",
   "metadata": {},
   "outputs": [],
   "source": [
    "y_predicted = svc_best.predict(X_test)"
   ]
  },
  {
   "cell_type": "code",
   "execution_count": 137,
   "id": "6e66dd81-0413-49fb-8b8a-de6900e1a478",
   "metadata": {},
   "outputs": [
    {
     "name": "stdout",
     "output_type": "stream",
     "text": [
      "r2 score: 0.26906779661016933\n",
      "accuracy score: 0.8173913043478261\n",
      "recall score: 0.8571428571428571\n",
      "precision score: 0.7868852459016393\n"
     ]
    }
   ],
   "source": [
    "r2 = r2_score(y_test, y_predicted)\n",
    "acc = accuracy_score(y_test, y_predicted)\n",
    "recal = recall_score(y_test, y_predicted)\n",
    "precision = precision_score(y_test, y_predicted)\n",
    "print('r2 score:', r2)\n",
    "print('accuracy score:', acc)\n",
    "print('recall score:', recal)\n",
    "print('precision score:', precision)"
   ]
  },
  {
   "cell_type": "code",
   "execution_count": 138,
   "id": "eab7eca7-999b-436a-9cfc-70827216abb4",
   "metadata": {},
   "outputs": [],
   "source": [
    "#svc linear kernal performed worse than rfc"
   ]
  },
  {
   "cell_type": "code",
   "execution_count": 75,
   "id": "1c7f2105-dd2e-416d-9143-fe5c4f6ab761",
   "metadata": {},
   "outputs": [],
   "source": [
    "#low chance this will even be good\n",
    "from sklearn.naive_bayes import GaussianNB\n",
    "pipeline_nb = Pipeline([\n",
    "    ('preprocess', preprocess),\n",
    "    ('nb', GaussianNB())\n",
    "])"
   ]
  },
  {
   "cell_type": "code",
   "execution_count": 78,
   "id": "170bd20d-9547-4642-8728-0fe6a76cb29c",
   "metadata": {},
   "outputs": [
    {
     "data": {
      "text/html": [
       "<style>#sk-container-id-8 {color: black;background-color: white;}#sk-container-id-8 pre{padding: 0;}#sk-container-id-8 div.sk-toggleable {background-color: white;}#sk-container-id-8 label.sk-toggleable__label {cursor: pointer;display: block;width: 100%;margin-bottom: 0;padding: 0.3em;box-sizing: border-box;text-align: center;}#sk-container-id-8 label.sk-toggleable__label-arrow:before {content: \"▸\";float: left;margin-right: 0.25em;color: #696969;}#sk-container-id-8 label.sk-toggleable__label-arrow:hover:before {color: black;}#sk-container-id-8 div.sk-estimator:hover label.sk-toggleable__label-arrow:before {color: black;}#sk-container-id-8 div.sk-toggleable__content {max-height: 0;max-width: 0;overflow: hidden;text-align: left;background-color: #f0f8ff;}#sk-container-id-8 div.sk-toggleable__content pre {margin: 0.2em;color: black;border-radius: 0.25em;background-color: #f0f8ff;}#sk-container-id-8 input.sk-toggleable__control:checked~div.sk-toggleable__content {max-height: 200px;max-width: 100%;overflow: auto;}#sk-container-id-8 input.sk-toggleable__control:checked~label.sk-toggleable__label-arrow:before {content: \"▾\";}#sk-container-id-8 div.sk-estimator input.sk-toggleable__control:checked~label.sk-toggleable__label {background-color: #d4ebff;}#sk-container-id-8 div.sk-label input.sk-toggleable__control:checked~label.sk-toggleable__label {background-color: #d4ebff;}#sk-container-id-8 input.sk-hidden--visually {border: 0;clip: rect(1px 1px 1px 1px);clip: rect(1px, 1px, 1px, 1px);height: 1px;margin: -1px;overflow: hidden;padding: 0;position: absolute;width: 1px;}#sk-container-id-8 div.sk-estimator {font-family: monospace;background-color: #f0f8ff;border: 1px dotted black;border-radius: 0.25em;box-sizing: border-box;margin-bottom: 0.5em;}#sk-container-id-8 div.sk-estimator:hover {background-color: #d4ebff;}#sk-container-id-8 div.sk-parallel-item::after {content: \"\";width: 100%;border-bottom: 1px solid gray;flex-grow: 1;}#sk-container-id-8 div.sk-label:hover label.sk-toggleable__label {background-color: #d4ebff;}#sk-container-id-8 div.sk-serial::before {content: \"\";position: absolute;border-left: 1px solid gray;box-sizing: border-box;top: 0;bottom: 0;left: 50%;z-index: 0;}#sk-container-id-8 div.sk-serial {display: flex;flex-direction: column;align-items: center;background-color: white;padding-right: 0.2em;padding-left: 0.2em;position: relative;}#sk-container-id-8 div.sk-item {position: relative;z-index: 1;}#sk-container-id-8 div.sk-parallel {display: flex;align-items: stretch;justify-content: center;background-color: white;position: relative;}#sk-container-id-8 div.sk-item::before, #sk-container-id-8 div.sk-parallel-item::before {content: \"\";position: absolute;border-left: 1px solid gray;box-sizing: border-box;top: 0;bottom: 0;left: 50%;z-index: -1;}#sk-container-id-8 div.sk-parallel-item {display: flex;flex-direction: column;z-index: 1;position: relative;background-color: white;}#sk-container-id-8 div.sk-parallel-item:first-child::after {align-self: flex-end;width: 50%;}#sk-container-id-8 div.sk-parallel-item:last-child::after {align-self: flex-start;width: 50%;}#sk-container-id-8 div.sk-parallel-item:only-child::after {width: 0;}#sk-container-id-8 div.sk-dashed-wrapped {border: 1px dashed gray;margin: 0 0.4em 0.5em 0.4em;box-sizing: border-box;padding-bottom: 0.4em;background-color: white;}#sk-container-id-8 div.sk-label label {font-family: monospace;font-weight: bold;display: inline-block;line-height: 1.2em;}#sk-container-id-8 div.sk-label-container {text-align: center;}#sk-container-id-8 div.sk-container {/* jupyter's `normalize.less` sets `[hidden] { display: none; }` but bootstrap.min.css set `[hidden] { display: none !important; }` so we also need the `!important` here to be able to override the default hidden behavior on the sphinx rendered scikit-learn.org. See: https://github.com/scikit-learn/scikit-learn/issues/21755 */display: inline-block !important;position: relative;}#sk-container-id-8 div.sk-text-repr-fallback {display: none;}</style><div id=\"sk-container-id-8\" class=\"sk-top-container\"><div class=\"sk-text-repr-fallback\"><pre>Pipeline(steps=[(&#x27;preprocess&#x27;,\n",
       "                 ColumnTransformer(transformers=[(&#x27;categorical_preprocessing&#x27;,\n",
       "                                                  Pipeline(steps=[(&#x27;ohe&#x27;,\n",
       "                                                                   OneHotEncoder())]),\n",
       "                                                  [&#x27;ChestPainType&#x27;,\n",
       "                                                   &#x27;RestingECG&#x27;, &#x27;ST_Slope&#x27;,\n",
       "                                                   &#x27;Sex&#x27;, &#x27;FastingBS&#x27;,\n",
       "                                                   &#x27;ExerciseAngina&#x27;]),\n",
       "                                                 (&#x27;numerical_preprocessing&#x27;,\n",
       "                                                  Pipeline(steps=[(&#x27;imputer&#x27;,\n",
       "                                                                   KNNImputer())]),\n",
       "                                                  [&#x27;Age&#x27;, &#x27;RestingBP&#x27;,\n",
       "                                                   &#x27;Cholesterol&#x27;, &#x27;MaxHR&#x27;,\n",
       "                                                   &#x27;Oldpeak&#x27;]),\n",
       "                                                 (&#x27;scaler&#x27;, StandardScaler(),\n",
       "                                                  [&#x27;Age&#x27;, &#x27;RestingBP&#x27;,\n",
       "                                                   &#x27;Cholesterol&#x27;, &#x27;MaxHR&#x27;,\n",
       "                                                   &#x27;Oldpeak&#x27;])])),\n",
       "                (&#x27;nb&#x27;, GaussianNB())])</pre><b>In a Jupyter environment, please rerun this cell to show the HTML representation or trust the notebook. <br />On GitHub, the HTML representation is unable to render, please try loading this page with nbviewer.org.</b></div><div class=\"sk-container\" hidden><div class=\"sk-item sk-dashed-wrapped\"><div class=\"sk-label-container\"><div class=\"sk-label sk-toggleable\"><input class=\"sk-toggleable__control sk-hidden--visually\" id=\"sk-estimator-id-71\" type=\"checkbox\" ><label for=\"sk-estimator-id-71\" class=\"sk-toggleable__label sk-toggleable__label-arrow\">Pipeline</label><div class=\"sk-toggleable__content\"><pre>Pipeline(steps=[(&#x27;preprocess&#x27;,\n",
       "                 ColumnTransformer(transformers=[(&#x27;categorical_preprocessing&#x27;,\n",
       "                                                  Pipeline(steps=[(&#x27;ohe&#x27;,\n",
       "                                                                   OneHotEncoder())]),\n",
       "                                                  [&#x27;ChestPainType&#x27;,\n",
       "                                                   &#x27;RestingECG&#x27;, &#x27;ST_Slope&#x27;,\n",
       "                                                   &#x27;Sex&#x27;, &#x27;FastingBS&#x27;,\n",
       "                                                   &#x27;ExerciseAngina&#x27;]),\n",
       "                                                 (&#x27;numerical_preprocessing&#x27;,\n",
       "                                                  Pipeline(steps=[(&#x27;imputer&#x27;,\n",
       "                                                                   KNNImputer())]),\n",
       "                                                  [&#x27;Age&#x27;, &#x27;RestingBP&#x27;,\n",
       "                                                   &#x27;Cholesterol&#x27;, &#x27;MaxHR&#x27;,\n",
       "                                                   &#x27;Oldpeak&#x27;]),\n",
       "                                                 (&#x27;scaler&#x27;, StandardScaler(),\n",
       "                                                  [&#x27;Age&#x27;, &#x27;RestingBP&#x27;,\n",
       "                                                   &#x27;Cholesterol&#x27;, &#x27;MaxHR&#x27;,\n",
       "                                                   &#x27;Oldpeak&#x27;])])),\n",
       "                (&#x27;nb&#x27;, GaussianNB())])</pre></div></div></div><div class=\"sk-serial\"><div class=\"sk-item sk-dashed-wrapped\"><div class=\"sk-label-container\"><div class=\"sk-label sk-toggleable\"><input class=\"sk-toggleable__control sk-hidden--visually\" id=\"sk-estimator-id-72\" type=\"checkbox\" ><label for=\"sk-estimator-id-72\" class=\"sk-toggleable__label sk-toggleable__label-arrow\">preprocess: ColumnTransformer</label><div class=\"sk-toggleable__content\"><pre>ColumnTransformer(transformers=[(&#x27;categorical_preprocessing&#x27;,\n",
       "                                 Pipeline(steps=[(&#x27;ohe&#x27;, OneHotEncoder())]),\n",
       "                                 [&#x27;ChestPainType&#x27;, &#x27;RestingECG&#x27;, &#x27;ST_Slope&#x27;,\n",
       "                                  &#x27;Sex&#x27;, &#x27;FastingBS&#x27;, &#x27;ExerciseAngina&#x27;]),\n",
       "                                (&#x27;numerical_preprocessing&#x27;,\n",
       "                                 Pipeline(steps=[(&#x27;imputer&#x27;, KNNImputer())]),\n",
       "                                 [&#x27;Age&#x27;, &#x27;RestingBP&#x27;, &#x27;Cholesterol&#x27;, &#x27;MaxHR&#x27;,\n",
       "                                  &#x27;Oldpeak&#x27;]),\n",
       "                                (&#x27;scaler&#x27;, StandardScaler(),\n",
       "                                 [&#x27;Age&#x27;, &#x27;RestingBP&#x27;, &#x27;Cholesterol&#x27;, &#x27;MaxHR&#x27;,\n",
       "                                  &#x27;Oldpeak&#x27;])])</pre></div></div></div><div class=\"sk-parallel\"><div class=\"sk-parallel-item\"><div class=\"sk-item\"><div class=\"sk-label-container\"><div class=\"sk-label sk-toggleable\"><input class=\"sk-toggleable__control sk-hidden--visually\" id=\"sk-estimator-id-73\" type=\"checkbox\" ><label for=\"sk-estimator-id-73\" class=\"sk-toggleable__label sk-toggleable__label-arrow\">categorical_preprocessing</label><div class=\"sk-toggleable__content\"><pre>[&#x27;ChestPainType&#x27;, &#x27;RestingECG&#x27;, &#x27;ST_Slope&#x27;, &#x27;Sex&#x27;, &#x27;FastingBS&#x27;, &#x27;ExerciseAngina&#x27;]</pre></div></div></div><div class=\"sk-serial\"><div class=\"sk-item\"><div class=\"sk-serial\"><div class=\"sk-item\"><div class=\"sk-estimator sk-toggleable\"><input class=\"sk-toggleable__control sk-hidden--visually\" id=\"sk-estimator-id-74\" type=\"checkbox\" ><label for=\"sk-estimator-id-74\" class=\"sk-toggleable__label sk-toggleable__label-arrow\">OneHotEncoder</label><div class=\"sk-toggleable__content\"><pre>OneHotEncoder()</pre></div></div></div></div></div></div></div></div><div class=\"sk-parallel-item\"><div class=\"sk-item\"><div class=\"sk-label-container\"><div class=\"sk-label sk-toggleable\"><input class=\"sk-toggleable__control sk-hidden--visually\" id=\"sk-estimator-id-75\" type=\"checkbox\" ><label for=\"sk-estimator-id-75\" class=\"sk-toggleable__label sk-toggleable__label-arrow\">numerical_preprocessing</label><div class=\"sk-toggleable__content\"><pre>[&#x27;Age&#x27;, &#x27;RestingBP&#x27;, &#x27;Cholesterol&#x27;, &#x27;MaxHR&#x27;, &#x27;Oldpeak&#x27;]</pre></div></div></div><div class=\"sk-serial\"><div class=\"sk-item\"><div class=\"sk-serial\"><div class=\"sk-item\"><div class=\"sk-estimator sk-toggleable\"><input class=\"sk-toggleable__control sk-hidden--visually\" id=\"sk-estimator-id-76\" type=\"checkbox\" ><label for=\"sk-estimator-id-76\" class=\"sk-toggleable__label sk-toggleable__label-arrow\">KNNImputer</label><div class=\"sk-toggleable__content\"><pre>KNNImputer()</pre></div></div></div></div></div></div></div></div><div class=\"sk-parallel-item\"><div class=\"sk-item\"><div class=\"sk-label-container\"><div class=\"sk-label sk-toggleable\"><input class=\"sk-toggleable__control sk-hidden--visually\" id=\"sk-estimator-id-77\" type=\"checkbox\" ><label for=\"sk-estimator-id-77\" class=\"sk-toggleable__label sk-toggleable__label-arrow\">scaler</label><div class=\"sk-toggleable__content\"><pre>[&#x27;Age&#x27;, &#x27;RestingBP&#x27;, &#x27;Cholesterol&#x27;, &#x27;MaxHR&#x27;, &#x27;Oldpeak&#x27;]</pre></div></div></div><div class=\"sk-serial\"><div class=\"sk-item\"><div class=\"sk-estimator sk-toggleable\"><input class=\"sk-toggleable__control sk-hidden--visually\" id=\"sk-estimator-id-78\" type=\"checkbox\" ><label for=\"sk-estimator-id-78\" class=\"sk-toggleable__label sk-toggleable__label-arrow\">StandardScaler</label><div class=\"sk-toggleable__content\"><pre>StandardScaler()</pre></div></div></div></div></div></div></div></div><div class=\"sk-item\"><div class=\"sk-estimator sk-toggleable\"><input class=\"sk-toggleable__control sk-hidden--visually\" id=\"sk-estimator-id-79\" type=\"checkbox\" ><label for=\"sk-estimator-id-79\" class=\"sk-toggleable__label sk-toggleable__label-arrow\">GaussianNB</label><div class=\"sk-toggleable__content\"><pre>GaussianNB()</pre></div></div></div></div></div></div></div>"
      ],
      "text/plain": [
       "Pipeline(steps=[('preprocess',\n",
       "                 ColumnTransformer(transformers=[('categorical_preprocessing',\n",
       "                                                  Pipeline(steps=[('ohe',\n",
       "                                                                   OneHotEncoder())]),\n",
       "                                                  ['ChestPainType',\n",
       "                                                   'RestingECG', 'ST_Slope',\n",
       "                                                   'Sex', 'FastingBS',\n",
       "                                                   'ExerciseAngina']),\n",
       "                                                 ('numerical_preprocessing',\n",
       "                                                  Pipeline(steps=[('imputer',\n",
       "                                                                   KNNImputer())]),\n",
       "                                                  ['Age', 'RestingBP',\n",
       "                                                   'Cholesterol', 'MaxHR',\n",
       "                                                   'Oldpeak']),\n",
       "                                                 ('scaler', StandardScaler(),\n",
       "                                                  ['Age', 'RestingBP',\n",
       "                                                   'Cholesterol', 'MaxHR',\n",
       "                                                   'Oldpeak'])])),\n",
       "                ('nb', GaussianNB())])"
      ]
     },
     "execution_count": 78,
     "metadata": {},
     "output_type": "execute_result"
    }
   ],
   "source": [
    "pipeline_nb.fit(X_train, y_train)"
   ]
  },
  {
   "cell_type": "code",
   "execution_count": 79,
   "id": "cc3518ec-ea8d-4682-a2cb-fbc3f05e9c72",
   "metadata": {},
   "outputs": [],
   "source": [
    "y_predicted = pipeline_nb.predict(X_test)"
   ]
  },
  {
   "cell_type": "code",
   "execution_count": 80,
   "id": "61c2177f-2e8d-4367-8021-e5ca8ffe01ba",
   "metadata": {},
   "outputs": [
    {
     "name": "stdout",
     "output_type": "stream",
     "text": [
      "r2 score: 0.2884159555736149\n",
      "accuracy score: 0.8229317851959361\n",
      "recall score: 0.8288043478260869\n",
      "precision score: 0.8379120879120879\n"
     ]
    }
   ],
   "source": [
    "r2 = r2_score(y_test, y_predicted)\n",
    "acc = accuracy_score(y_test, y_predicted)\n",
    "recal = recall_score(y_test, y_predicted)\n",
    "precision = precision_score(y_test, y_predicted)\n",
    "print('r2 score:', r2)\n",
    "print('accuracy score:', acc)\n",
    "print('recall score:', recal)\n",
    "print('precision score:', precision)"
   ]
  },
  {
   "cell_type": "code",
   "execution_count": 81,
   "id": "c2b94398-e8f9-4751-aa74-0909ce4cce08",
   "metadata": {},
   "outputs": [],
   "source": [
    "#worst model so far"
   ]
  },
  {
   "cell_type": "code",
   "execution_count": 37,
   "id": "33e19888-a18a-4221-a671-506ab372ef22",
   "metadata": {},
   "outputs": [],
   "source": [
    "#getting feature importances from random forest"
   ]
  },
  {
   "cell_type": "code",
   "execution_count": 69,
   "id": "68ea2f6b-dd54-4850-8fe0-30ba8a28d684",
   "metadata": {},
   "outputs": [],
   "source": [
    "ohe = OneHotEncoder(sparse=False)\n",
    "ohe_df = ohe.fit_transform(df[['ChestPainType','RestingECG','ST_Slope','Sex','FastingBS','ExerciseAngina']])"
   ]
  },
  {
   "cell_type": "code",
   "execution_count": 70,
   "id": "2e38ea91-5e71-40a9-84b4-f4d4076299b4",
   "metadata": {},
   "outputs": [],
   "source": [
    "col_names = ohe.get_feature_names_out()"
   ]
  },
  {
   "cell_type": "code",
   "execution_count": 71,
   "id": "230e7b7b-673f-4bc5-9386-5ac10aa189ea",
   "metadata": {},
   "outputs": [],
   "source": [
    "ohe_df = pd.DataFrame(ohe_df, columns = col_names)"
   ]
  },
  {
   "cell_type": "code",
   "execution_count": 76,
   "id": "c6fbc619-897e-4ded-a033-326af686cd76",
   "metadata": {},
   "outputs": [],
   "source": [
    "ss = StandardScaler()\n",
    "scaled = ss.fit_transform(df[['Age','RestingBP','Cholesterol','MaxHR','Oldpeak']])\n",
    "names = ['Age','RestingBP','Cholesterol','MaxHR','Oldpeak']"
   ]
  },
  {
   "cell_type": "code",
   "execution_count": 78,
   "id": "977d24e4-e048-483d-b618-7ba9e68d2f54",
   "metadata": {},
   "outputs": [],
   "source": [
    "scaled = pd.DataFrame(scaled, columns = names)"
   ]
  },
  {
   "cell_type": "code",
   "execution_count": 80,
   "id": "95ded733-5fbf-47fe-90b0-1e48005470a9",
   "metadata": {},
   "outputs": [],
   "source": [
    "combined = pd.concat([scaled, ohe_df], axis=1, join='inner')"
   ]
  },
  {
   "cell_type": "code",
   "execution_count": 152,
   "id": "40d2c5f0-a435-4e45-9b12-a0af6005c005",
   "metadata": {},
   "outputs": [],
   "source": [
    "column_names = combined.columns"
   ]
  },
  {
   "cell_type": "code",
   "execution_count": 144,
   "id": "ca70de64-fc03-43f4-87fb-40b2034c5df4",
   "metadata": {},
   "outputs": [],
   "source": [
    "from sklearn.model_selection import train_test_split\n",
    "X = combined\n",
    "y = df.iloc[:,-1]\n",
    "X_train, X_test, y_train, y_test = train_test_split(X, y, test_size=0.25)"
   ]
  },
  {
   "cell_type": "code",
   "execution_count": 145,
   "id": "43bd14c7-5e9b-4fc2-930d-019404a508c7",
   "metadata": {},
   "outputs": [],
   "source": [
    "clf = RandomForestClassifier(max_depth=10, n_estimators=50)"
   ]
  },
  {
   "cell_type": "code",
   "execution_count": 147,
   "id": "cea80e1c-5c57-4de7-b9b0-c3bd366a58e4",
   "metadata": {},
   "outputs": [
    {
     "data": {
      "text/html": [
       "<style>#sk-container-id-16 {color: black;background-color: white;}#sk-container-id-16 pre{padding: 0;}#sk-container-id-16 div.sk-toggleable {background-color: white;}#sk-container-id-16 label.sk-toggleable__label {cursor: pointer;display: block;width: 100%;margin-bottom: 0;padding: 0.3em;box-sizing: border-box;text-align: center;}#sk-container-id-16 label.sk-toggleable__label-arrow:before {content: \"▸\";float: left;margin-right: 0.25em;color: #696969;}#sk-container-id-16 label.sk-toggleable__label-arrow:hover:before {color: black;}#sk-container-id-16 div.sk-estimator:hover label.sk-toggleable__label-arrow:before {color: black;}#sk-container-id-16 div.sk-toggleable__content {max-height: 0;max-width: 0;overflow: hidden;text-align: left;background-color: #f0f8ff;}#sk-container-id-16 div.sk-toggleable__content pre {margin: 0.2em;color: black;border-radius: 0.25em;background-color: #f0f8ff;}#sk-container-id-16 input.sk-toggleable__control:checked~div.sk-toggleable__content {max-height: 200px;max-width: 100%;overflow: auto;}#sk-container-id-16 input.sk-toggleable__control:checked~label.sk-toggleable__label-arrow:before {content: \"▾\";}#sk-container-id-16 div.sk-estimator input.sk-toggleable__control:checked~label.sk-toggleable__label {background-color: #d4ebff;}#sk-container-id-16 div.sk-label input.sk-toggleable__control:checked~label.sk-toggleable__label {background-color: #d4ebff;}#sk-container-id-16 input.sk-hidden--visually {border: 0;clip: rect(1px 1px 1px 1px);clip: rect(1px, 1px, 1px, 1px);height: 1px;margin: -1px;overflow: hidden;padding: 0;position: absolute;width: 1px;}#sk-container-id-16 div.sk-estimator {font-family: monospace;background-color: #f0f8ff;border: 1px dotted black;border-radius: 0.25em;box-sizing: border-box;margin-bottom: 0.5em;}#sk-container-id-16 div.sk-estimator:hover {background-color: #d4ebff;}#sk-container-id-16 div.sk-parallel-item::after {content: \"\";width: 100%;border-bottom: 1px solid gray;flex-grow: 1;}#sk-container-id-16 div.sk-label:hover label.sk-toggleable__label {background-color: #d4ebff;}#sk-container-id-16 div.sk-serial::before {content: \"\";position: absolute;border-left: 1px solid gray;box-sizing: border-box;top: 0;bottom: 0;left: 50%;z-index: 0;}#sk-container-id-16 div.sk-serial {display: flex;flex-direction: column;align-items: center;background-color: white;padding-right: 0.2em;padding-left: 0.2em;position: relative;}#sk-container-id-16 div.sk-item {position: relative;z-index: 1;}#sk-container-id-16 div.sk-parallel {display: flex;align-items: stretch;justify-content: center;background-color: white;position: relative;}#sk-container-id-16 div.sk-item::before, #sk-container-id-16 div.sk-parallel-item::before {content: \"\";position: absolute;border-left: 1px solid gray;box-sizing: border-box;top: 0;bottom: 0;left: 50%;z-index: -1;}#sk-container-id-16 div.sk-parallel-item {display: flex;flex-direction: column;z-index: 1;position: relative;background-color: white;}#sk-container-id-16 div.sk-parallel-item:first-child::after {align-self: flex-end;width: 50%;}#sk-container-id-16 div.sk-parallel-item:last-child::after {align-self: flex-start;width: 50%;}#sk-container-id-16 div.sk-parallel-item:only-child::after {width: 0;}#sk-container-id-16 div.sk-dashed-wrapped {border: 1px dashed gray;margin: 0 0.4em 0.5em 0.4em;box-sizing: border-box;padding-bottom: 0.4em;background-color: white;}#sk-container-id-16 div.sk-label label {font-family: monospace;font-weight: bold;display: inline-block;line-height: 1.2em;}#sk-container-id-16 div.sk-label-container {text-align: center;}#sk-container-id-16 div.sk-container {/* jupyter's `normalize.less` sets `[hidden] { display: none; }` but bootstrap.min.css set `[hidden] { display: none !important; }` so we also need the `!important` here to be able to override the default hidden behavior on the sphinx rendered scikit-learn.org. See: https://github.com/scikit-learn/scikit-learn/issues/21755 */display: inline-block !important;position: relative;}#sk-container-id-16 div.sk-text-repr-fallback {display: none;}</style><div id=\"sk-container-id-16\" class=\"sk-top-container\"><div class=\"sk-text-repr-fallback\"><pre>RandomForestClassifier(max_depth=10, n_estimators=50)</pre><b>In a Jupyter environment, please rerun this cell to show the HTML representation or trust the notebook. <br />On GitHub, the HTML representation is unable to render, please try loading this page with nbviewer.org.</b></div><div class=\"sk-container\" hidden><div class=\"sk-item\"><div class=\"sk-estimator sk-toggleable\"><input class=\"sk-toggleable__control sk-hidden--visually\" id=\"sk-estimator-id-141\" type=\"checkbox\" checked><label for=\"sk-estimator-id-141\" class=\"sk-toggleable__label sk-toggleable__label-arrow\">RandomForestClassifier</label><div class=\"sk-toggleable__content\"><pre>RandomForestClassifier(max_depth=10, n_estimators=50)</pre></div></div></div></div></div>"
      ],
      "text/plain": [
       "RandomForestClassifier(max_depth=10, n_estimators=50)"
      ]
     },
     "execution_count": 147,
     "metadata": {},
     "output_type": "execute_result"
    }
   ],
   "source": [
    "clf.fit(X_train, y_train)"
   ]
  },
  {
   "cell_type": "code",
   "execution_count": 149,
   "id": "accd173c-fd46-45ee-906e-458f8b8ccc76",
   "metadata": {},
   "outputs": [],
   "source": [
    "y_predicted = clf.predict(X_test)"
   ]
  },
  {
   "cell_type": "code",
   "execution_count": 150,
   "id": "930e4cf6-f53e-4987-94cb-6b2e752938b2",
   "metadata": {},
   "outputs": [
    {
     "name": "stdout",
     "output_type": "stream",
     "text": [
      "r2 score: 0.4608695652173913\n",
      "accuracy score: 0.8652173913043478\n",
      "recall score: 0.9217391304347826\n",
      "precision score: 0.828125\n"
     ]
    }
   ],
   "source": [
    "r2 = r2_score(y_test, y_predicted)\n",
    "acc = accuracy_score(y_test, y_predicted)\n",
    "recal = recall_score(y_test, y_predicted)\n",
    "precision = precision_score(y_test, y_predicted)\n",
    "print('r2 score:', r2)\n",
    "print('accuracy score:', acc)\n",
    "print('recall score:', recal)\n",
    "print('precision score:', precision)"
   ]
  },
  {
   "cell_type": "code",
   "execution_count": null,
   "id": "8b64522d-de76-4ea3-a8d2-75d663bb14be",
   "metadata": {},
   "outputs": [],
   "source": [
    "#similar to created model from pipeline, can now extract feature importances easier as well"
   ]
  },
  {
   "cell_type": "code",
   "execution_count": 158,
   "id": "0abfcfc6-f912-49a1-bd63-57ae83b3cdde",
   "metadata": {},
   "outputs": [
    {
     "data": {
      "image/png": "[encoded data removed]",
      "text/plain": [
       "<Figure size 1080x720 with 1 Axes>"
      ]
     },
     "metadata": {
      "needs_background": "light"
     },
     "output_type": "display_data"
    }
   ],
   "source": [
    "plt.figure(figsize=(15,10))\n",
    "feature_imp = clf.feature_importances_\n",
    "indexs = np.argsort(feature_imp)\n",
    "plt.title(\"Feature Importance\")\n",
    "plt.barh(range(len(indexs)),feature_imp[indexs],align=\"center\")\n",
    "plt.yticks(range(len(indexs)),[column_names[i] for i in indexs])\n",
    "plt.xlabel(\"Random Forest Feature Importance\")\n",
    "#plt.tight_layout()\n",
    "plt.show()"
   ]
  },
  {
   "cell_type": "code",
   "execution_count": 3,
   "id": "78fc43d3-1148-452a-9e8b-b8119886debc",
   "metadata": {},
   "outputs": [
    {
     "data": {
      "text/plain": [
       "<Figure size 432x288 with 0 Axes>"
      ]
     },
     "metadata": {},
     "output_type": "display_data"
    }
   ],
   "source": [
    "plt.savefig('../figures/feature_importance.png')"
   ]
  },
  {
   "cell_type": "code",
   "execution_count": 159,
   "id": "40fc00c9-18db-4dda-9a4f-f251c3e7c478",
   "metadata": {},
   "outputs": [],
   "source": [
    "#Based on what is seen from this graph, ST slope, old peak, max heart rate, chest pain type (but only asy or not symp), age, max hr, resting bp and cholesterol make up most of \n",
    "#the importance, can cut down features such as resting ECG, fasting BS, even sex doesnt seem to be too important, and retrain a new model"
   ]
  },
  {
   "cell_type": "code",
   "execution_count": null,
   "id": "32ce1257-1126-44c0-9089-0b018e976fb2",
   "metadata": {},
   "outputs": [],
   "source": [
    "#previous had 91% recall"
   ]
  },
  {
   "cell_type": "code",
   "execution_count": 4,
   "id": "a5f0cec0-e047-4629-afe3-488a0f78b36f",
   "metadata": {},
   "outputs": [],
   "source": [
    "df = pd.read_csv('../data/features_removed_heart.csv')"
   ]
  },
  {
   "cell_type": "code",
   "execution_count": 5,
   "id": "9866e388-de0c-49ab-b4ed-b9b7fe9573c0",
   "metadata": {},
   "outputs": [],
   "source": [
    "from sklearn.ensemble import RandomForestClassifier"
   ]
  },
  {
   "cell_type": "code",
   "execution_count": 50,
   "id": "52d21c29-7c08-4fb0-9c66-f465d11461be",
   "metadata": {},
   "outputs": [],
   "source": [
    "from sklearn.model_selection import train_test_split\n",
    "X = df.iloc[:,:-1]\n",
    "y = df.iloc[:,-1]\n",
    "X_train, X_test, y_train, y_test = train_test_split(X, y, test_size=0.25)"
   ]
  },
  {
   "cell_type": "code",
   "execution_count": 51,
   "id": "b4f574cc-c1c8-4352-a6d0-835fd00f180a",
   "metadata": {},
   "outputs": [],
   "source": [
    "#same pipeline\n",
    "categorical_preprocessing = Pipeline([('ohe', OneHotEncoder())])\n",
    "numerical_preprocessing = Pipeline([('imputer', KNNImputer(n_neighbors=5))])\n",
    "preprocess = ColumnTransformer([\n",
    "    ('categorical_preprocessing', categorical_preprocessing, ['ChestPainType','ST_Slope','ExerciseAngina']),\n",
    "    ('numerical_preprocessing', numerical_preprocessing, ['Age','RestingBP','Cholesterol','MaxHR','Oldpeak']),\n",
    "    ('scaler', StandardScaler(), ['Age','RestingBP','Cholesterol','MaxHR','Oldpeak'])\n",
    "])"
   ]
  },
  {
   "cell_type": "code",
   "execution_count": 52,
   "id": "50227805-4933-4eac-bf0a-3b71f8de2a69",
   "metadata": {},
   "outputs": [],
   "source": [
    "rfc = RandomForestClassifier(max_depth=10, n_estimators= 50)"
   ]
  },
  {
   "cell_type": "code",
   "execution_count": 53,
   "id": "d53d3dfd-1b66-417a-a07f-a297826e4bb6",
   "metadata": {},
   "outputs": [],
   "source": [
    "rfc_pipe = Pipeline([\n",
    "    ('preprocess', preprocess),\n",
    "    ('rfc', rfc)\n",
    "])"
   ]
  },
  {
   "cell_type": "code",
   "execution_count": 54,
   "id": "892bf098-d653-4655-8841-0f03c90244f7",
   "metadata": {},
   "outputs": [
    {
     "data": {
      "text/html": [
       "<style>#sk-container-id-11 {color: black;background-color: white;}#sk-container-id-11 pre{padding: 0;}#sk-container-id-11 div.sk-toggleable {background-color: white;}#sk-container-id-11 label.sk-toggleable__label {cursor: pointer;display: block;width: 100%;margin-bottom: 0;padding: 0.3em;box-sizing: border-box;text-align: center;}#sk-container-id-11 label.sk-toggleable__label-arrow:before {content: \"▸\";float: left;margin-right: 0.25em;color: #696969;}#sk-container-id-11 label.sk-toggleable__label-arrow:hover:before {color: black;}#sk-container-id-11 div.sk-estimator:hover label.sk-toggleable__label-arrow:before {color: black;}#sk-container-id-11 div.sk-toggleable__content {max-height: 0;max-width: 0;overflow: hidden;text-align: left;background-color: #f0f8ff;}#sk-container-id-11 div.sk-toggleable__content pre {margin: 0.2em;color: black;border-radius: 0.25em;background-color: #f0f8ff;}#sk-container-id-11 input.sk-toggleable__control:checked~div.sk-toggleable__content {max-height: 200px;max-width: 100%;overflow: auto;}#sk-container-id-11 input.sk-toggleable__control:checked~label.sk-toggleable__label-arrow:before {content: \"▾\";}#sk-container-id-11 div.sk-estimator input.sk-toggleable__control:checked~label.sk-toggleable__label {background-color: #d4ebff;}#sk-container-id-11 div.sk-label input.sk-toggleable__control:checked~label.sk-toggleable__label {background-color: #d4ebff;}#sk-container-id-11 input.sk-hidden--visually {border: 0;clip: rect(1px 1px 1px 1px);clip: rect(1px, 1px, 1px, 1px);height: 1px;margin: -1px;overflow: hidden;padding: 0;position: absolute;width: 1px;}#sk-container-id-11 div.sk-estimator {font-family: monospace;background-color: #f0f8ff;border: 1px dotted black;border-radius: 0.25em;box-sizing: border-box;margin-bottom: 0.5em;}#sk-container-id-11 div.sk-estimator:hover {background-color: #d4ebff;}#sk-container-id-11 div.sk-parallel-item::after {content: \"\";width: 100%;border-bottom: 1px solid gray;flex-grow: 1;}#sk-container-id-11 div.sk-label:hover label.sk-toggleable__label {background-color: #d4ebff;}#sk-container-id-11 div.sk-serial::before {content: \"\";position: absolute;border-left: 1px solid gray;box-sizing: border-box;top: 0;bottom: 0;left: 50%;z-index: 0;}#sk-container-id-11 div.sk-serial {display: flex;flex-direction: column;align-items: center;background-color: white;padding-right: 0.2em;padding-left: 0.2em;position: relative;}#sk-container-id-11 div.sk-item {position: relative;z-index: 1;}#sk-container-id-11 div.sk-parallel {display: flex;align-items: stretch;justify-content: center;background-color: white;position: relative;}#sk-container-id-11 div.sk-item::before, #sk-container-id-11 div.sk-parallel-item::before {content: \"\";position: absolute;border-left: 1px solid gray;box-sizing: border-box;top: 0;bottom: 0;left: 50%;z-index: -1;}#sk-container-id-11 div.sk-parallel-item {display: flex;flex-direction: column;z-index: 1;position: relative;background-color: white;}#sk-container-id-11 div.sk-parallel-item:first-child::after {align-self: flex-end;width: 50%;}#sk-container-id-11 div.sk-parallel-item:last-child::after {align-self: flex-start;width: 50%;}#sk-container-id-11 div.sk-parallel-item:only-child::after {width: 0;}#sk-container-id-11 div.sk-dashed-wrapped {border: 1px dashed gray;margin: 0 0.4em 0.5em 0.4em;box-sizing: border-box;padding-bottom: 0.4em;background-color: white;}#sk-container-id-11 div.sk-label label {font-family: monospace;font-weight: bold;display: inline-block;line-height: 1.2em;}#sk-container-id-11 div.sk-label-container {text-align: center;}#sk-container-id-11 div.sk-container {/* jupyter's `normalize.less` sets `[hidden] { display: none; }` but bootstrap.min.css set `[hidden] { display: none !important; }` so we also need the `!important` here to be able to override the default hidden behavior on the sphinx rendered scikit-learn.org. See: https://github.com/scikit-learn/scikit-learn/issues/21755 */display: inline-block !important;position: relative;}#sk-container-id-11 div.sk-text-repr-fallback {display: none;}</style><div id=\"sk-container-id-11\" class=\"sk-top-container\"><div class=\"sk-text-repr-fallback\"><pre>Pipeline(steps=[(&#x27;preprocess&#x27;,\n",
       "                 ColumnTransformer(transformers=[(&#x27;categorical_preprocessing&#x27;,\n",
       "                                                  Pipeline(steps=[(&#x27;ohe&#x27;,\n",
       "                                                                   OneHotEncoder())]),\n",
       "                                                  [&#x27;ChestPainType&#x27;, &#x27;ST_Slope&#x27;,\n",
       "                                                   &#x27;ExerciseAngina&#x27;]),\n",
       "                                                 (&#x27;numerical_preprocessing&#x27;,\n",
       "                                                  Pipeline(steps=[(&#x27;imputer&#x27;,\n",
       "                                                                   KNNImputer())]),\n",
       "                                                  [&#x27;Age&#x27;, &#x27;RestingBP&#x27;,\n",
       "                                                   &#x27;Cholesterol&#x27;, &#x27;MaxHR&#x27;,\n",
       "                                                   &#x27;Oldpeak&#x27;]),\n",
       "                                                 (&#x27;scaler&#x27;, StandardScaler(),\n",
       "                                                  [&#x27;Age&#x27;, &#x27;RestingBP&#x27;,\n",
       "                                                   &#x27;Cholesterol&#x27;, &#x27;MaxHR&#x27;,\n",
       "                                                   &#x27;Oldpeak&#x27;])])),\n",
       "                (&#x27;rfc&#x27;, RandomForestClassifier(max_depth=10, n_estimators=50))])</pre><b>In a Jupyter environment, please rerun this cell to show the HTML representation or trust the notebook. <br />On GitHub, the HTML representation is unable to render, please try loading this page with nbviewer.org.</b></div><div class=\"sk-container\" hidden><div class=\"sk-item sk-dashed-wrapped\"><div class=\"sk-label-container\"><div class=\"sk-label sk-toggleable\"><input class=\"sk-toggleable__control sk-hidden--visually\" id=\"sk-estimator-id-91\" type=\"checkbox\" ><label for=\"sk-estimator-id-91\" class=\"sk-toggleable__label sk-toggleable__label-arrow\">Pipeline</label><div class=\"sk-toggleable__content\"><pre>Pipeline(steps=[(&#x27;preprocess&#x27;,\n",
       "                 ColumnTransformer(transformers=[(&#x27;categorical_preprocessing&#x27;,\n",
       "                                                  Pipeline(steps=[(&#x27;ohe&#x27;,\n",
       "                                                                   OneHotEncoder())]),\n",
       "                                                  [&#x27;ChestPainType&#x27;, &#x27;ST_Slope&#x27;,\n",
       "                                                   &#x27;ExerciseAngina&#x27;]),\n",
       "                                                 (&#x27;numerical_preprocessing&#x27;,\n",
       "                                                  Pipeline(steps=[(&#x27;imputer&#x27;,\n",
       "                                                                   KNNImputer())]),\n",
       "                                                  [&#x27;Age&#x27;, &#x27;RestingBP&#x27;,\n",
       "                                                   &#x27;Cholesterol&#x27;, &#x27;MaxHR&#x27;,\n",
       "                                                   &#x27;Oldpeak&#x27;]),\n",
       "                                                 (&#x27;scaler&#x27;, StandardScaler(),\n",
       "                                                  [&#x27;Age&#x27;, &#x27;RestingBP&#x27;,\n",
       "                                                   &#x27;Cholesterol&#x27;, &#x27;MaxHR&#x27;,\n",
       "                                                   &#x27;Oldpeak&#x27;])])),\n",
       "                (&#x27;rfc&#x27;, RandomForestClassifier(max_depth=10, n_estimators=50))])</pre></div></div></div><div class=\"sk-serial\"><div class=\"sk-item sk-dashed-wrapped\"><div class=\"sk-label-container\"><div class=\"sk-label sk-toggleable\"><input class=\"sk-toggleable__control sk-hidden--visually\" id=\"sk-estimator-id-92\" type=\"checkbox\" ><label for=\"sk-estimator-id-92\" class=\"sk-toggleable__label sk-toggleable__label-arrow\">preprocess: ColumnTransformer</label><div class=\"sk-toggleable__content\"><pre>ColumnTransformer(transformers=[(&#x27;categorical_preprocessing&#x27;,\n",
       "                                 Pipeline(steps=[(&#x27;ohe&#x27;, OneHotEncoder())]),\n",
       "                                 [&#x27;ChestPainType&#x27;, &#x27;ST_Slope&#x27;,\n",
       "                                  &#x27;ExerciseAngina&#x27;]),\n",
       "                                (&#x27;numerical_preprocessing&#x27;,\n",
       "                                 Pipeline(steps=[(&#x27;imputer&#x27;, KNNImputer())]),\n",
       "                                 [&#x27;Age&#x27;, &#x27;RestingBP&#x27;, &#x27;Cholesterol&#x27;, &#x27;MaxHR&#x27;,\n",
       "                                  &#x27;Oldpeak&#x27;]),\n",
       "                                (&#x27;scaler&#x27;, StandardScaler(),\n",
       "                                 [&#x27;Age&#x27;, &#x27;RestingBP&#x27;, &#x27;Cholesterol&#x27;, &#x27;MaxHR&#x27;,\n",
       "                                  &#x27;Oldpeak&#x27;])])</pre></div></div></div><div class=\"sk-parallel\"><div class=\"sk-parallel-item\"><div class=\"sk-item\"><div class=\"sk-label-container\"><div class=\"sk-label sk-toggleable\"><input class=\"sk-toggleable__control sk-hidden--visually\" id=\"sk-estimator-id-93\" type=\"checkbox\" ><label for=\"sk-estimator-id-93\" class=\"sk-toggleable__label sk-toggleable__label-arrow\">categorical_preprocessing</label><div class=\"sk-toggleable__content\"><pre>[&#x27;ChestPainType&#x27;, &#x27;ST_Slope&#x27;, &#x27;ExerciseAngina&#x27;]</pre></div></div></div><div class=\"sk-serial\"><div class=\"sk-item\"><div class=\"sk-serial\"><div class=\"sk-item\"><div class=\"sk-estimator sk-toggleable\"><input class=\"sk-toggleable__control sk-hidden--visually\" id=\"sk-estimator-id-94\" type=\"checkbox\" ><label for=\"sk-estimator-id-94\" class=\"sk-toggleable__label sk-toggleable__label-arrow\">OneHotEncoder</label><div class=\"sk-toggleable__content\"><pre>OneHotEncoder()</pre></div></div></div></div></div></div></div></div><div class=\"sk-parallel-item\"><div class=\"sk-item\"><div class=\"sk-label-container\"><div class=\"sk-label sk-toggleable\"><input class=\"sk-toggleable__control sk-hidden--visually\" id=\"sk-estimator-id-95\" type=\"checkbox\" ><label for=\"sk-estimator-id-95\" class=\"sk-toggleable__label sk-toggleable__label-arrow\">numerical_preprocessing</label><div class=\"sk-toggleable__content\"><pre>[&#x27;Age&#x27;, &#x27;RestingBP&#x27;, &#x27;Cholesterol&#x27;, &#x27;MaxHR&#x27;, &#x27;Oldpeak&#x27;]</pre></div></div></div><div class=\"sk-serial\"><div class=\"sk-item\"><div class=\"sk-serial\"><div class=\"sk-item\"><div class=\"sk-estimator sk-toggleable\"><input class=\"sk-toggleable__control sk-hidden--visually\" id=\"sk-estimator-id-96\" type=\"checkbox\" ><label for=\"sk-estimator-id-96\" class=\"sk-toggleable__label sk-toggleable__label-arrow\">KNNImputer</label><div class=\"sk-toggleable__content\"><pre>KNNImputer()</pre></div></div></div></div></div></div></div></div><div class=\"sk-parallel-item\"><div class=\"sk-item\"><div class=\"sk-label-container\"><div class=\"sk-label sk-toggleable\"><input class=\"sk-toggleable__control sk-hidden--visually\" id=\"sk-estimator-id-97\" type=\"checkbox\" ><label for=\"sk-estimator-id-97\" class=\"sk-toggleable__label sk-toggleable__label-arrow\">scaler</label><div class=\"sk-toggleable__content\"><pre>[&#x27;Age&#x27;, &#x27;RestingBP&#x27;, &#x27;Cholesterol&#x27;, &#x27;MaxHR&#x27;, &#x27;Oldpeak&#x27;]</pre></div></div></div><div class=\"sk-serial\"><div class=\"sk-item\"><div class=\"sk-estimator sk-toggleable\"><input class=\"sk-toggleable__control sk-hidden--visually\" id=\"sk-estimator-id-98\" type=\"checkbox\" ><label for=\"sk-estimator-id-98\" class=\"sk-toggleable__label sk-toggleable__label-arrow\">StandardScaler</label><div class=\"sk-toggleable__content\"><pre>StandardScaler()</pre></div></div></div></div></div></div></div></div><div class=\"sk-item\"><div class=\"sk-estimator sk-toggleable\"><input class=\"sk-toggleable__control sk-hidden--visually\" id=\"sk-estimator-id-99\" type=\"checkbox\" ><label for=\"sk-estimator-id-99\" class=\"sk-toggleable__label sk-toggleable__label-arrow\">RandomForestClassifier</label><div class=\"sk-toggleable__content\"><pre>RandomForestClassifier(max_depth=10, n_estimators=50)</pre></div></div></div></div></div></div></div>"
      ],
      "text/plain": [
       "Pipeline(steps=[('preprocess',\n",
       "                 ColumnTransformer(transformers=[('categorical_preprocessing',\n",
       "                                                  Pipeline(steps=[('ohe',\n",
       "                                                                   OneHotEncoder())]),\n",
       "                                                  ['ChestPainType', 'ST_Slope',\n",
       "                                                   'ExerciseAngina']),\n",
       "                                                 ('numerical_preprocessing',\n",
       "                                                  Pipeline(steps=[('imputer',\n",
       "                                                                   KNNImputer())]),\n",
       "                                                  ['Age', 'RestingBP',\n",
       "                                                   'Cholesterol', 'MaxHR',\n",
       "                                                   'Oldpeak']),\n",
       "                                                 ('scaler', StandardScaler(),\n",
       "                                                  ['Age', 'RestingBP',\n",
       "                                                   'Cholesterol', 'MaxHR',\n",
       "                                                   'Oldpeak'])])),\n",
       "                ('rfc', RandomForestClassifier(max_depth=10, n_estimators=50))])"
      ]
     },
     "execution_count": 54,
     "metadata": {},
     "output_type": "execute_result"
    }
   ],
   "source": [
    "rfc_pipe.fit(X_train, y_train)"
   ]
  },
  {
   "cell_type": "code",
   "execution_count": 55,
   "id": "4cd922d3-f3c2-4301-a209-b2f152a5832d",
   "metadata": {},
   "outputs": [
    {
     "name": "stdout",
     "output_type": "stream",
     "text": [
      "r2 score: 0.5787545787545787\n",
      "accuracy score: 0.8956521739130435\n",
      "recall score: 0.9285714285714286\n",
      "precision score: 0.8863636363636364\n"
     ]
    }
   ],
   "source": [
    "y_predicted = rfc_pipe.predict(X_test)\n",
    "r2 = r2_score(y_test, y_predicted)\n",
    "acc = accuracy_score(y_test, y_predicted)\n",
    "recal = recall_score(y_test, y_predicted)\n",
    "precision = precision_score(y_test, y_predicted)\n",
    "print('r2 score:', r2)\n",
    "print('accuracy score:', acc)\n",
    "print('recall score:', recal)\n",
    "print('precision score:', precision)"
   ]
  },
  {
   "cell_type": "code",
   "execution_count": 56,
   "id": "7a83c1ad-942e-4513-a1cf-fc6c42b9471d",
   "metadata": {},
   "outputs": [],
   "source": [
    "#improved recall score around ~2%"
   ]
  },
  {
   "cell_type": "code",
   "execution_count": 68,
   "id": "85f528af-bd5a-4293-a5e7-4634e1826b84",
   "metadata": {},
   "outputs": [
    {
     "data": {
      "text/plain": [
       "array([0.08080771, 0.04684614, 0.00296916, 0.1184075 , 0.1177245 ,\n",
       "       0.0314854 , 0.04527635, 0.05167804, 0.04178271, 0.04555148,\n",
       "       0.06173239, 0.06359369, 0.04987081, 0.04857785, 0.0458815 ,\n",
       "       0.05991619, 0.08789859])"
      ]
     },
     "execution_count": 68,
     "metadata": {},
     "output_type": "execute_result"
    }
   ],
   "source": [
    "rfc_pipe.steps[1][1].feature_importances_"
   ]
  },
  {
   "cell_type": "code",
   "execution_count": 71,
   "id": "89fbcdbc-b618-4e3f-b553-5a61a2bf44e7",
   "metadata": {},
   "outputs": [],
   "source": [
    "#save this model to compare to one created after\n",
    "import pickle\n",
    "pickle.dump(rfc_pipe, open( \"../models/features_removed_rfc_pipeline\", \"wb\" ) )"
   ]
  },
  {
   "cell_type": "code",
   "execution_count": 72,
   "id": "96bdc745-df6d-46e0-a0dc-c2cc36cd5f54",
   "metadata": {},
   "outputs": [],
   "source": [
    "df = pd.read_csv('../data/somefeatures_removed_heart.csv')"
   ]
  },
  {
   "cell_type": "code",
   "execution_count": 93,
   "id": "0263e735-09e8-48a5-81f5-5f32c2c792fd",
   "metadata": {},
   "outputs": [],
   "source": [
    "X = df.iloc[:,:-1]\n",
    "y = df.iloc[:,-1]\n",
    "X_train, X_test, y_train, y_test = train_test_split(X, y, test_size=0.25)"
   ]
  },
  {
   "cell_type": "code",
   "execution_count": 94,
   "id": "f31e3007-457c-477a-a542-05b3293db0fd",
   "metadata": {},
   "outputs": [],
   "source": [
    "categorical_preprocessing = Pipeline([('ohe', OneHotEncoder())])\n",
    "numerical_preprocessing = Pipeline([('imputer', KNNImputer(n_neighbors=5))])\n",
    "preprocess = ColumnTransformer([\n",
    "    ('categorical_preprocessing', categorical_preprocessing, ['ChestPainType','ST_Slope','ExerciseAngina']),\n",
    "    ('numerical_preprocessing', numerical_preprocessing, ['Age','RestingBP','Cholesterol','MaxHR','Oldpeak']),\n",
    "    ('scaler', StandardScaler(), ['Age','RestingBP','Cholesterol','MaxHR','Oldpeak'])\n",
    "])\n",
    "rfc = RandomForestClassifier(max_depth=10, n_estimators= 50)\n",
    "rfc_pipe = Pipeline([\n",
    "    ('preprocess', preprocess),\n",
    "    ('rfc', rfc)\n",
    "])"
   ]
  },
  {
   "cell_type": "code",
   "execution_count": 95,
   "id": "c302601d-879a-4fda-b004-72a97f95d3b0",
   "metadata": {},
   "outputs": [
    {
     "data": {
      "text/html": [
       "<style>#sk-container-id-21 {color: black;background-color: white;}#sk-container-id-21 pre{padding: 0;}#sk-container-id-21 div.sk-toggleable {background-color: white;}#sk-container-id-21 label.sk-toggleable__label {cursor: pointer;display: block;width: 100%;margin-bottom: 0;padding: 0.3em;box-sizing: border-box;text-align: center;}#sk-container-id-21 label.sk-toggleable__label-arrow:before {content: \"▸\";float: left;margin-right: 0.25em;color: #696969;}#sk-container-id-21 label.sk-toggleable__label-arrow:hover:before {color: black;}#sk-container-id-21 div.sk-estimator:hover label.sk-toggleable__label-arrow:before {color: black;}#sk-container-id-21 div.sk-toggleable__content {max-height: 0;max-width: 0;overflow: hidden;text-align: left;background-color: #f0f8ff;}#sk-container-id-21 div.sk-toggleable__content pre {margin: 0.2em;color: black;border-radius: 0.25em;background-color: #f0f8ff;}#sk-container-id-21 input.sk-toggleable__control:checked~div.sk-toggleable__content {max-height: 200px;max-width: 100%;overflow: auto;}#sk-container-id-21 input.sk-toggleable__control:checked~label.sk-toggleable__label-arrow:before {content: \"▾\";}#sk-container-id-21 div.sk-estimator input.sk-toggleable__control:checked~label.sk-toggleable__label {background-color: #d4ebff;}#sk-container-id-21 div.sk-label input.sk-toggleable__control:checked~label.sk-toggleable__label {background-color: #d4ebff;}#sk-container-id-21 input.sk-hidden--visually {border: 0;clip: rect(1px 1px 1px 1px);clip: rect(1px, 1px, 1px, 1px);height: 1px;margin: -1px;overflow: hidden;padding: 0;position: absolute;width: 1px;}#sk-container-id-21 div.sk-estimator {font-family: monospace;background-color: #f0f8ff;border: 1px dotted black;border-radius: 0.25em;box-sizing: border-box;margin-bottom: 0.5em;}#sk-container-id-21 div.sk-estimator:hover {background-color: #d4ebff;}#sk-container-id-21 div.sk-parallel-item::after {content: \"\";width: 100%;border-bottom: 1px solid gray;flex-grow: 1;}#sk-container-id-21 div.sk-label:hover label.sk-toggleable__label {background-color: #d4ebff;}#sk-container-id-21 div.sk-serial::before {content: \"\";position: absolute;border-left: 1px solid gray;box-sizing: border-box;top: 0;bottom: 0;left: 50%;z-index: 0;}#sk-container-id-21 div.sk-serial {display: flex;flex-direction: column;align-items: center;background-color: white;padding-right: 0.2em;padding-left: 0.2em;position: relative;}#sk-container-id-21 div.sk-item {position: relative;z-index: 1;}#sk-container-id-21 div.sk-parallel {display: flex;align-items: stretch;justify-content: center;background-color: white;position: relative;}#sk-container-id-21 div.sk-item::before, #sk-container-id-21 div.sk-parallel-item::before {content: \"\";position: absolute;border-left: 1px solid gray;box-sizing: border-box;top: 0;bottom: 0;left: 50%;z-index: -1;}#sk-container-id-21 div.sk-parallel-item {display: flex;flex-direction: column;z-index: 1;position: relative;background-color: white;}#sk-container-id-21 div.sk-parallel-item:first-child::after {align-self: flex-end;width: 50%;}#sk-container-id-21 div.sk-parallel-item:last-child::after {align-self: flex-start;width: 50%;}#sk-container-id-21 div.sk-parallel-item:only-child::after {width: 0;}#sk-container-id-21 div.sk-dashed-wrapped {border: 1px dashed gray;margin: 0 0.4em 0.5em 0.4em;box-sizing: border-box;padding-bottom: 0.4em;background-color: white;}#sk-container-id-21 div.sk-label label {font-family: monospace;font-weight: bold;display: inline-block;line-height: 1.2em;}#sk-container-id-21 div.sk-label-container {text-align: center;}#sk-container-id-21 div.sk-container {/* jupyter's `normalize.less` sets `[hidden] { display: none; }` but bootstrap.min.css set `[hidden] { display: none !important; }` so we also need the `!important` here to be able to override the default hidden behavior on the sphinx rendered scikit-learn.org. See: https://github.com/scikit-learn/scikit-learn/issues/21755 */display: inline-block !important;position: relative;}#sk-container-id-21 div.sk-text-repr-fallback {display: none;}</style><div id=\"sk-container-id-21\" class=\"sk-top-container\"><div class=\"sk-text-repr-fallback\"><pre>Pipeline(steps=[(&#x27;preprocess&#x27;,\n",
       "                 ColumnTransformer(transformers=[(&#x27;categorical_preprocessing&#x27;,\n",
       "                                                  Pipeline(steps=[(&#x27;ohe&#x27;,\n",
       "                                                                   OneHotEncoder())]),\n",
       "                                                  [&#x27;ChestPainType&#x27;, &#x27;ST_Slope&#x27;,\n",
       "                                                   &#x27;ExerciseAngina&#x27;]),\n",
       "                                                 (&#x27;numerical_preprocessing&#x27;,\n",
       "                                                  Pipeline(steps=[(&#x27;imputer&#x27;,\n",
       "                                                                   KNNImputer())]),\n",
       "                                                  [&#x27;Age&#x27;, &#x27;RestingBP&#x27;,\n",
       "                                                   &#x27;Cholesterol&#x27;, &#x27;MaxHR&#x27;,\n",
       "                                                   &#x27;Oldpeak&#x27;]),\n",
       "                                                 (&#x27;scaler&#x27;, StandardScaler(),\n",
       "                                                  [&#x27;Age&#x27;, &#x27;RestingBP&#x27;,\n",
       "                                                   &#x27;Cholesterol&#x27;, &#x27;MaxHR&#x27;,\n",
       "                                                   &#x27;Oldpeak&#x27;])])),\n",
       "                (&#x27;rfc&#x27;, RandomForestClassifier(max_depth=10, n_estimators=50))])</pre><b>In a Jupyter environment, please rerun this cell to show the HTML representation or trust the notebook. <br />On GitHub, the HTML representation is unable to render, please try loading this page with nbviewer.org.</b></div><div class=\"sk-container\" hidden><div class=\"sk-item sk-dashed-wrapped\"><div class=\"sk-label-container\"><div class=\"sk-label sk-toggleable\"><input class=\"sk-toggleable__control sk-hidden--visually\" id=\"sk-estimator-id-155\" type=\"checkbox\" ><label for=\"sk-estimator-id-155\" class=\"sk-toggleable__label sk-toggleable__label-arrow\">Pipeline</label><div class=\"sk-toggleable__content\"><pre>Pipeline(steps=[(&#x27;preprocess&#x27;,\n",
       "                 ColumnTransformer(transformers=[(&#x27;categorical_preprocessing&#x27;,\n",
       "                                                  Pipeline(steps=[(&#x27;ohe&#x27;,\n",
       "                                                                   OneHotEncoder())]),\n",
       "                                                  [&#x27;ChestPainType&#x27;, &#x27;ST_Slope&#x27;,\n",
       "                                                   &#x27;ExerciseAngina&#x27;]),\n",
       "                                                 (&#x27;numerical_preprocessing&#x27;,\n",
       "                                                  Pipeline(steps=[(&#x27;imputer&#x27;,\n",
       "                                                                   KNNImputer())]),\n",
       "                                                  [&#x27;Age&#x27;, &#x27;RestingBP&#x27;,\n",
       "                                                   &#x27;Cholesterol&#x27;, &#x27;MaxHR&#x27;,\n",
       "                                                   &#x27;Oldpeak&#x27;]),\n",
       "                                                 (&#x27;scaler&#x27;, StandardScaler(),\n",
       "                                                  [&#x27;Age&#x27;, &#x27;RestingBP&#x27;,\n",
       "                                                   &#x27;Cholesterol&#x27;, &#x27;MaxHR&#x27;,\n",
       "                                                   &#x27;Oldpeak&#x27;])])),\n",
       "                (&#x27;rfc&#x27;, RandomForestClassifier(max_depth=10, n_estimators=50))])</pre></div></div></div><div class=\"sk-serial\"><div class=\"sk-item sk-dashed-wrapped\"><div class=\"sk-label-container\"><div class=\"sk-label sk-toggleable\"><input class=\"sk-toggleable__control sk-hidden--visually\" id=\"sk-estimator-id-156\" type=\"checkbox\" ><label for=\"sk-estimator-id-156\" class=\"sk-toggleable__label sk-toggleable__label-arrow\">preprocess: ColumnTransformer</label><div class=\"sk-toggleable__content\"><pre>ColumnTransformer(transformers=[(&#x27;categorical_preprocessing&#x27;,\n",
       "                                 Pipeline(steps=[(&#x27;ohe&#x27;, OneHotEncoder())]),\n",
       "                                 [&#x27;ChestPainType&#x27;, &#x27;ST_Slope&#x27;,\n",
       "                                  &#x27;ExerciseAngina&#x27;]),\n",
       "                                (&#x27;numerical_preprocessing&#x27;,\n",
       "                                 Pipeline(steps=[(&#x27;imputer&#x27;, KNNImputer())]),\n",
       "                                 [&#x27;Age&#x27;, &#x27;RestingBP&#x27;, &#x27;Cholesterol&#x27;, &#x27;MaxHR&#x27;,\n",
       "                                  &#x27;Oldpeak&#x27;]),\n",
       "                                (&#x27;scaler&#x27;, StandardScaler(),\n",
       "                                 [&#x27;Age&#x27;, &#x27;RestingBP&#x27;, &#x27;Cholesterol&#x27;, &#x27;MaxHR&#x27;,\n",
       "                                  &#x27;Oldpeak&#x27;])])</pre></div></div></div><div class=\"sk-parallel\"><div class=\"sk-parallel-item\"><div class=\"sk-item\"><div class=\"sk-label-container\"><div class=\"sk-label sk-toggleable\"><input class=\"sk-toggleable__control sk-hidden--visually\" id=\"sk-estimator-id-157\" type=\"checkbox\" ><label for=\"sk-estimator-id-157\" class=\"sk-toggleable__label sk-toggleable__label-arrow\">categorical_preprocessing</label><div class=\"sk-toggleable__content\"><pre>[&#x27;ChestPainType&#x27;, &#x27;ST_Slope&#x27;, &#x27;ExerciseAngina&#x27;]</pre></div></div></div><div class=\"sk-serial\"><div class=\"sk-item\"><div class=\"sk-serial\"><div class=\"sk-item\"><div class=\"sk-estimator sk-toggleable\"><input class=\"sk-toggleable__control sk-hidden--visually\" id=\"sk-estimator-id-158\" type=\"checkbox\" ><label for=\"sk-estimator-id-158\" class=\"sk-toggleable__label sk-toggleable__label-arrow\">OneHotEncoder</label><div class=\"sk-toggleable__content\"><pre>OneHotEncoder()</pre></div></div></div></div></div></div></div></div><div class=\"sk-parallel-item\"><div class=\"sk-item\"><div class=\"sk-label-container\"><div class=\"sk-label sk-toggleable\"><input class=\"sk-toggleable__control sk-hidden--visually\" id=\"sk-estimator-id-159\" type=\"checkbox\" ><label for=\"sk-estimator-id-159\" class=\"sk-toggleable__label sk-toggleable__label-arrow\">numerical_preprocessing</label><div class=\"sk-toggleable__content\"><pre>[&#x27;Age&#x27;, &#x27;RestingBP&#x27;, &#x27;Cholesterol&#x27;, &#x27;MaxHR&#x27;, &#x27;Oldpeak&#x27;]</pre></div></div></div><div class=\"sk-serial\"><div class=\"sk-item\"><div class=\"sk-serial\"><div class=\"sk-item\"><div class=\"sk-estimator sk-toggleable\"><input class=\"sk-toggleable__control sk-hidden--visually\" id=\"sk-estimator-id-160\" type=\"checkbox\" ><label for=\"sk-estimator-id-160\" class=\"sk-toggleable__label sk-toggleable__label-arrow\">KNNImputer</label><div class=\"sk-toggleable__content\"><pre>KNNImputer()</pre></div></div></div></div></div></div></div></div><div class=\"sk-parallel-item\"><div class=\"sk-item\"><div class=\"sk-label-container\"><div class=\"sk-label sk-toggleable\"><input class=\"sk-toggleable__control sk-hidden--visually\" id=\"sk-estimator-id-161\" type=\"checkbox\" ><label for=\"sk-estimator-id-161\" class=\"sk-toggleable__label sk-toggleable__label-arrow\">scaler</label><div class=\"sk-toggleable__content\"><pre>[&#x27;Age&#x27;, &#x27;RestingBP&#x27;, &#x27;Cholesterol&#x27;, &#x27;MaxHR&#x27;, &#x27;Oldpeak&#x27;]</pre></div></div></div><div class=\"sk-serial\"><div class=\"sk-item\"><div class=\"sk-estimator sk-toggleable\"><input class=\"sk-toggleable__control sk-hidden--visually\" id=\"sk-estimator-id-162\" type=\"checkbox\" ><label for=\"sk-estimator-id-162\" class=\"sk-toggleable__label sk-toggleable__label-arrow\">StandardScaler</label><div class=\"sk-toggleable__content\"><pre>StandardScaler()</pre></div></div></div></div></div></div></div></div><div class=\"sk-item\"><div class=\"sk-estimator sk-toggleable\"><input class=\"sk-toggleable__control sk-hidden--visually\" id=\"sk-estimator-id-163\" type=\"checkbox\" ><label for=\"sk-estimator-id-163\" class=\"sk-toggleable__label sk-toggleable__label-arrow\">RandomForestClassifier</label><div class=\"sk-toggleable__content\"><pre>RandomForestClassifier(max_depth=10, n_estimators=50)</pre></div></div></div></div></div></div></div>"
      ],
      "text/plain": [
       "Pipeline(steps=[('preprocess',\n",
       "                 ColumnTransformer(transformers=[('categorical_preprocessing',\n",
       "                                                  Pipeline(steps=[('ohe',\n",
       "                                                                   OneHotEncoder())]),\n",
       "                                                  ['ChestPainType', 'ST_Slope',\n",
       "                                                   'ExerciseAngina']),\n",
       "                                                 ('numerical_preprocessing',\n",
       "                                                  Pipeline(steps=[('imputer',\n",
       "                                                                   KNNImputer())]),\n",
       "                                                  ['Age', 'RestingBP',\n",
       "                                                   'Cholesterol', 'MaxHR',\n",
       "                                                   'Oldpeak']),\n",
       "                                                 ('scaler', StandardScaler(),\n",
       "                                                  ['Age', 'RestingBP',\n",
       "                                                   'Cholesterol', 'MaxHR',\n",
       "                                                   'Oldpeak'])])),\n",
       "                ('rfc', RandomForestClassifier(max_depth=10, n_estimators=50))])"
      ]
     },
     "execution_count": 95,
     "metadata": {},
     "output_type": "execute_result"
    }
   ],
   "source": [
    "rfc_pipe.fit(X_train, y_train)"
   ]
  },
  {
   "cell_type": "code",
   "execution_count": 96,
   "id": "82d5bd7a-de7d-436d-a804-1f73971d8f17",
   "metadata": {},
   "outputs": [
    {
     "name": "stdout",
     "output_type": "stream",
     "text": [
      "r2 score: 0.4582478535065725\n",
      "accuracy score: 0.8652173913043478\n",
      "recall score: 0.9186991869918699\n",
      "precision score: 0.8432835820895522\n"
     ]
    }
   ],
   "source": [
    "y_predicted = rfc_pipe.predict(X_test)\n",
    "r2 = r2_score(y_test, y_predicted)\n",
    "acc = accuracy_score(y_test, y_predicted)\n",
    "recal = recall_score(y_test, y_predicted)\n",
    "precision = precision_score(y_test, y_predicted)\n",
    "print('r2 score:', r2)\n",
    "print('accuracy score:', acc)\n",
    "print('recall score:', recal)\n",
    "print('precision score:', precision)"
   ]
  },
  {
   "cell_type": "code",
   "execution_count": 97,
   "id": "42d1523a-209e-4f2c-8e73-651c5d0955fb",
   "metadata": {},
   "outputs": [],
   "source": [
    "#recall score went down, try sequential forward selection"
   ]
  },
  {
   "cell_type": "code",
   "execution_count": 4,
   "id": "e9521f91-712c-41be-906f-b9e1ec3d25cd",
   "metadata": {},
   "outputs": [],
   "source": [
    "#go up to 15 features\n",
    "import pickle\n",
    "initial_rfc = pickle.load(open( \"../models/initial_rfc_pipeline\", \"rb\" ) )"
   ]
  },
  {
   "cell_type": "code",
   "execution_count": null,
   "id": "7915a676-4b54-4f39-bb33-cfe146877ac8",
   "metadata": {},
   "outputs": [],
   "source": [
    "#use original data for this"
   ]
  },
  {
   "cell_type": "code",
   "execution_count": 13,
   "id": "e3a438ef-357f-40f8-9be2-ed45efd2d0a5",
   "metadata": {},
   "outputs": [],
   "source": [
    "df = pd.read_csv('../data/cleaned_heart.csv')"
   ]
  },
  {
   "cell_type": "code",
   "execution_count": 21,
   "id": "f841e9d4-dcdd-4115-9e48-81ff937ce174",
   "metadata": {},
   "outputs": [],
   "source": [
    "#pipeline not working with SFS, need to use the standalone model built before"
   ]
  },
  {
   "cell_type": "code",
   "execution_count": 80,
   "id": "bb50756a-724a-4f9a-aef6-8423ab04c1fa",
   "metadata": {},
   "outputs": [],
   "source": [
    "ohe = OneHotEncoder(sparse=False)\n",
    "ohe_df = ohe.fit_transform(df[['ChestPainType','RestingECG','ST_Slope','Sex','FastingBS','ExerciseAngina']])\n",
    "col_names = ohe.get_feature_names_out()\n",
    "ohe_df = pd.DataFrame(ohe_df, columns = col_names)\n",
    "ss = StandardScaler()\n",
    "scaled = ss.fit_transform(df[['Age','RestingBP','Cholesterol','MaxHR','Oldpeak']])\n",
    "names = ['Age','RestingBP','Cholesterol','MaxHR','Oldpeak']\n",
    "scaled = pd.DataFrame(scaled, columns = names)\n",
    "combined = pd.concat([scaled, ohe_df], axis=1, join='inner')\n",
    "column_names = combined.columns\n",
    "X = combined\n",
    "y = df.iloc[:,-1]\n",
    "X_train, X_test, y_train, y_test = train_test_split(X, y, test_size=0.25)"
   ]
  },
  {
   "cell_type": "code",
   "execution_count": 60,
   "id": "3442554c-1b96-403e-942d-7fbb22fff2f5",
   "metadata": {},
   "outputs": [
    {
     "data": {
      "text/html": [
       "<style>#sk-container-id-9 {color: black;background-color: white;}#sk-container-id-9 pre{padding: 0;}#sk-container-id-9 div.sk-toggleable {background-color: white;}#sk-container-id-9 label.sk-toggleable__label {cursor: pointer;display: block;width: 100%;margin-bottom: 0;padding: 0.3em;box-sizing: border-box;text-align: center;}#sk-container-id-9 label.sk-toggleable__label-arrow:before {content: \"▸\";float: left;margin-right: 0.25em;color: #696969;}#sk-container-id-9 label.sk-toggleable__label-arrow:hover:before {color: black;}#sk-container-id-9 div.sk-estimator:hover label.sk-toggleable__label-arrow:before {color: black;}#sk-container-id-9 div.sk-toggleable__content {max-height: 0;max-width: 0;overflow: hidden;text-align: left;background-color: #f0f8ff;}#sk-container-id-9 div.sk-toggleable__content pre {margin: 0.2em;color: black;border-radius: 0.25em;background-color: #f0f8ff;}#sk-container-id-9 input.sk-toggleable__control:checked~div.sk-toggleable__content {max-height: 200px;max-width: 100%;overflow: auto;}#sk-container-id-9 input.sk-toggleable__control:checked~label.sk-toggleable__label-arrow:before {content: \"▾\";}#sk-container-id-9 div.sk-estimator input.sk-toggleable__control:checked~label.sk-toggleable__label {background-color: #d4ebff;}#sk-container-id-9 div.sk-label input.sk-toggleable__control:checked~label.sk-toggleable__label {background-color: #d4ebff;}#sk-container-id-9 input.sk-hidden--visually {border: 0;clip: rect(1px 1px 1px 1px);clip: rect(1px, 1px, 1px, 1px);height: 1px;margin: -1px;overflow: hidden;padding: 0;position: absolute;width: 1px;}#sk-container-id-9 div.sk-estimator {font-family: monospace;background-color: #f0f8ff;border: 1px dotted black;border-radius: 0.25em;box-sizing: border-box;margin-bottom: 0.5em;}#sk-container-id-9 div.sk-estimator:hover {background-color: #d4ebff;}#sk-container-id-9 div.sk-parallel-item::after {content: \"\";width: 100%;border-bottom: 1px solid gray;flex-grow: 1;}#sk-container-id-9 div.sk-label:hover label.sk-toggleable__label {background-color: #d4ebff;}#sk-container-id-9 div.sk-serial::before {content: \"\";position: absolute;border-left: 1px solid gray;box-sizing: border-box;top: 0;bottom: 0;left: 50%;z-index: 0;}#sk-container-id-9 div.sk-serial {display: flex;flex-direction: column;align-items: center;background-color: white;padding-right: 0.2em;padding-left: 0.2em;position: relative;}#sk-container-id-9 div.sk-item {position: relative;z-index: 1;}#sk-container-id-9 div.sk-parallel {display: flex;align-items: stretch;justify-content: center;background-color: white;position: relative;}#sk-container-id-9 div.sk-item::before, #sk-container-id-9 div.sk-parallel-item::before {content: \"\";position: absolute;border-left: 1px solid gray;box-sizing: border-box;top: 0;bottom: 0;left: 50%;z-index: -1;}#sk-container-id-9 div.sk-parallel-item {display: flex;flex-direction: column;z-index: 1;position: relative;background-color: white;}#sk-container-id-9 div.sk-parallel-item:first-child::after {align-self: flex-end;width: 50%;}#sk-container-id-9 div.sk-parallel-item:last-child::after {align-self: flex-start;width: 50%;}#sk-container-id-9 div.sk-parallel-item:only-child::after {width: 0;}#sk-container-id-9 div.sk-dashed-wrapped {border: 1px dashed gray;margin: 0 0.4em 0.5em 0.4em;box-sizing: border-box;padding-bottom: 0.4em;background-color: white;}#sk-container-id-9 div.sk-label label {font-family: monospace;font-weight: bold;display: inline-block;line-height: 1.2em;}#sk-container-id-9 div.sk-label-container {text-align: center;}#sk-container-id-9 div.sk-container {/* jupyter's `normalize.less` sets `[hidden] { display: none; }` but bootstrap.min.css set `[hidden] { display: none !important; }` so we also need the `!important` here to be able to override the default hidden behavior on the sphinx rendered scikit-learn.org. See: https://github.com/scikit-learn/scikit-learn/issues/21755 */display: inline-block !important;position: relative;}#sk-container-id-9 div.sk-text-repr-fallback {display: none;}</style><div id=\"sk-container-id-9\" class=\"sk-top-container\"><div class=\"sk-text-repr-fallback\"><pre>RandomForestClassifier(max_depth=10, n_estimators=50)</pre><b>In a Jupyter environment, please rerun this cell to show the HTML representation or trust the notebook. <br />On GitHub, the HTML representation is unable to render, please try loading this page with nbviewer.org.</b></div><div class=\"sk-container\" hidden><div class=\"sk-item\"><div class=\"sk-estimator sk-toggleable\"><input class=\"sk-toggleable__control sk-hidden--visually\" id=\"sk-estimator-id-36\" type=\"checkbox\" checked><label for=\"sk-estimator-id-36\" class=\"sk-toggleable__label sk-toggleable__label-arrow\">RandomForestClassifier</label><div class=\"sk-toggleable__content\"><pre>RandomForestClassifier(max_depth=10, n_estimators=50)</pre></div></div></div></div></div>"
      ],
      "text/plain": [
       "RandomForestClassifier(max_depth=10, n_estimators=50)"
      ]
     },
     "execution_count": 60,
     "metadata": {},
     "output_type": "execute_result"
    }
   ],
   "source": [
    "clf = RandomForestClassifier(max_depth=10, n_estimators=50)\n",
    "clf.fit(X_train, y_train)"
   ]
  },
  {
   "cell_type": "code",
   "execution_count": 61,
   "id": "1816751e-f757-445a-bbdc-8b49e86c41fa",
   "metadata": {},
   "outputs": [],
   "source": [
    "y_predicted = clf.predict(X_test)"
   ]
  },
  {
   "cell_type": "code",
   "execution_count": 62,
   "id": "f62d9d6b-6d7f-475a-b707-a28554b5a2ea",
   "metadata": {},
   "outputs": [
    {
     "name": "stdout",
     "output_type": "stream",
     "text": [
      "r2 score: 0.4814987562189056\n",
      "accuracy score: 0.8739130434782608\n",
      "recall score: 0.9104477611940298\n",
      "precision score: 0.8776978417266187\n"
     ]
    }
   ],
   "source": [
    "#similar scores, use for SFS\n",
    "r2 = r2_score(y_test, y_predicted)\n",
    "acc = accuracy_score(y_test, y_predicted)\n",
    "recal = recall_score(y_test, y_predicted)\n",
    "precision = precision_score(y_test, y_predicted)\n",
    "print('r2 score:', r2)\n",
    "print('accuracy score:', acc)\n",
    "print('recall score:', recal)\n",
    "print('precision score:', precision)"
   ]
  },
  {
   "cell_type": "code",
   "execution_count": 73,
   "id": "1f1998f9-d933-4edb-8664-98e3ea1f9c0f",
   "metadata": {},
   "outputs": [],
   "source": [
    "#use mlxtend SFS\n",
    "from mlxtend.feature_selection import SequentialFeatureSelector as SFS"
   ]
  },
  {
   "cell_type": "code",
   "execution_count": 82,
   "id": "10f7a46c-7e3b-43d8-884c-bab83f73ecb9",
   "metadata": {},
   "outputs": [],
   "source": [
    "sfs = SFS(clf, \n",
    "          k_features=15, \n",
    "          forward=True, \n",
    "          scoring='roc_auc',\n",
    "          verbose=2)"
   ]
  },
  {
   "cell_type": "code",
   "execution_count": 83,
   "id": "8db3ffcd-01f2-41a4-b8ef-de38d65a6280",
   "metadata": {},
   "outputs": [
    {
     "name": "stderr",
     "output_type": "stream",
     "text": [
      "[Parallel(n_jobs=1)]: Using backend SequentialBackend with 1 concurrent workers.\n",
      "[Parallel(n_jobs=1)]: Done   1 out of   1 | elapsed:    0.2s remaining:    0.0s\n",
      "[Parallel(n_jobs=1)]: Done  21 out of  21 | elapsed:    7.2s finished\n",
      "\n",
      "[2022-09-13 17:16:47] Features: 1/15 -- score: 0.7988778283143559[Parallel(n_jobs=1)]: Using backend SequentialBackend with 1 concurrent workers.\n",
      "[Parallel(n_jobs=1)]: Done   1 out of   1 | elapsed:    0.3s remaining:    0.0s\n",
      "[Parallel(n_jobs=1)]: Done  20 out of  20 | elapsed:    7.3s finished\n",
      "\n",
      "[2022-09-13 17:16:54] Features: 2/15 -- score: 0.8718113519701374[Parallel(n_jobs=1)]: Using backend SequentialBackend with 1 concurrent workers.\n",
      "[Parallel(n_jobs=1)]: Done   1 out of   1 | elapsed:    0.3s remaining:    0.0s\n",
      "[Parallel(n_jobs=1)]: Done  19 out of  19 | elapsed:    7.2s finished\n",
      "\n",
      "[2022-09-13 17:17:02] Features: 3/15 -- score: 0.892765927606864[Parallel(n_jobs=1)]: Using backend SequentialBackend with 1 concurrent workers.\n",
      "[Parallel(n_jobs=1)]: Done   1 out of   1 | elapsed:    0.3s remaining:    0.0s\n",
      "[Parallel(n_jobs=1)]: Done  18 out of  18 | elapsed:    6.6s finished\n",
      "\n",
      "[2022-09-13 17:17:08] Features: 4/15 -- score: 0.9056620190324859[Parallel(n_jobs=1)]: Using backend SequentialBackend with 1 concurrent workers.\n",
      "[Parallel(n_jobs=1)]: Done   1 out of   1 | elapsed:    0.3s remaining:    0.0s\n",
      "[Parallel(n_jobs=1)]: Done  17 out of  17 | elapsed:    6.8s finished\n",
      "\n",
      "[2022-09-13 17:17:15] Features: 5/15 -- score: 0.9092600015976675[Parallel(n_jobs=1)]: Using backend SequentialBackend with 1 concurrent workers.\n",
      "[Parallel(n_jobs=1)]: Done   1 out of   1 | elapsed:    0.3s remaining:    0.0s\n",
      "[Parallel(n_jobs=1)]: Done  16 out of  16 | elapsed:    6.1s finished\n",
      "\n",
      "[2022-09-13 17:17:21] Features: 6/15 -- score: 0.9099043821273775[Parallel(n_jobs=1)]: Using backend SequentialBackend with 1 concurrent workers.\n",
      "[Parallel(n_jobs=1)]: Done   1 out of   1 | elapsed:    0.3s remaining:    0.0s\n",
      "[Parallel(n_jobs=1)]: Done  15 out of  15 | elapsed:    5.7s finished\n",
      "\n",
      "[2022-09-13 17:17:27] Features: 7/15 -- score: 0.9079028607285725[Parallel(n_jobs=1)]: Using backend SequentialBackend with 1 concurrent workers.\n",
      "[Parallel(n_jobs=1)]: Done   1 out of   1 | elapsed:    0.3s remaining:    0.0s\n",
      "[Parallel(n_jobs=1)]: Done  14 out of  14 | elapsed:    5.4s finished\n",
      "\n",
      "[2022-09-13 17:17:33] Features: 8/15 -- score: 0.908271318288992[Parallel(n_jobs=1)]: Using backend SequentialBackend with 1 concurrent workers.\n",
      "[Parallel(n_jobs=1)]: Done   1 out of   1 | elapsed:    0.3s remaining:    0.0s\n",
      "[Parallel(n_jobs=1)]: Done  13 out of  13 | elapsed:    5.1s finished\n",
      "\n",
      "[2022-09-13 17:17:38] Features: 9/15 -- score: 0.9046342570285624[Parallel(n_jobs=1)]: Using backend SequentialBackend with 1 concurrent workers.\n",
      "[Parallel(n_jobs=1)]: Done   1 out of   1 | elapsed:    0.3s remaining:    0.0s\n",
      "[Parallel(n_jobs=1)]: Done  12 out of  12 | elapsed:    4.7s finished\n",
      "\n",
      "[2022-09-13 17:17:43] Features: 10/15 -- score: 0.9029215628369516[Parallel(n_jobs=1)]: Using backend SequentialBackend with 1 concurrent workers.\n",
      "[Parallel(n_jobs=1)]: Done   1 out of   1 | elapsed:    0.3s remaining:    0.0s\n",
      "[Parallel(n_jobs=1)]: Done  11 out of  11 | elapsed:    5.5s finished\n",
      "\n",
      "[2022-09-13 17:17:48] Features: 11/15 -- score: 0.8980692169585544[Parallel(n_jobs=1)]: Using backend SequentialBackend with 1 concurrent workers.\n",
      "[Parallel(n_jobs=1)]: Done   1 out of   1 | elapsed:    0.4s remaining:    0.0s\n",
      "[Parallel(n_jobs=1)]: Done  10 out of  10 | elapsed:    4.0s finished\n",
      "\n",
      "[2022-09-13 17:17:52] Features: 12/15 -- score: 0.8972810915322535[Parallel(n_jobs=1)]: Using backend SequentialBackend with 1 concurrent workers.\n",
      "[Parallel(n_jobs=1)]: Done   1 out of   1 | elapsed:    0.3s remaining:    0.0s\n",
      "[Parallel(n_jobs=1)]: Done   9 out of   9 | elapsed:    4.9s finished\n",
      "\n",
      "[2022-09-13 17:17:57] Features: 13/15 -- score: 0.9165127932686868[Parallel(n_jobs=1)]: Using backend SequentialBackend with 1 concurrent workers.\n",
      "[Parallel(n_jobs=1)]: Done   1 out of   1 | elapsed:    0.3s remaining:    0.0s\n",
      "[Parallel(n_jobs=1)]: Done   8 out of   8 | elapsed:    3.4s finished\n",
      "\n",
      "[2022-09-13 17:18:01] Features: 14/15 -- score: 0.9167647512247278[Parallel(n_jobs=1)]: Using backend SequentialBackend with 1 concurrent workers.\n",
      "[Parallel(n_jobs=1)]: Done   1 out of   1 | elapsed:    0.4s remaining:    0.0s\n",
      "[Parallel(n_jobs=1)]: Done   7 out of   7 | elapsed:    2.9s finished\n",
      "\n",
      "[2022-09-13 17:18:04] Features: 15/15 -- score: 0.9197176484068688"
     ]
    }
   ],
   "source": [
    "sfs = sfs.fit(X_train, y_train)"
   ]
  },
  {
   "cell_type": "code",
   "execution_count": 453,
   "id": "940b4881-b5b3-4347-a7f9-7dde61d763e2",
   "metadata": {},
   "outputs": [
    {
     "data": {
      "image/png": "[encoded data removed]",
      "text/plain": [
       "<Figure size 432x288 with 1 Axes>"
      ]
     },
     "metadata": {
      "needs_background": "light"
     },
     "output_type": "display_data"
    }
   ],
   "source": [
    "#around 5 features is where is plateaus until it picks up again around 13, where it puts oldpeak in, so pick the features at 5 + old peak\n",
    "from mlxtend.plotting import plot_sequential_feature_selection as plot_sfs\n",
    "fig1 = plot_sfs(sfs.get_metric_dict(),\n",
    "                kind='std_dev',\n",
    "                figsize=(6, 4))\n",
    "\n",
    "plt.ylim([0.8, 1])\n",
    "plt.title('Sequential Forward Selection')\n",
    "plt.grid()\n",
    "plt.show()"
   ]
  },
  {
   "cell_type": "code",
   "execution_count": 85,
   "id": "a4148719-b9a8-412a-bbc7-6da1f2703717",
   "metadata": {},
   "outputs": [
    {
     "data": {
      "text/plain": [
       "{1: {'feature_idx': (14,),\n",
       "  'cv_scores': array([0.80902704, 0.72389643, 0.82427844, 0.82269198, 0.81449525]),\n",
       "  'avg_score': 0.7988778283143559,\n",
       "  'feature_names': ('ST_Slope_Up',),\n",
       "  'ci_bound': 0.04871040439751283,\n",
       "  'std_dev': 0.03789834947379907,\n",
       "  'std_err': 0.018949174736899534},\n",
       " 2: {'feature_idx': (5, 14),\n",
       "  'cv_scores': array([0.88513945, 0.79244482, 0.90386248, 0.90358067, 0.87402934]),\n",
       "  'avg_score': 0.8718113519701374,\n",
       "  'feature_names': ('ChestPainType_ASY', 'ST_Slope_Up'),\n",
       "  'ci_bound': 0.053050507687156225,\n",
       "  'std_dev': 0.04127509728071502,\n",
       "  'std_err': 0.02063754864035751},\n",
       " 3: {'feature_idx': (5, 14, 16),\n",
       "  'cv_scores': array([0.91473281, 0.82523345, 0.91012309, 0.90142364, 0.91231665]),\n",
       "  'avg_score': 0.892765927606864,\n",
       "  'feature_names': ('ChestPainType_ASY', 'ST_Slope_Up', 'Sex_M'),\n",
       "  'ci_bound': 0.043781611359661673,\n",
       "  'std_dev': 0.03406358104305189,\n",
       "  'std_err': 0.017031790521525945},\n",
       " 4: {'feature_idx': (5, 14, 16, 17),\n",
       "  'cv_scores': array([0.93740686, 0.85356537, 0.93028438, 0.88751079, 0.91954271]),\n",
       "  'avg_score': 0.9056620190324859,\n",
       "  'feature_names': ('ChestPainType_ASY',\n",
       "   'ST_Slope_Up',\n",
       "   'Sex_M',\n",
       "   'FastingBS_0'),\n",
       "  'ci_bound': 0.04003097329579287,\n",
       "  'std_dev': 0.03114545720785969,\n",
       "  'std_err': 0.015572728603929843},\n",
       " 5: {'feature_idx': (5, 14, 16, 17, 20),\n",
       "  'cv_scores': array([0.94656164, 0.8512309 , 0.93314941, 0.90099223, 0.91436583]),\n",
       "  'avg_score': 0.9092600015976675,\n",
       "  'feature_names': ('ChestPainType_ASY',\n",
       "   'ST_Slope_Up',\n",
       "   'Sex_M',\n",
       "   'FastingBS_0',\n",
       "   'ExerciseAngina_Y'),\n",
       "  'ci_bound': 0.0423324085908897,\n",
       "  'std_dev': 0.03293605205476614,\n",
       "  'std_err': 0.016468026027383068},\n",
       " 6: {'feature_idx': (5, 14, 16, 17, 18, 20),\n",
       "  'cv_scores': array([0.94336811, 0.85547538, 0.93230051, 0.90314927, 0.91522865]),\n",
       "  'avg_score': 0.9099043821273775,\n",
       "  'feature_names': ('ChestPainType_ASY',\n",
       "   'ST_Slope_Up',\n",
       "   'Sex_M',\n",
       "   'FastingBS_0',\n",
       "   'FastingBS_1',\n",
       "   'ExerciseAngina_Y'),\n",
       "  'ci_bound': 0.03922939849775125,\n",
       "  'std_dev': 0.030521804782852883,\n",
       "  'std_err': 0.015260902391426441},\n",
       " 7: {'feature_idx': (5, 14, 15, 16, 17, 18, 20),\n",
       "  'cv_scores': array([0.93953587, 0.85101868, 0.93187606, 0.90228645, 0.91479724]),\n",
       "  'avg_score': 0.9079028607285725,\n",
       "  'feature_names': ('ChestPainType_ASY',\n",
       "   'ST_Slope_Up',\n",
       "   'Sex_F',\n",
       "   'Sex_M',\n",
       "   'FastingBS_0',\n",
       "   'FastingBS_1',\n",
       "   'ExerciseAngina_Y'),\n",
       "  'ci_bound': 0.040195914735424776,\n",
       "  'std_dev': 0.031273787251496134,\n",
       "  'std_err': 0.015636893625748067},\n",
       " 8: {'feature_idx': (5, 14, 15, 16, 17, 18, 19, 20),\n",
       "  'cv_scores': array([0.9423036 , 0.8565365 , 0.93017827, 0.90163934, 0.91069888]),\n",
       "  'avg_score': 0.908271318288992,\n",
       "  'feature_names': ('ChestPainType_ASY',\n",
       "   'ST_Slope_Up',\n",
       "   'Sex_F',\n",
       "   'Sex_M',\n",
       "   'FastingBS_0',\n",
       "   'FastingBS_1',\n",
       "   'ExerciseAngina_N',\n",
       "   'ExerciseAngina_Y'),\n",
       "  'ci_bound': 0.03797367083973772,\n",
       "  'std_dev': 0.029544806003722605,\n",
       "  'std_err': 0.014772403001861303},\n",
       " 9: {'feature_idx': (5, 13, 14, 15, 16, 17, 18, 19, 20),\n",
       "  'cv_scores': array([0.94390036, 0.83467742, 0.92848048, 0.89452114, 0.92159189]),\n",
       "  'avg_score': 0.9046342570285624,\n",
       "  'feature_names': ('ChestPainType_ASY',\n",
       "   'ST_Slope_Flat',\n",
       "   'ST_Slope_Up',\n",
       "   'Sex_F',\n",
       "   'Sex_M',\n",
       "   'FastingBS_0',\n",
       "   'FastingBS_1',\n",
       "   'ExerciseAngina_N',\n",
       "   'ExerciseAngina_Y'),\n",
       "  'ci_bound': 0.04942696386650276,\n",
       "  'std_dev': 0.03845585708455352,\n",
       "  'std_err': 0.01922792854227676},\n",
       " 10: {'feature_idx': (5, 12, 13, 14, 15, 16, 17, 18, 19, 20),\n",
       "  'cv_scores': array([0.94453907, 0.83595076, 0.92932937, 0.88578516, 0.91900345]),\n",
       "  'avg_score': 0.9029215628369516,\n",
       "  'feature_names': ('ChestPainType_ASY',\n",
       "   'ST_Slope_Down',\n",
       "   'ST_Slope_Flat',\n",
       "   'ST_Slope_Up',\n",
       "   'Sex_F',\n",
       "   'Sex_M',\n",
       "   'FastingBS_0',\n",
       "   'FastingBS_1',\n",
       "   'ExerciseAngina_N',\n",
       "   'ExerciseAngina_Y'),\n",
       "  'ci_bound': 0.04966867160749384,\n",
       "  'std_dev': 0.03864391391865095,\n",
       "  'std_err': 0.019321956959325478},\n",
       " 11: {'feature_idx': (5, 11, 12, 13, 14, 15, 16, 17, 18, 19, 20),\n",
       "  'cv_scores': array([0.95262934, 0.82268676, 0.90948642, 0.88686368, 0.9186799 ]),\n",
       "  'avg_score': 0.8980692169585544,\n",
       "  'feature_names': ('ChestPainType_ASY',\n",
       "   'RestingECG_ST',\n",
       "   'ST_Slope_Down',\n",
       "   'ST_Slope_Flat',\n",
       "   'ST_Slope_Up',\n",
       "   'Sex_F',\n",
       "   'Sex_M',\n",
       "   'FastingBS_0',\n",
       "   'FastingBS_1',\n",
       "   'ExerciseAngina_N',\n",
       "   'ExerciseAngina_Y'),\n",
       "  'ci_bound': 0.055550858648231054,\n",
       "  'std_dev': 0.0432204552735713,\n",
       "  'std_err': 0.021610227636785648},\n",
       " 12: {'feature_idx': (1, 5, 11, 12, 13, 14, 15, 16, 17, 18, 19, 20),\n",
       "  'cv_scores': array([0.930594  , 0.82735569, 0.90630306, 0.90767903, 0.91447368]),\n",
       "  'avg_score': 0.8972810915322535,\n",
       "  'feature_names': ('RestingBP',\n",
       "   'ChestPainType_ASY',\n",
       "   'RestingECG_ST',\n",
       "   'ST_Slope_Down',\n",
       "   'ST_Slope_Flat',\n",
       "   'ST_Slope_Up',\n",
       "   'Sex_F',\n",
       "   'Sex_M',\n",
       "   'FastingBS_0',\n",
       "   'FastingBS_1',\n",
       "   'ExerciseAngina_N',\n",
       "   'ExerciseAngina_Y'),\n",
       "  'ci_bound': 0.04628621525243568,\n",
       "  'std_dev': 0.0360122479612562,\n",
       "  'std_err': 0.0180061239806281},\n",
       " 13: {'feature_idx': (1, 4, 5, 11, 12, 13, 14, 15, 16, 17, 18, 19, 20),\n",
       "  'cv_scores': array([0.94975516, 0.84634975, 0.93389219, 0.91673857, 0.9358283 ]),\n",
       "  'avg_score': 0.9165127932686868,\n",
       "  'feature_names': ('RestingBP',\n",
       "   'Oldpeak',\n",
       "   'ChestPainType_ASY',\n",
       "   'RestingECG_ST',\n",
       "   'ST_Slope_Down',\n",
       "   'ST_Slope_Flat',\n",
       "   'ST_Slope_Up',\n",
       "   'Sex_F',\n",
       "   'Sex_M',\n",
       "   'FastingBS_0',\n",
       "   'FastingBS_1',\n",
       "   'ExerciseAngina_N',\n",
       "   'ExerciseAngina_Y'),\n",
       "  'ci_bound': 0.04706022676518998,\n",
       "  'std_dev': 0.03661445521389408,\n",
       "  'std_err': 0.018307227606947037},\n",
       " 14: {'feature_idx': (0, 1, 4, 5, 11, 12, 13, 14, 15, 16, 17, 18, 19, 20),\n",
       "  'cv_scores': array([0.94549713, 0.84433362, 0.92826825, 0.92978861, 0.93593615]),\n",
       "  'avg_score': 0.9167647512247278,\n",
       "  'feature_names': ('Age',\n",
       "   'RestingBP',\n",
       "   'Oldpeak',\n",
       "   'ChestPainType_ASY',\n",
       "   'RestingECG_ST',\n",
       "   'ST_Slope_Down',\n",
       "   'ST_Slope_Flat',\n",
       "   'ST_Slope_Up',\n",
       "   'Sex_F',\n",
       "   'Sex_M',\n",
       "   'FastingBS_0',\n",
       "   'FastingBS_1',\n",
       "   'ExerciseAngina_N',\n",
       "   'ExerciseAngina_Y'),\n",
       "  'ci_bound': 0.04719420479522193,\n",
       "  'std_dev': 0.03671869467293296,\n",
       "  'std_err': 0.01835934733646648},\n",
       " 15: {'feature_idx': (0, 1, 4, 5, 6, 11, 12, 13, 14, 15, 16, 17, 18, 19, 20),\n",
       "  'cv_scores': array([0.95018097, 0.84836587, 0.93431664, 0.92515099, 0.94057377]),\n",
       "  'avg_score': 0.9197176484068688,\n",
       "  'feature_names': ('Age',\n",
       "   'RestingBP',\n",
       "   'Oldpeak',\n",
       "   'ChestPainType_ASY',\n",
       "   'ChestPainType_ATA',\n",
       "   'RestingECG_ST',\n",
       "   'ST_Slope_Down',\n",
       "   'ST_Slope_Flat',\n",
       "   'ST_Slope_Up',\n",
       "   'Sex_F',\n",
       "   'Sex_M',\n",
       "   'FastingBS_0',\n",
       "   'FastingBS_1',\n",
       "   'ExerciseAngina_N',\n",
       "   'ExerciseAngina_Y'),\n",
       "  'ci_bound': 0.04703785119370947,\n",
       "  'std_dev': 0.03659704625911053,\n",
       "  'std_err': 0.018298523129555266}}"
      ]
     },
     "execution_count": 85,
     "metadata": {},
     "output_type": "execute_result"
    }
   ],
   "source": [
    "sfs.get_metric_dict()"
   ]
  },
  {
   "cell_type": "code",
   "execution_count": 87,
   "id": "5a2190be-901d-483f-9356-335717289eb7",
   "metadata": {},
   "outputs": [
    {
     "data": {
      "text/plain": [
       "('ChestPainType_ASY',\n",
       " 'ST_Slope_Up',\n",
       " 'Sex_M',\n",
       " 'FastingBS_0',\n",
       " 'ExerciseAngina_Y')"
      ]
     },
     "execution_count": 87,
     "metadata": {},
     "output_type": "execute_result"
    }
   ],
   "source": [
    "sfs.get_metric_dict()[5]['feature_names']"
   ]
  },
  {
   "cell_type": "code",
   "execution_count": 88,
   "id": "ae2eefac-3531-48d2-bf6f-2062a1f0e2b0",
   "metadata": {},
   "outputs": [],
   "source": [
    "#for our final model training, use chest pain type, st slope, sex, fasting blood sugar, exercise angina, and oldpeak"
   ]
  },
  {
   "cell_type": "code",
   "execution_count": 288,
   "id": "d7b4dcd8-33bf-45d0-b348-8482bfb927e3",
   "metadata": {},
   "outputs": [],
   "source": [
    "df = pd.read_csv('../data/sfs_features.csv')"
   ]
  },
  {
   "cell_type": "code",
   "execution_count": 289,
   "id": "3e63e240-5e3e-4506-a408-d51276c8eb6d",
   "metadata": {},
   "outputs": [
    {
     "data": {
      "text/html": [
       "<div>\n",
       "<style scoped>\n",
       "    .dataframe tbody tr th:only-of-type {\n",
       "        vertical-align: middle;\n",
       "    }\n",
       "\n",
       "    .dataframe tbody tr th {\n",
       "        vertical-align: top;\n",
       "    }\n",
       "\n",
       "    .dataframe thead th {\n",
       "        text-align: right;\n",
       "    }\n",
       "</style>\n",
       "<table border=\"1\" class=\"dataframe\">\n",
       "  <thead>\n",
       "    <tr style=\"text-align: right;\">\n",
       "      <th></th>\n",
       "      <th>Sex</th>\n",
       "      <th>ChestPainType</th>\n",
       "      <th>FastingBS</th>\n",
       "      <th>ExerciseAngina</th>\n",
       "      <th>Oldpeak</th>\n",
       "      <th>ST_Slope</th>\n",
       "      <th>HeartDisease</th>\n",
       "    </tr>\n",
       "  </thead>\n",
       "  <tbody>\n",
       "    <tr>\n",
       "      <th>0</th>\n",
       "      <td>M</td>\n",
       "      <td>SYM</td>\n",
       "      <td>0</td>\n",
       "      <td>N</td>\n",
       "      <td>0.0</td>\n",
       "      <td>Up</td>\n",
       "      <td>0</td>\n",
       "    </tr>\n",
       "    <tr>\n",
       "      <th>1</th>\n",
       "      <td>F</td>\n",
       "      <td>SYM</td>\n",
       "      <td>0</td>\n",
       "      <td>N</td>\n",
       "      <td>1.0</td>\n",
       "      <td>Flat</td>\n",
       "      <td>1</td>\n",
       "    </tr>\n",
       "    <tr>\n",
       "      <th>2</th>\n",
       "      <td>M</td>\n",
       "      <td>SYM</td>\n",
       "      <td>0</td>\n",
       "      <td>N</td>\n",
       "      <td>0.0</td>\n",
       "      <td>Up</td>\n",
       "      <td>0</td>\n",
       "    </tr>\n",
       "    <tr>\n",
       "      <th>3</th>\n",
       "      <td>F</td>\n",
       "      <td>ASY</td>\n",
       "      <td>0</td>\n",
       "      <td>Y</td>\n",
       "      <td>1.5</td>\n",
       "      <td>Flat</td>\n",
       "      <td>1</td>\n",
       "    </tr>\n",
       "    <tr>\n",
       "      <th>4</th>\n",
       "      <td>M</td>\n",
       "      <td>SYM</td>\n",
       "      <td>0</td>\n",
       "      <td>N</td>\n",
       "      <td>0.0</td>\n",
       "      <td>Up</td>\n",
       "      <td>0</td>\n",
       "    </tr>\n",
       "  </tbody>\n",
       "</table>\n",
       "</div>"
      ],
      "text/plain": [
       "  Sex ChestPainType  FastingBS ExerciseAngina  Oldpeak ST_Slope  HeartDisease\n",
       "0   M           SYM          0              N      0.0       Up             0\n",
       "1   F           SYM          0              N      1.0     Flat             1\n",
       "2   M           SYM          0              N      0.0       Up             0\n",
       "3   F           ASY          0              Y      1.5     Flat             1\n",
       "4   M           SYM          0              N      0.0       Up             0"
      ]
     },
     "execution_count": 289,
     "metadata": {},
     "output_type": "execute_result"
    }
   ],
   "source": [
    "df.head()"
   ]
  },
  {
   "cell_type": "code",
   "execution_count": 91,
   "id": "9a02f7db-fe8a-40d0-b9ac-fec21997a92b",
   "metadata": {},
   "outputs": [],
   "source": [
    "categorical_preprocessing = Pipeline([('ohe', OneHotEncoder())])\n",
    "numerical_preprocessing = Pipeline([('imputer', KNNImputer(n_neighbors=5))])\n",
    "preprocess = ColumnTransformer([\n",
    "    ('categorical_preprocessing', categorical_preprocessing, ['ChestPainType','ST_Slope','Sex','ExerciseAngina']),\n",
    "    ('numerical_preprocessing', numerical_preprocessing, ['FastingBS','Oldpeak']),\n",
    "    ('scaler', StandardScaler(), ['FastingBS','Oldpeak'])\n",
    "])"
   ]
  },
  {
   "cell_type": "code",
   "execution_count": 115,
   "id": "9668ff99-5818-4226-9899-1d33141b7d36",
   "metadata": {},
   "outputs": [],
   "source": [
    "pipeline_rfc = Pipeline([\n",
    "    ('preprocess', preprocess),\n",
    "    ('rfc', RandomForestClassifier(max_depth=10, n_estimators=50))\n",
    "])"
   ]
  },
  {
   "cell_type": "code",
   "execution_count": 290,
   "id": "70dd8782-b530-40f2-bd42-0b238c3f5efc",
   "metadata": {},
   "outputs": [],
   "source": [
    "X = df.iloc[:,:-1]\n",
    "y = df.iloc[:,-1]\n",
    "X_train, X_test, y_train, y_test = train_test_split(X, y, test_size=0.25)"
   ]
  },
  {
   "cell_type": "code",
   "execution_count": 108,
   "id": "7b0a6bbe-7ab3-4cba-8c0a-4b5d5950c7d1",
   "metadata": {},
   "outputs": [
    {
     "data": {
      "text/html": [
       "<style>#sk-container-id-13 {color: black;background-color: white;}#sk-container-id-13 pre{padding: 0;}#sk-container-id-13 div.sk-toggleable {background-color: white;}#sk-container-id-13 label.sk-toggleable__label {cursor: pointer;display: block;width: 100%;margin-bottom: 0;padding: 0.3em;box-sizing: border-box;text-align: center;}#sk-container-id-13 label.sk-toggleable__label-arrow:before {content: \"▸\";float: left;margin-right: 0.25em;color: #696969;}#sk-container-id-13 label.sk-toggleable__label-arrow:hover:before {color: black;}#sk-container-id-13 div.sk-estimator:hover label.sk-toggleable__label-arrow:before {color: black;}#sk-container-id-13 div.sk-toggleable__content {max-height: 0;max-width: 0;overflow: hidden;text-align: left;background-color: #f0f8ff;}#sk-container-id-13 div.sk-toggleable__content pre {margin: 0.2em;color: black;border-radius: 0.25em;background-color: #f0f8ff;}#sk-container-id-13 input.sk-toggleable__control:checked~div.sk-toggleable__content {max-height: 200px;max-width: 100%;overflow: auto;}#sk-container-id-13 input.sk-toggleable__control:checked~label.sk-toggleable__label-arrow:before {content: \"▾\";}#sk-container-id-13 div.sk-estimator input.sk-toggleable__control:checked~label.sk-toggleable__label {background-color: #d4ebff;}#sk-container-id-13 div.sk-label input.sk-toggleable__control:checked~label.sk-toggleable__label {background-color: #d4ebff;}#sk-container-id-13 input.sk-hidden--visually {border: 0;clip: rect(1px 1px 1px 1px);clip: rect(1px, 1px, 1px, 1px);height: 1px;margin: -1px;overflow: hidden;padding: 0;position: absolute;width: 1px;}#sk-container-id-13 div.sk-estimator {font-family: monospace;background-color: #f0f8ff;border: 1px dotted black;border-radius: 0.25em;box-sizing: border-box;margin-bottom: 0.5em;}#sk-container-id-13 div.sk-estimator:hover {background-color: #d4ebff;}#sk-container-id-13 div.sk-parallel-item::after {content: \"\";width: 100%;border-bottom: 1px solid gray;flex-grow: 1;}#sk-container-id-13 div.sk-label:hover label.sk-toggleable__label {background-color: #d4ebff;}#sk-container-id-13 div.sk-serial::before {content: \"\";position: absolute;border-left: 1px solid gray;box-sizing: border-box;top: 0;bottom: 0;left: 50%;z-index: 0;}#sk-container-id-13 div.sk-serial {display: flex;flex-direction: column;align-items: center;background-color: white;padding-right: 0.2em;padding-left: 0.2em;position: relative;}#sk-container-id-13 div.sk-item {position: relative;z-index: 1;}#sk-container-id-13 div.sk-parallel {display: flex;align-items: stretch;justify-content: center;background-color: white;position: relative;}#sk-container-id-13 div.sk-item::before, #sk-container-id-13 div.sk-parallel-item::before {content: \"\";position: absolute;border-left: 1px solid gray;box-sizing: border-box;top: 0;bottom: 0;left: 50%;z-index: -1;}#sk-container-id-13 div.sk-parallel-item {display: flex;flex-direction: column;z-index: 1;position: relative;background-color: white;}#sk-container-id-13 div.sk-parallel-item:first-child::after {align-self: flex-end;width: 50%;}#sk-container-id-13 div.sk-parallel-item:last-child::after {align-self: flex-start;width: 50%;}#sk-container-id-13 div.sk-parallel-item:only-child::after {width: 0;}#sk-container-id-13 div.sk-dashed-wrapped {border: 1px dashed gray;margin: 0 0.4em 0.5em 0.4em;box-sizing: border-box;padding-bottom: 0.4em;background-color: white;}#sk-container-id-13 div.sk-label label {font-family: monospace;font-weight: bold;display: inline-block;line-height: 1.2em;}#sk-container-id-13 div.sk-label-container {text-align: center;}#sk-container-id-13 div.sk-container {/* jupyter's `normalize.less` sets `[hidden] { display: none; }` but bootstrap.min.css set `[hidden] { display: none !important; }` so we also need the `!important` here to be able to override the default hidden behavior on the sphinx rendered scikit-learn.org. See: https://github.com/scikit-learn/scikit-learn/issues/21755 */display: inline-block !important;position: relative;}#sk-container-id-13 div.sk-text-repr-fallback {display: none;}</style><div id=\"sk-container-id-13\" class=\"sk-top-container\"><div class=\"sk-text-repr-fallback\"><pre>Pipeline(steps=[(&#x27;preprocess&#x27;,\n",
       "                 ColumnTransformer(transformers=[(&#x27;categorical_preprocessing&#x27;,\n",
       "                                                  Pipeline(steps=[(&#x27;ohe&#x27;,\n",
       "                                                                   OneHotEncoder())]),\n",
       "                                                  [&#x27;ChestPainType&#x27;, &#x27;ST_Slope&#x27;,\n",
       "                                                   &#x27;Sex&#x27;, &#x27;ExerciseAngina&#x27;]),\n",
       "                                                 (&#x27;numerical_preprocessing&#x27;,\n",
       "                                                  Pipeline(steps=[(&#x27;imputer&#x27;,\n",
       "                                                                   KNNImputer())]),\n",
       "                                                  [&#x27;FastingBS&#x27;, &#x27;Oldpeak&#x27;]),\n",
       "                                                 (&#x27;scaler&#x27;, StandardScaler(),\n",
       "                                                  [&#x27;FastingBS&#x27;, &#x27;Oldpeak&#x27;])])),\n",
       "                (&#x27;rfc&#x27;, RandomForestClassifier(max_depth=10, n_estimators=50))])</pre><b>In a Jupyter environment, please rerun this cell to show the HTML representation or trust the notebook. <br />On GitHub, the HTML representation is unable to render, please try loading this page with nbviewer.org.</b></div><div class=\"sk-container\" hidden><div class=\"sk-item sk-dashed-wrapped\"><div class=\"sk-label-container\"><div class=\"sk-label sk-toggleable\"><input class=\"sk-toggleable__control sk-hidden--visually\" id=\"sk-estimator-id-64\" type=\"checkbox\" ><label for=\"sk-estimator-id-64\" class=\"sk-toggleable__label sk-toggleable__label-arrow\">Pipeline</label><div class=\"sk-toggleable__content\"><pre>Pipeline(steps=[(&#x27;preprocess&#x27;,\n",
       "                 ColumnTransformer(transformers=[(&#x27;categorical_preprocessing&#x27;,\n",
       "                                                  Pipeline(steps=[(&#x27;ohe&#x27;,\n",
       "                                                                   OneHotEncoder())]),\n",
       "                                                  [&#x27;ChestPainType&#x27;, &#x27;ST_Slope&#x27;,\n",
       "                                                   &#x27;Sex&#x27;, &#x27;ExerciseAngina&#x27;]),\n",
       "                                                 (&#x27;numerical_preprocessing&#x27;,\n",
       "                                                  Pipeline(steps=[(&#x27;imputer&#x27;,\n",
       "                                                                   KNNImputer())]),\n",
       "                                                  [&#x27;FastingBS&#x27;, &#x27;Oldpeak&#x27;]),\n",
       "                                                 (&#x27;scaler&#x27;, StandardScaler(),\n",
       "                                                  [&#x27;FastingBS&#x27;, &#x27;Oldpeak&#x27;])])),\n",
       "                (&#x27;rfc&#x27;, RandomForestClassifier(max_depth=10, n_estimators=50))])</pre></div></div></div><div class=\"sk-serial\"><div class=\"sk-item sk-dashed-wrapped\"><div class=\"sk-label-container\"><div class=\"sk-label sk-toggleable\"><input class=\"sk-toggleable__control sk-hidden--visually\" id=\"sk-estimator-id-65\" type=\"checkbox\" ><label for=\"sk-estimator-id-65\" class=\"sk-toggleable__label sk-toggleable__label-arrow\">preprocess: ColumnTransformer</label><div class=\"sk-toggleable__content\"><pre>ColumnTransformer(transformers=[(&#x27;categorical_preprocessing&#x27;,\n",
       "                                 Pipeline(steps=[(&#x27;ohe&#x27;, OneHotEncoder())]),\n",
       "                                 [&#x27;ChestPainType&#x27;, &#x27;ST_Slope&#x27;, &#x27;Sex&#x27;,\n",
       "                                  &#x27;ExerciseAngina&#x27;]),\n",
       "                                (&#x27;numerical_preprocessing&#x27;,\n",
       "                                 Pipeline(steps=[(&#x27;imputer&#x27;, KNNImputer())]),\n",
       "                                 [&#x27;FastingBS&#x27;, &#x27;Oldpeak&#x27;]),\n",
       "                                (&#x27;scaler&#x27;, StandardScaler(),\n",
       "                                 [&#x27;FastingBS&#x27;, &#x27;Oldpeak&#x27;])])</pre></div></div></div><div class=\"sk-parallel\"><div class=\"sk-parallel-item\"><div class=\"sk-item\"><div class=\"sk-label-container\"><div class=\"sk-label sk-toggleable\"><input class=\"sk-toggleable__control sk-hidden--visually\" id=\"sk-estimator-id-66\" type=\"checkbox\" ><label for=\"sk-estimator-id-66\" class=\"sk-toggleable__label sk-toggleable__label-arrow\">categorical_preprocessing</label><div class=\"sk-toggleable__content\"><pre>[&#x27;ChestPainType&#x27;, &#x27;ST_Slope&#x27;, &#x27;Sex&#x27;, &#x27;ExerciseAngina&#x27;]</pre></div></div></div><div class=\"sk-serial\"><div class=\"sk-item\"><div class=\"sk-serial\"><div class=\"sk-item\"><div class=\"sk-estimator sk-toggleable\"><input class=\"sk-toggleable__control sk-hidden--visually\" id=\"sk-estimator-id-67\" type=\"checkbox\" ><label for=\"sk-estimator-id-67\" class=\"sk-toggleable__label sk-toggleable__label-arrow\">OneHotEncoder</label><div class=\"sk-toggleable__content\"><pre>OneHotEncoder()</pre></div></div></div></div></div></div></div></div><div class=\"sk-parallel-item\"><div class=\"sk-item\"><div class=\"sk-label-container\"><div class=\"sk-label sk-toggleable\"><input class=\"sk-toggleable__control sk-hidden--visually\" id=\"sk-estimator-id-68\" type=\"checkbox\" ><label for=\"sk-estimator-id-68\" class=\"sk-toggleable__label sk-toggleable__label-arrow\">numerical_preprocessing</label><div class=\"sk-toggleable__content\"><pre>[&#x27;FastingBS&#x27;, &#x27;Oldpeak&#x27;]</pre></div></div></div><div class=\"sk-serial\"><div class=\"sk-item\"><div class=\"sk-serial\"><div class=\"sk-item\"><div class=\"sk-estimator sk-toggleable\"><input class=\"sk-toggleable__control sk-hidden--visually\" id=\"sk-estimator-id-69\" type=\"checkbox\" ><label for=\"sk-estimator-id-69\" class=\"sk-toggleable__label sk-toggleable__label-arrow\">KNNImputer</label><div class=\"sk-toggleable__content\"><pre>KNNImputer()</pre></div></div></div></div></div></div></div></div><div class=\"sk-parallel-item\"><div class=\"sk-item\"><div class=\"sk-label-container\"><div class=\"sk-label sk-toggleable\"><input class=\"sk-toggleable__control sk-hidden--visually\" id=\"sk-estimator-id-70\" type=\"checkbox\" ><label for=\"sk-estimator-id-70\" class=\"sk-toggleable__label sk-toggleable__label-arrow\">scaler</label><div class=\"sk-toggleable__content\"><pre>[&#x27;FastingBS&#x27;, &#x27;Oldpeak&#x27;]</pre></div></div></div><div class=\"sk-serial\"><div class=\"sk-item\"><div class=\"sk-estimator sk-toggleable\"><input class=\"sk-toggleable__control sk-hidden--visually\" id=\"sk-estimator-id-71\" type=\"checkbox\" ><label for=\"sk-estimator-id-71\" class=\"sk-toggleable__label sk-toggleable__label-arrow\">StandardScaler</label><div class=\"sk-toggleable__content\"><pre>StandardScaler()</pre></div></div></div></div></div></div></div></div><div class=\"sk-item\"><div class=\"sk-estimator sk-toggleable\"><input class=\"sk-toggleable__control sk-hidden--visually\" id=\"sk-estimator-id-72\" type=\"checkbox\" ><label for=\"sk-estimator-id-72\" class=\"sk-toggleable__label sk-toggleable__label-arrow\">RandomForestClassifier</label><div class=\"sk-toggleable__content\"><pre>RandomForestClassifier(max_depth=10, n_estimators=50)</pre></div></div></div></div></div></div></div>"
      ],
      "text/plain": [
       "Pipeline(steps=[('preprocess',\n",
       "                 ColumnTransformer(transformers=[('categorical_preprocessing',\n",
       "                                                  Pipeline(steps=[('ohe',\n",
       "                                                                   OneHotEncoder())]),\n",
       "                                                  ['ChestPainType', 'ST_Slope',\n",
       "                                                   'Sex', 'ExerciseAngina']),\n",
       "                                                 ('numerical_preprocessing',\n",
       "                                                  Pipeline(steps=[('imputer',\n",
       "                                                                   KNNImputer())]),\n",
       "                                                  ['FastingBS', 'Oldpeak']),\n",
       "                                                 ('scaler', StandardScaler(),\n",
       "                                                  ['FastingBS', 'Oldpeak'])])),\n",
       "                ('rfc', RandomForestClassifier(max_depth=10, n_estimators=50))])"
      ]
     },
     "execution_count": 108,
     "metadata": {},
     "output_type": "execute_result"
    }
   ],
   "source": [
    "pipeline_rfc.fit(X_train, y_train)"
   ]
  },
  {
   "cell_type": "code",
   "execution_count": 109,
   "id": "45cb726f-634a-4b3c-a66b-39e311e0473a",
   "metadata": {},
   "outputs": [],
   "source": [
    "y_predicted=pipeline_rfc.predict(X_test)"
   ]
  },
  {
   "cell_type": "code",
   "execution_count": 110,
   "id": "89568770-97ef-4fd4-9483-0ce0a5e3b335",
   "metadata": {},
   "outputs": [
    {
     "name": "stdout",
     "output_type": "stream",
     "text": [
      "r2 score: 0.4400486914181376\n",
      "accuracy score: 0.8608695652173913\n",
      "recall score: 0.9193548387096774\n",
      "precision score: 0.8382352941176471\n"
     ]
    }
   ],
   "source": [
    "r2 = r2_score(y_test, y_predicted)\n",
    "acc = accuracy_score(y_test, y_predicted)\n",
    "recal = recall_score(y_test, y_predicted)\n",
    "precision = precision_score(y_test, y_predicted)\n",
    "print('r2 score:', r2)\n",
    "print('accuracy score:', acc)\n",
    "print('recall score:', recal)\n",
    "print('precision score:', precision)"
   ]
  },
  {
   "cell_type": "code",
   "execution_count": 111,
   "id": "639246fb-fc2c-4094-91ff-8259a674834e",
   "metadata": {},
   "outputs": [],
   "source": [
    "#92% recall with only 6 features kept"
   ]
  },
  {
   "cell_type": "code",
   "execution_count": 113,
   "id": "15aa38bf-34d6-4614-810b-60a00684abec",
   "metadata": {},
   "outputs": [],
   "source": [
    "categorical_preprocessing = Pipeline([('ohe', OneHotEncoder()), ('imputer', SimpleImputer(missing_values=np.NaN, strategy='median'))])\n",
    "numerical_preprocessing = Pipeline([('imputer', KNNImputer(n_neighbors=5))])\n",
    "preprocess = ColumnTransformer([\n",
    "    ('categorical_preprocessing', categorical_preprocessing, ['ChestPainType','ST_Slope','Sex','ExerciseAngina']),\n",
    "    ('numerical_preprocessing', numerical_preprocessing, ['FastingBS','Oldpeak']),\n",
    "    ('scaler', StandardScaler(), ['FastingBS','Oldpeak'])\n",
    "])"
   ]
  },
  {
   "cell_type": "code",
   "execution_count": 116,
   "id": "608aa49d-9aae-4796-b53a-4c611ff1c3b6",
   "metadata": {},
   "outputs": [],
   "source": [
    "pipeline_rfc_imputer_added = Pipeline([\n",
    "    ('preprocess', preprocess),\n",
    "    ('rfc', RandomForestClassifier(max_depth=10, n_estimators=50))\n",
    "])"
   ]
  },
  {
   "cell_type": "code",
   "execution_count": 117,
   "id": "90372fcc-281b-4de8-bd71-395deab3f170",
   "metadata": {},
   "outputs": [
    {
     "data": {
      "text/html": [
       "<style>#sk-container-id-14 {color: black;background-color: white;}#sk-container-id-14 pre{padding: 0;}#sk-container-id-14 div.sk-toggleable {background-color: white;}#sk-container-id-14 label.sk-toggleable__label {cursor: pointer;display: block;width: 100%;margin-bottom: 0;padding: 0.3em;box-sizing: border-box;text-align: center;}#sk-container-id-14 label.sk-toggleable__label-arrow:before {content: \"▸\";float: left;margin-right: 0.25em;color: #696969;}#sk-container-id-14 label.sk-toggleable__label-arrow:hover:before {color: black;}#sk-container-id-14 div.sk-estimator:hover label.sk-toggleable__label-arrow:before {color: black;}#sk-container-id-14 div.sk-toggleable__content {max-height: 0;max-width: 0;overflow: hidden;text-align: left;background-color: #f0f8ff;}#sk-container-id-14 div.sk-toggleable__content pre {margin: 0.2em;color: black;border-radius: 0.25em;background-color: #f0f8ff;}#sk-container-id-14 input.sk-toggleable__control:checked~div.sk-toggleable__content {max-height: 200px;max-width: 100%;overflow: auto;}#sk-container-id-14 input.sk-toggleable__control:checked~label.sk-toggleable__label-arrow:before {content: \"▾\";}#sk-container-id-14 div.sk-estimator input.sk-toggleable__control:checked~label.sk-toggleable__label {background-color: #d4ebff;}#sk-container-id-14 div.sk-label input.sk-toggleable__control:checked~label.sk-toggleable__label {background-color: #d4ebff;}#sk-container-id-14 input.sk-hidden--visually {border: 0;clip: rect(1px 1px 1px 1px);clip: rect(1px, 1px, 1px, 1px);height: 1px;margin: -1px;overflow: hidden;padding: 0;position: absolute;width: 1px;}#sk-container-id-14 div.sk-estimator {font-family: monospace;background-color: #f0f8ff;border: 1px dotted black;border-radius: 0.25em;box-sizing: border-box;margin-bottom: 0.5em;}#sk-container-id-14 div.sk-estimator:hover {background-color: #d4ebff;}#sk-container-id-14 div.sk-parallel-item::after {content: \"\";width: 100%;border-bottom: 1px solid gray;flex-grow: 1;}#sk-container-id-14 div.sk-label:hover label.sk-toggleable__label {background-color: #d4ebff;}#sk-container-id-14 div.sk-serial::before {content: \"\";position: absolute;border-left: 1px solid gray;box-sizing: border-box;top: 0;bottom: 0;left: 50%;z-index: 0;}#sk-container-id-14 div.sk-serial {display: flex;flex-direction: column;align-items: center;background-color: white;padding-right: 0.2em;padding-left: 0.2em;position: relative;}#sk-container-id-14 div.sk-item {position: relative;z-index: 1;}#sk-container-id-14 div.sk-parallel {display: flex;align-items: stretch;justify-content: center;background-color: white;position: relative;}#sk-container-id-14 div.sk-item::before, #sk-container-id-14 div.sk-parallel-item::before {content: \"\";position: absolute;border-left: 1px solid gray;box-sizing: border-box;top: 0;bottom: 0;left: 50%;z-index: -1;}#sk-container-id-14 div.sk-parallel-item {display: flex;flex-direction: column;z-index: 1;position: relative;background-color: white;}#sk-container-id-14 div.sk-parallel-item:first-child::after {align-self: flex-end;width: 50%;}#sk-container-id-14 div.sk-parallel-item:last-child::after {align-self: flex-start;width: 50%;}#sk-container-id-14 div.sk-parallel-item:only-child::after {width: 0;}#sk-container-id-14 div.sk-dashed-wrapped {border: 1px dashed gray;margin: 0 0.4em 0.5em 0.4em;box-sizing: border-box;padding-bottom: 0.4em;background-color: white;}#sk-container-id-14 div.sk-label label {font-family: monospace;font-weight: bold;display: inline-block;line-height: 1.2em;}#sk-container-id-14 div.sk-label-container {text-align: center;}#sk-container-id-14 div.sk-container {/* jupyter's `normalize.less` sets `[hidden] { display: none; }` but bootstrap.min.css set `[hidden] { display: none !important; }` so we also need the `!important` here to be able to override the default hidden behavior on the sphinx rendered scikit-learn.org. See: https://github.com/scikit-learn/scikit-learn/issues/21755 */display: inline-block !important;position: relative;}#sk-container-id-14 div.sk-text-repr-fallback {display: none;}</style><div id=\"sk-container-id-14\" class=\"sk-top-container\"><div class=\"sk-text-repr-fallback\"><pre>Pipeline(steps=[(&#x27;preprocess&#x27;,\n",
       "                 ColumnTransformer(transformers=[(&#x27;categorical_preprocessing&#x27;,\n",
       "                                                  Pipeline(steps=[(&#x27;ohe&#x27;,\n",
       "                                                                   OneHotEncoder()),\n",
       "                                                                  (&#x27;imputer&#x27;,\n",
       "                                                                   SimpleImputer(strategy=&#x27;median&#x27;))]),\n",
       "                                                  [&#x27;ChestPainType&#x27;, &#x27;ST_Slope&#x27;,\n",
       "                                                   &#x27;Sex&#x27;, &#x27;ExerciseAngina&#x27;]),\n",
       "                                                 (&#x27;numerical_preprocessing&#x27;,\n",
       "                                                  Pipeline(steps=[(&#x27;imputer&#x27;,\n",
       "                                                                   KNNImputer())]),\n",
       "                                                  [&#x27;FastingBS&#x27;, &#x27;Oldpeak&#x27;]),\n",
       "                                                 (&#x27;scaler&#x27;, StandardScaler(),\n",
       "                                                  [&#x27;FastingBS&#x27;, &#x27;Oldpeak&#x27;])])),\n",
       "                (&#x27;rfc&#x27;, RandomForestClassifier(max_depth=10, n_estimators=50))])</pre><b>In a Jupyter environment, please rerun this cell to show the HTML representation or trust the notebook. <br />On GitHub, the HTML representation is unable to render, please try loading this page with nbviewer.org.</b></div><div class=\"sk-container\" hidden><div class=\"sk-item sk-dashed-wrapped\"><div class=\"sk-label-container\"><div class=\"sk-label sk-toggleable\"><input class=\"sk-toggleable__control sk-hidden--visually\" id=\"sk-estimator-id-73\" type=\"checkbox\" ><label for=\"sk-estimator-id-73\" class=\"sk-toggleable__label sk-toggleable__label-arrow\">Pipeline</label><div class=\"sk-toggleable__content\"><pre>Pipeline(steps=[(&#x27;preprocess&#x27;,\n",
       "                 ColumnTransformer(transformers=[(&#x27;categorical_preprocessing&#x27;,\n",
       "                                                  Pipeline(steps=[(&#x27;ohe&#x27;,\n",
       "                                                                   OneHotEncoder()),\n",
       "                                                                  (&#x27;imputer&#x27;,\n",
       "                                                                   SimpleImputer(strategy=&#x27;median&#x27;))]),\n",
       "                                                  [&#x27;ChestPainType&#x27;, &#x27;ST_Slope&#x27;,\n",
       "                                                   &#x27;Sex&#x27;, &#x27;ExerciseAngina&#x27;]),\n",
       "                                                 (&#x27;numerical_preprocessing&#x27;,\n",
       "                                                  Pipeline(steps=[(&#x27;imputer&#x27;,\n",
       "                                                                   KNNImputer())]),\n",
       "                                                  [&#x27;FastingBS&#x27;, &#x27;Oldpeak&#x27;]),\n",
       "                                                 (&#x27;scaler&#x27;, StandardScaler(),\n",
       "                                                  [&#x27;FastingBS&#x27;, &#x27;Oldpeak&#x27;])])),\n",
       "                (&#x27;rfc&#x27;, RandomForestClassifier(max_depth=10, n_estimators=50))])</pre></div></div></div><div class=\"sk-serial\"><div class=\"sk-item sk-dashed-wrapped\"><div class=\"sk-label-container\"><div class=\"sk-label sk-toggleable\"><input class=\"sk-toggleable__control sk-hidden--visually\" id=\"sk-estimator-id-74\" type=\"checkbox\" ><label for=\"sk-estimator-id-74\" class=\"sk-toggleable__label sk-toggleable__label-arrow\">preprocess: ColumnTransformer</label><div class=\"sk-toggleable__content\"><pre>ColumnTransformer(transformers=[(&#x27;categorical_preprocessing&#x27;,\n",
       "                                 Pipeline(steps=[(&#x27;ohe&#x27;, OneHotEncoder()),\n",
       "                                                 (&#x27;imputer&#x27;,\n",
       "                                                  SimpleImputer(strategy=&#x27;median&#x27;))]),\n",
       "                                 [&#x27;ChestPainType&#x27;, &#x27;ST_Slope&#x27;, &#x27;Sex&#x27;,\n",
       "                                  &#x27;ExerciseAngina&#x27;]),\n",
       "                                (&#x27;numerical_preprocessing&#x27;,\n",
       "                                 Pipeline(steps=[(&#x27;imputer&#x27;, KNNImputer())]),\n",
       "                                 [&#x27;FastingBS&#x27;, &#x27;Oldpeak&#x27;]),\n",
       "                                (&#x27;scaler&#x27;, StandardScaler(),\n",
       "                                 [&#x27;FastingBS&#x27;, &#x27;Oldpeak&#x27;])])</pre></div></div></div><div class=\"sk-parallel\"><div class=\"sk-parallel-item\"><div class=\"sk-item\"><div class=\"sk-label-container\"><div class=\"sk-label sk-toggleable\"><input class=\"sk-toggleable__control sk-hidden--visually\" id=\"sk-estimator-id-75\" type=\"checkbox\" ><label for=\"sk-estimator-id-75\" class=\"sk-toggleable__label sk-toggleable__label-arrow\">categorical_preprocessing</label><div class=\"sk-toggleable__content\"><pre>[&#x27;ChestPainType&#x27;, &#x27;ST_Slope&#x27;, &#x27;Sex&#x27;, &#x27;ExerciseAngina&#x27;]</pre></div></div></div><div class=\"sk-serial\"><div class=\"sk-item\"><div class=\"sk-serial\"><div class=\"sk-item\"><div class=\"sk-estimator sk-toggleable\"><input class=\"sk-toggleable__control sk-hidden--visually\" id=\"sk-estimator-id-76\" type=\"checkbox\" ><label for=\"sk-estimator-id-76\" class=\"sk-toggleable__label sk-toggleable__label-arrow\">OneHotEncoder</label><div class=\"sk-toggleable__content\"><pre>OneHotEncoder()</pre></div></div></div><div class=\"sk-item\"><div class=\"sk-estimator sk-toggleable\"><input class=\"sk-toggleable__control sk-hidden--visually\" id=\"sk-estimator-id-77\" type=\"checkbox\" ><label for=\"sk-estimator-id-77\" class=\"sk-toggleable__label sk-toggleable__label-arrow\">SimpleImputer</label><div class=\"sk-toggleable__content\"><pre>SimpleImputer(strategy=&#x27;median&#x27;)</pre></div></div></div></div></div></div></div></div><div class=\"sk-parallel-item\"><div class=\"sk-item\"><div class=\"sk-label-container\"><div class=\"sk-label sk-toggleable\"><input class=\"sk-toggleable__control sk-hidden--visually\" id=\"sk-estimator-id-78\" type=\"checkbox\" ><label for=\"sk-estimator-id-78\" class=\"sk-toggleable__label sk-toggleable__label-arrow\">numerical_preprocessing</label><div class=\"sk-toggleable__content\"><pre>[&#x27;FastingBS&#x27;, &#x27;Oldpeak&#x27;]</pre></div></div></div><div class=\"sk-serial\"><div class=\"sk-item\"><div class=\"sk-serial\"><div class=\"sk-item\"><div class=\"sk-estimator sk-toggleable\"><input class=\"sk-toggleable__control sk-hidden--visually\" id=\"sk-estimator-id-79\" type=\"checkbox\" ><label for=\"sk-estimator-id-79\" class=\"sk-toggleable__label sk-toggleable__label-arrow\">KNNImputer</label><div class=\"sk-toggleable__content\"><pre>KNNImputer()</pre></div></div></div></div></div></div></div></div><div class=\"sk-parallel-item\"><div class=\"sk-item\"><div class=\"sk-label-container\"><div class=\"sk-label sk-toggleable\"><input class=\"sk-toggleable__control sk-hidden--visually\" id=\"sk-estimator-id-80\" type=\"checkbox\" ><label for=\"sk-estimator-id-80\" class=\"sk-toggleable__label sk-toggleable__label-arrow\">scaler</label><div class=\"sk-toggleable__content\"><pre>[&#x27;FastingBS&#x27;, &#x27;Oldpeak&#x27;]</pre></div></div></div><div class=\"sk-serial\"><div class=\"sk-item\"><div class=\"sk-estimator sk-toggleable\"><input class=\"sk-toggleable__control sk-hidden--visually\" id=\"sk-estimator-id-81\" type=\"checkbox\" ><label for=\"sk-estimator-id-81\" class=\"sk-toggleable__label sk-toggleable__label-arrow\">StandardScaler</label><div class=\"sk-toggleable__content\"><pre>StandardScaler()</pre></div></div></div></div></div></div></div></div><div class=\"sk-item\"><div class=\"sk-estimator sk-toggleable\"><input class=\"sk-toggleable__control sk-hidden--visually\" id=\"sk-estimator-id-82\" type=\"checkbox\" ><label for=\"sk-estimator-id-82\" class=\"sk-toggleable__label sk-toggleable__label-arrow\">RandomForestClassifier</label><div class=\"sk-toggleable__content\"><pre>RandomForestClassifier(max_depth=10, n_estimators=50)</pre></div></div></div></div></div></div></div>"
      ],
      "text/plain": [
       "Pipeline(steps=[('preprocess',\n",
       "                 ColumnTransformer(transformers=[('categorical_preprocessing',\n",
       "                                                  Pipeline(steps=[('ohe',\n",
       "                                                                   OneHotEncoder()),\n",
       "                                                                  ('imputer',\n",
       "                                                                   SimpleImputer(strategy='median'))]),\n",
       "                                                  ['ChestPainType', 'ST_Slope',\n",
       "                                                   'Sex', 'ExerciseAngina']),\n",
       "                                                 ('numerical_preprocessing',\n",
       "                                                  Pipeline(steps=[('imputer',\n",
       "                                                                   KNNImputer())]),\n",
       "                                                  ['FastingBS', 'Oldpeak']),\n",
       "                                                 ('scaler', StandardScaler(),\n",
       "                                                  ['FastingBS', 'Oldpeak'])])),\n",
       "                ('rfc', RandomForestClassifier(max_depth=10, n_estimators=50))])"
      ]
     },
     "execution_count": 117,
     "metadata": {},
     "output_type": "execute_result"
    }
   ],
   "source": [
    "pipeline_rfc_imputer_added.fit(X_train, y_train)"
   ]
  },
  {
   "cell_type": "code",
   "execution_count": 468,
   "id": "9c360ccb-f353-425b-a2e1-db1f37993bd7",
   "metadata": {},
   "outputs": [],
   "source": [
    "X = df.iloc[:,:-1]\n",
    "y = df.iloc[:,-1]\n",
    "X_train, X_test, y_train, y_test = train_test_split(X, y, test_size=0.25)"
   ]
  },
  {
   "cell_type": "code",
   "execution_count": 469,
   "id": "2f19f846-ee4a-4994-9b81-385207667900",
   "metadata": {},
   "outputs": [
    {
     "name": "stdout",
     "output_type": "stream",
     "text": [
      "r2 score: 0.5787545787545787\n",
      "accuracy score: 0.8956521739130435\n",
      "recall score: 0.9126984126984127\n",
      "precision score: 0.8984375\n"
     ]
    }
   ],
   "source": [
    "y_predicted_imputer=pipeline_rfc_imputer_added.predict(X_test)\n",
    "r2 = r2_score(y_test, y_predicted_imputer)\n",
    "acc = accuracy_score(y_test, y_predicted_imputer)\n",
    "recal = recall_score(y_test, y_predicted_imputer)\n",
    "precision = precision_score(y_test, y_predicted_imputer)\n",
    "print('r2 score:', r2)\n",
    "print('accuracy score:', acc)\n",
    "print('recall score:', recal)\n",
    "print('precision score:', precision)"
   ]
  },
  {
   "cell_type": "code",
   "execution_count": 121,
   "id": "316b7a88-f5a8-4830-a625-a618a65ff05b",
   "metadata": {},
   "outputs": [],
   "source": [
    "#now it can take in any nan values and fill numericals with knnimputer or categorical with median"
   ]
  },
  {
   "cell_type": "code",
   "execution_count": 122,
   "id": "a045a4ef-5824-441e-a0d0-b097cdbb2ec1",
   "metadata": {},
   "outputs": [],
   "source": [
    "pickle.dump(pipeline_rfc_imputer_added, open( \"../models/final_pipeline\", \"wb\" ) )"
   ]
  },
  {
   "cell_type": "code",
   "execution_count": 240,
   "id": "70d5da60-d7ca-4da7-8e77-ba76379da8d4",
   "metadata": {},
   "outputs": [],
   "source": [
    "from sklearn.model_selection import cross_validate"
   ]
  },
  {
   "cell_type": "code",
   "execution_count": 241,
   "id": "3583e85e-e444-4c38-a4fe-72c7b39ed140",
   "metadata": {},
   "outputs": [],
   "source": [
    "cv = cross_validate(pipeline_rfc_imputer_added, X_test, y_test, cv=5, scoring = 'recall')"
   ]
  },
  {
   "cell_type": "code",
   "execution_count": 242,
   "id": "0d405bd3-9da6-485e-b2ba-31e017e8d873",
   "metadata": {},
   "outputs": [
    {
     "name": "stdout",
     "output_type": "stream",
     "text": [
      "0.8546666666666667\n"
     ]
    }
   ],
   "source": [
    "print(cv['test_score'].mean())"
   ]
  },
  {
   "cell_type": "code",
   "execution_count": 243,
   "id": "26ac7e56-257e-4cab-87e2-61595481034c",
   "metadata": {},
   "outputs": [],
   "source": [
    "baseline_model = pickle.load(open( \"../models/baseline_pipeline\", \"rb\" ) )"
   ]
  },
  {
   "cell_type": "code",
   "execution_count": 244,
   "id": "c7a17013-fe73-42ba-9a18-f7baeeee7522",
   "metadata": {},
   "outputs": [],
   "source": [
    "#baseline used initial df\n",
    "df = pd.read_csv('../data/cleaned_heart.csv')\n",
    "X = df.iloc[:,:-1]\n",
    "y = df.iloc[:,-1]\n",
    "X_train, X_test, y_train, y_test = train_test_split(X, y, test_size=0.25)"
   ]
  },
  {
   "cell_type": "code",
   "execution_count": 245,
   "id": "9506efce-0de8-478b-b1bb-32e0789e3123",
   "metadata": {},
   "outputs": [],
   "source": [
    "cv = cross_validate(baseline_model, X_test, y_test, cv=5, scoring = 'recall')"
   ]
  },
  {
   "cell_type": "code",
   "execution_count": 246,
   "id": "8b0efa9c-15dd-4196-b58c-e1118507c71e",
   "metadata": {},
   "outputs": [
    {
     "name": "stdout",
     "output_type": "stream",
     "text": [
      "0.8192028985507246\n"
     ]
    }
   ],
   "source": [
    "print(cv['test_score'].mean())"
   ]
  },
  {
   "cell_type": "code",
   "execution_count": 360,
   "id": "0e037344-8335-418e-8b28-722bab1ca94e",
   "metadata": {},
   "outputs": [],
   "source": [
    "df_feat_removed = pd.read_csv('../data/features_removed_heart.csv')"
   ]
  },
  {
   "cell_type": "code",
   "execution_count": 426,
   "id": "9ef71fc6-d8dd-4348-bbab-6bc1318c8aee",
   "metadata": {},
   "outputs": [
    {
     "data": {
      "text/html": [
       "<div>\n",
       "<style scoped>\n",
       "    .dataframe tbody tr th:only-of-type {\n",
       "        vertical-align: middle;\n",
       "    }\n",
       "\n",
       "    .dataframe tbody tr th {\n",
       "        vertical-align: top;\n",
       "    }\n",
       "\n",
       "    .dataframe thead th {\n",
       "        text-align: right;\n",
       "    }\n",
       "</style>\n",
       "<table border=\"1\" class=\"dataframe\">\n",
       "  <thead>\n",
       "    <tr style=\"text-align: right;\">\n",
       "      <th></th>\n",
       "      <th>Age</th>\n",
       "      <th>ChestPainType</th>\n",
       "      <th>RestingBP</th>\n",
       "      <th>Cholesterol</th>\n",
       "      <th>MaxHR</th>\n",
       "      <th>ExerciseAngina</th>\n",
       "      <th>Oldpeak</th>\n",
       "      <th>ST_Slope</th>\n",
       "      <th>HeartDisease</th>\n",
       "    </tr>\n",
       "  </thead>\n",
       "  <tbody>\n",
       "    <tr>\n",
       "      <th>0</th>\n",
       "      <td>40</td>\n",
       "      <td>SYM</td>\n",
       "      <td>140.0</td>\n",
       "      <td>289.0</td>\n",
       "      <td>172</td>\n",
       "      <td>N</td>\n",
       "      <td>0.0</td>\n",
       "      <td>Up</td>\n",
       "      <td>0</td>\n",
       "    </tr>\n",
       "    <tr>\n",
       "      <th>1</th>\n",
       "      <td>49</td>\n",
       "      <td>SYM</td>\n",
       "      <td>160.0</td>\n",
       "      <td>180.0</td>\n",
       "      <td>156</td>\n",
       "      <td>N</td>\n",
       "      <td>1.0</td>\n",
       "      <td>Flat</td>\n",
       "      <td>1</td>\n",
       "    </tr>\n",
       "    <tr>\n",
       "      <th>2</th>\n",
       "      <td>37</td>\n",
       "      <td>SYM</td>\n",
       "      <td>130.0</td>\n",
       "      <td>283.0</td>\n",
       "      <td>98</td>\n",
       "      <td>N</td>\n",
       "      <td>0.0</td>\n",
       "      <td>Up</td>\n",
       "      <td>0</td>\n",
       "    </tr>\n",
       "    <tr>\n",
       "      <th>3</th>\n",
       "      <td>48</td>\n",
       "      <td>ASY</td>\n",
       "      <td>138.0</td>\n",
       "      <td>214.0</td>\n",
       "      <td>108</td>\n",
       "      <td>Y</td>\n",
       "      <td>1.5</td>\n",
       "      <td>Flat</td>\n",
       "      <td>1</td>\n",
       "    </tr>\n",
       "    <tr>\n",
       "      <th>4</th>\n",
       "      <td>54</td>\n",
       "      <td>SYM</td>\n",
       "      <td>150.0</td>\n",
       "      <td>195.0</td>\n",
       "      <td>122</td>\n",
       "      <td>N</td>\n",
       "      <td>0.0</td>\n",
       "      <td>Up</td>\n",
       "      <td>0</td>\n",
       "    </tr>\n",
       "  </tbody>\n",
       "</table>\n",
       "</div>"
      ],
      "text/plain": [
       "   Age ChestPainType  RestingBP  Cholesterol  MaxHR ExerciseAngina  Oldpeak  \\\n",
       "0   40           SYM      140.0        289.0    172              N      0.0   \n",
       "1   49           SYM      160.0        180.0    156              N      1.0   \n",
       "2   37           SYM      130.0        283.0     98              N      0.0   \n",
       "3   48           ASY      138.0        214.0    108              Y      1.5   \n",
       "4   54           SYM      150.0        195.0    122              N      0.0   \n",
       "\n",
       "  ST_Slope  HeartDisease  \n",
       "0       Up             0  \n",
       "1     Flat             1  \n",
       "2       Up             0  \n",
       "3     Flat             1  \n",
       "4       Up             0  "
      ]
     },
     "execution_count": 426,
     "metadata": {},
     "output_type": "execute_result"
    }
   ],
   "source": [
    "df_feat_removed.head()"
   ]
  },
  {
   "cell_type": "code",
   "execution_count": 361,
   "id": "ea3cbd2b-3794-491f-a7d4-9fe0c8833ba1",
   "metadata": {},
   "outputs": [],
   "source": [
    "feat_removed_model = pickle.load(open( \"../models/features_removed_rfc_pipeline\", \"rb\" ) )"
   ]
  },
  {
   "cell_type": "code",
   "execution_count": 447,
   "id": "3838361d-2647-490c-85ea-96c3ed0352a6",
   "metadata": {},
   "outputs": [],
   "source": [
    "X = df_feat_removed.iloc[:,:-1]\n",
    "y = df_feat_removed.iloc[:,-1]\n",
    "X_train, X_test, y_train, y_test = train_test_split(X, y, test_size=0.25)"
   ]
  },
  {
   "cell_type": "code",
   "execution_count": 448,
   "id": "0866abf4-62da-48be-8dd2-b1aac2fb9c3f",
   "metadata": {},
   "outputs": [],
   "source": [
    "y_predicted_feat_removed=feat_removed_model.predict(X_test)"
   ]
  },
  {
   "cell_type": "code",
   "execution_count": 449,
   "id": "a244c4f4-63ae-4085-a1a0-a74ed92d81a7",
   "metadata": {},
   "outputs": [
    {
     "name": "stdout",
     "output_type": "stream",
     "text": [
      "r2 score: 0.9293882876659759\n",
      "accuracy score: 0.9826086956521739\n",
      "recall score: 0.9767441860465116\n",
      "precision score: 0.9921259842519685\n"
     ]
    }
   ],
   "source": [
    "r2 = r2_score(y_test, y_predicted_feat_removed)\n",
    "acc = accuracy_score(y_test, y_predicted_feat_removed)\n",
    "recal = recall_score(y_test, y_predicted_feat_removed)\n",
    "precision = precision_score(y_test, y_predicted_feat_removed)\n",
    "print('r2 score:', r2)\n",
    "print('accuracy score:', acc)\n",
    "print('recall score:', recal)\n",
    "print('precision score:', precision)"
   ]
  },
  {
   "cell_type": "code",
   "execution_count": 429,
   "id": "78acfde2-5249-4bee-8176-f3fd65fd41be",
   "metadata": {},
   "outputs": [],
   "source": [
    "cv = cross_validate(feat_removed_model, X_test, y_test, cv=5, scoring = 'recall')"
   ]
  },
  {
   "cell_type": "code",
   "execution_count": 430,
   "id": "b5b9be07-1d8a-40a7-b7f8-f4d379e01d4a",
   "metadata": {},
   "outputs": [
    {
     "name": "stdout",
     "output_type": "stream",
     "text": [
      "0.9088319088319089\n"
     ]
    }
   ],
   "source": [
    "print(cv['test_score'].mean())"
   ]
  },
  {
   "cell_type": "code",
   "execution_count": 251,
   "id": "88b28725-53b0-4b28-8587-7b266b51384a",
   "metadata": {},
   "outputs": [
    {
     "data": {
      "text/html": [
       "<div>\n",
       "<style scoped>\n",
       "    .dataframe tbody tr th:only-of-type {\n",
       "        vertical-align: middle;\n",
       "    }\n",
       "\n",
       "    .dataframe tbody tr th {\n",
       "        vertical-align: top;\n",
       "    }\n",
       "\n",
       "    .dataframe thead th {\n",
       "        text-align: right;\n",
       "    }\n",
       "</style>\n",
       "<table border=\"1\" class=\"dataframe\">\n",
       "  <thead>\n",
       "    <tr style=\"text-align: right;\">\n",
       "      <th></th>\n",
       "      <th>Sex</th>\n",
       "      <th>ChestPainType</th>\n",
       "      <th>FastingBS</th>\n",
       "      <th>ExerciseAngina</th>\n",
       "      <th>Oldpeak</th>\n",
       "      <th>ST_Slope</th>\n",
       "      <th>HeartDisease</th>\n",
       "    </tr>\n",
       "  </thead>\n",
       "  <tbody>\n",
       "    <tr>\n",
       "      <th>0</th>\n",
       "      <td>M</td>\n",
       "      <td>SYM</td>\n",
       "      <td>0</td>\n",
       "      <td>N</td>\n",
       "      <td>0.0</td>\n",
       "      <td>Up</td>\n",
       "      <td>0</td>\n",
       "    </tr>\n",
       "    <tr>\n",
       "      <th>1</th>\n",
       "      <td>F</td>\n",
       "      <td>SYM</td>\n",
       "      <td>0</td>\n",
       "      <td>N</td>\n",
       "      <td>1.0</td>\n",
       "      <td>Flat</td>\n",
       "      <td>1</td>\n",
       "    </tr>\n",
       "    <tr>\n",
       "      <th>2</th>\n",
       "      <td>M</td>\n",
       "      <td>SYM</td>\n",
       "      <td>0</td>\n",
       "      <td>N</td>\n",
       "      <td>0.0</td>\n",
       "      <td>Up</td>\n",
       "      <td>0</td>\n",
       "    </tr>\n",
       "    <tr>\n",
       "      <th>3</th>\n",
       "      <td>F</td>\n",
       "      <td>ASY</td>\n",
       "      <td>0</td>\n",
       "      <td>Y</td>\n",
       "      <td>1.5</td>\n",
       "      <td>Flat</td>\n",
       "      <td>1</td>\n",
       "    </tr>\n",
       "    <tr>\n",
       "      <th>4</th>\n",
       "      <td>M</td>\n",
       "      <td>SYM</td>\n",
       "      <td>0</td>\n",
       "      <td>N</td>\n",
       "      <td>0.0</td>\n",
       "      <td>Up</td>\n",
       "      <td>0</td>\n",
       "    </tr>\n",
       "  </tbody>\n",
       "</table>\n",
       "</div>"
      ],
      "text/plain": [
       "  Sex ChestPainType  FastingBS ExerciseAngina  Oldpeak ST_Slope  HeartDisease\n",
       "0   M           SYM          0              N      0.0       Up             0\n",
       "1   F           SYM          0              N      1.0     Flat             1\n",
       "2   M           SYM          0              N      0.0       Up             0\n",
       "3   F           ASY          0              Y      1.5     Flat             1\n",
       "4   M           SYM          0              N      0.0       Up             0"
      ]
     },
     "execution_count": 251,
     "metadata": {},
     "output_type": "execute_result"
    }
   ],
   "source": [
    "df.head()"
   ]
  },
  {
   "cell_type": "code",
   "execution_count": 270,
   "id": "038939ca-b240-4c82-b138-c2977c672a87",
   "metadata": {},
   "outputs": [],
   "source": [
    "want_pred = {'Sex':['M'],'ChestPainType':['SYM'],'FastingBS':[0],'ExerciseAngina':['N'],'Oldpeak':[0.0],'ST_Slope':['Up']}"
   ]
  },
  {
   "cell_type": "code",
   "execution_count": 272,
   "id": "2b187970-0999-486b-85ae-a27d12133951",
   "metadata": {},
   "outputs": [],
   "source": [
    "want_pred = pd.DataFrame.from_dict(want_pred)"
   ]
  },
  {
   "cell_type": "code",
   "execution_count": 262,
   "id": "b929b13e-745d-4195-a180-b468f2c7d304",
   "metadata": {},
   "outputs": [],
   "source": [
    "array_want_pred = np.array(want_pred)"
   ]
  },
  {
   "cell_type": "code",
   "execution_count": 279,
   "id": "8f584765-17d4-4792-918f-f2b2b50007ca",
   "metadata": {},
   "outputs": [],
   "source": [
    "predi=pipeline_rfc_imputer_added.predict_proba(want_pred)"
   ]
  },
  {
   "cell_type": "code",
   "execution_count": 284,
   "id": "492338e5-f829-4542-99a4-f5c078e08855",
   "metadata": {},
   "outputs": [
    {
     "data": {
      "text/plain": [
       "0.9626839761022359"
      ]
     },
     "execution_count": 284,
     "metadata": {},
     "output_type": "execute_result"
    }
   ],
   "source": [
    "predi[0][0]"
   ]
  },
  {
   "cell_type": "code",
   "execution_count": 291,
   "id": "2636d174-88b9-4cb4-a355-3492a705a29b",
   "metadata": {},
   "outputs": [],
   "source": [
    "y_predicted_imputer=pipeline_rfc_imputer_added.predict(X_test)"
   ]
  },
  {
   "cell_type": "code",
   "execution_count": 293,
   "id": "8a33b1b0-0b47-42c3-a3c2-bc1be48612f4",
   "metadata": {},
   "outputs": [
    {
     "data": {
      "text/plain": [
       "Text(0.5, 1.0, 'Confusion matrix')"
      ]
     },
     "execution_count": 293,
     "metadata": {},
     "output_type": "execute_result"
    },
    {
     "data": {
      "image/png": "[encoded data removed]",
      "text/plain": [
       "<Figure size 432x288 with 2 Axes>"
      ]
     },
     "metadata": {
      "needs_background": "light"
     },
     "output_type": "display_data"
    }
   ],
   "source": [
    "C = confusion_matrix(y_test, y_predicted_imputer)\n",
    "labels = [0,1]\n",
    "cmap=sns.light_palette(\"green\")\n",
    "sns.heatmap(C, annot=True, cmap=cmap, fmt=\".3f\", xticklabels=labels, yticklabels=labels)\n",
    "plt.xlabel('Predicted Class')\n",
    "plt.ylabel('Original Class')\n",
    "plt.title(\"Confusion matrix\")"
   ]
  },
  {
   "cell_type": "code",
   "execution_count": 450,
   "id": "36f2e886-e239-4c88-8ea5-3d53da57d9bd",
   "metadata": {},
   "outputs": [
    {
     "data": {
      "text/plain": [
       "Text(0.5, 1.0, 'Confusion matrix')"
      ]
     },
     "execution_count": 450,
     "metadata": {},
     "output_type": "execute_result"
    },
    {
     "data": {
      "image/png": "[encoded data removed]",
      "text/plain": [
       "<Figure size 432x288 with 2 Axes>"
      ]
     },
     "metadata": {
      "needs_background": "light"
     },
     "output_type": "display_data"
    }
   ],
   "source": [
    "C = confusion_matrix(y_test, y_predicted_feat_removed)\n",
    "labels = [0,1]\n",
    "cmap=sns.light_palette(\"green\")\n",
    "sns.heatmap(C, annot=True, cmap=cmap, fmt=\".3f\", xticklabels=labels, yticklabels=labels)\n",
    "plt.xlabel('Predicted Class')\n",
    "plt.ylabel('Original Class')\n",
    "plt.title(\"Confusion matrix\")"
   ]
  },
  {
   "cell_type": "code",
   "execution_count": 305,
   "id": "868ac74a-3e01-4f2f-b73e-b3fc085727d0",
   "metadata": {},
   "outputs": [
    {
     "data": {
      "text/plain": [
       "{0: 92, 1: 138}"
      ]
     },
     "execution_count": 305,
     "metadata": {},
     "output_type": "execute_result"
    }
   ],
   "source": [
    "unique, counts = np.unique(y_predicted_imputer, return_counts=True)\n",
    "dict(zip(unique, counts))"
   ]
  },
  {
   "cell_type": "code",
   "execution_count": 302,
   "id": "fe688cd7-1875-456f-b4d5-1ac7584063ef",
   "metadata": {},
   "outputs": [
    {
     "data": {
      "image/png": "[encoded data removed]",
      "text/plain": [
       "<Figure size 432x288 with 1 Axes>"
      ]
     },
     "metadata": {
      "needs_background": "light"
     },
     "output_type": "display_data"
    }
   ],
   "source": [
    "#get auc, helps know how good model is\n",
    "from sklearn import metrics\n",
    "y_pred_proba = pipeline_rfc_imputer_added.predict_proba(X_test)[::,1]\n",
    "fpr, tpr, _ = metrics.roc_curve(y_test,  y_pred_proba)\n",
    "auc = metrics.roc_auc_score(y_test, y_pred_proba)\n",
    "\n",
    "\n",
    "plt.plot(fpr,tpr,label=\"AUC=\"+str(auc))\n",
    "plt.ylabel('True Positive Rate')\n",
    "plt.xlabel('False Positive Rate')\n",
    "plt.legend(loc=4)\n",
    "plt.show()"
   ]
  },
  {
   "cell_type": "code",
   "execution_count": 451,
   "id": "244f9a01-b024-41ef-96ce-eda15f8f1110",
   "metadata": {},
   "outputs": [
    {
     "data": {
      "image/png": "[encoded data removed]",
      "text/plain": [
       "<Figure size 432x288 with 1 Axes>"
      ]
     },
     "metadata": {
      "needs_background": "light"
     },
     "output_type": "display_data"
    }
   ],
   "source": [
    "#get auc, helps know how good model is\n",
    "from sklearn import metrics\n",
    "y_pred_proba = feat_removed_model.predict_proba(X_test)[::,1]\n",
    "fpr, tpr, _ = metrics.roc_curve(y_test, y_pred_proba)\n",
    "auc = metrics.roc_auc_score(y_test, y_pred_proba)\n",
    "\n",
    "\n",
    "plt.plot(fpr,tpr,label=\"AUC=\"+str(auc))\n",
    "plt.ylabel('True Positive Rate')\n",
    "plt.xlabel('False Positive Rate')\n",
    "plt.legend(loc=4)\n",
    "plt.show()"
   ]
  },
  {
   "cell_type": "code",
   "execution_count": 470,
   "id": "25491278-7889-487b-ab66-78a1f31cf549",
   "metadata": {},
   "outputs": [],
   "source": [
    "pickle.dump(feat_removed_model, open( \"../models/feat_imp_final_pipeline\", \"wb\" ) )"
   ]
  },
  {
   "cell_type": "code",
   "execution_count": 304,
   "id": "d9b0f70e-cd0a-41fd-be99-abbc3442b3c3",
   "metadata": {},
   "outputs": [
    {
     "data": {
      "text/plain": [
       "2.5529008464686247"
      ]
     },
     "execution_count": 304,
     "metadata": {},
     "output_type": "execute_result"
    }
   ],
   "source": [
    "from sklearn.metrics import log_loss\n",
    "log_loss(y_test, y_predicted_imputer)"
   ]
  },
  {
   "cell_type": "code",
   "execution_count": 452,
   "id": "af366f8f-bc4c-42be-9ea6-699602f0e29f",
   "metadata": {},
   "outputs": [
    {
     "data": {
      "text/plain": [
       "0.6006778485959701"
      ]
     },
     "execution_count": 452,
     "metadata": {},
     "output_type": "execute_result"
    }
   ],
   "source": [
    "from sklearn.metrics import log_loss\n",
    "log_loss(y_test, y_predicted_feat_removed)"
   ]
  },
  {
   "cell_type": "code",
   "execution_count": null,
   "id": "ba46f3ec-7e3d-4780-aac5-2ced6024c5ad",
   "metadata": {},
   "outputs": [],
   "source": []
  }
 ],
 "metadata": {
  "kernelspec": {
   "display_name": "Python 3 (ipykernel)",
   "language": "python",
   "name": "python3"
  },
  "language_info": {
   "codemirror_mode": {
    "name": "ipython",
    "version": 3
   },
   "file_extension": ".py",
   "mimetype": "text/x-python",
   "name": "python",
   "nbconvert_exporter": "python",
   "pygments_lexer": "ipython3",
   "version": "3.9.12"
  }
 },
 "nbformat": 4,
 "nbformat_minor": 5
}
